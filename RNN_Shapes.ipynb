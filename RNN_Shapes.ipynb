{
  "nbformat": 4,
  "nbformat_minor": 0,
  "metadata": {
    "colab": {
      "name": "RNN Shapes.ipynb",
      "provenance": [],
      "authorship_tag": "ABX9TyPul/2a2Ixy/Y07j0N0LylE",
      "include_colab_link": true
    },
    "kernelspec": {
      "name": "python3",
      "display_name": "Python 3"
    }
  },
  "cells": [
    {
      "cell_type": "markdown",
      "metadata": {
        "id": "view-in-github",
        "colab_type": "text"
      },
      "source": [
        "<a href=\"https://colab.research.google.com/github/exponentialR/DeepLearningFundamentals/blob/main/RNN_Shapes.ipynb\" target=\"_parent\"><img src=\"https://colab.research.google.com/assets/colab-badge.svg\" alt=\"Open In Colab\"/></a>"
      ]
    },
    {
      "cell_type": "code",
      "metadata": {
        "id": "vPglia3oM4Os"
      },
      "source": [
        "\n",
        "import tensorflow as tf "
      ],
      "execution_count": 18,
      "outputs": []
    },
    {
      "cell_type": "code",
      "metadata": {
        "id": "oVCn37e0NBZy"
      },
      "source": [
        "from tensorflow.keras.layers import Input, SimpleRNN, Dense, Flatten\n",
        "from tensorflow.keras.models import Model \n",
        "from tensorflow.keras.optimizers import SGD, Adam \n",
        "\n",
        "import numpy as np \n",
        "import pandas as pd\n",
        "import matplotlib.pyplot as plt\n"
      ],
      "execution_count": 66,
      "outputs": []
    },
    {
      "cell_type": "code",
      "metadata": {
        "id": "uVKsombYRYtm"
      },
      "source": [
        "# make the data \n",
        "\n",
        "N = 1 \n",
        "T = 10 \n",
        "D = 3 \n",
        "K = 2 \n",
        "X = np.random.randn(N, T, D)"
      ],
      "execution_count": 67,
      "outputs": []
    },
    {
      "cell_type": "code",
      "metadata": {
        "id": "0bg1xSQtRkuy"
      },
      "source": [
        "#Make an RNN\n",
        "M = 5 \n",
        "shape = (T, D)\n",
        "i = Input(shape =(T, D))\n",
        "x = SimpleRNN(M) (i)\n",
        "x = Dense(K) (x)\n",
        "\n",
        "model = Model(i, x)"
      ],
      "execution_count": 68,
      "outputs": []
    },
    {
      "cell_type": "code",
      "metadata": {
        "id": "9z-L-ZrHR97e",
        "outputId": "b7a618a1-d9ad-4e2c-c8cb-680d557a7bd5",
        "colab": {
          "base_uri": "https://localhost:8080/"
        }
      },
      "source": [
        "# make a prediction \n",
        "Yhat = model.predict (X)\n",
        "print(Yhat)"
      ],
      "execution_count": 69,
      "outputs": [
        {
          "output_type": "stream",
          "text": [
            "[[-0.6892305  0.9529061]]\n"
          ],
          "name": "stdout"
        }
      ]
    },
    {
      "cell_type": "code",
      "metadata": {
        "id": "IRs5T_frTwPZ",
        "outputId": "367698b5-af47-48ba-bfbc-3381024bf146",
        "colab": {
          "base_uri": "https://localhost:8080/"
        }
      },
      "source": [
        "#Do a model summary\n",
        "\n",
        "model.summary()"
      ],
      "execution_count": 70,
      "outputs": [
        {
          "output_type": "stream",
          "text": [
            "Model: \"functional_3\"\n",
            "_________________________________________________________________\n",
            "Layer (type)                 Output Shape              Param #   \n",
            "=================================================================\n",
            "input_2 (InputLayer)         [(None, 10, 3)]           0         \n",
            "_________________________________________________________________\n",
            "simple_rnn_1 (SimpleRNN)     (None, 5)                 45        \n",
            "_________________________________________________________________\n",
            "dense_1 (Dense)              (None, 2)                 12        \n",
            "=================================================================\n",
            "Total params: 57\n",
            "Trainable params: 57\n",
            "Non-trainable params: 0\n",
            "_________________________________________________________________\n"
          ],
          "name": "stdout"
        }
      ]
    },
    {
      "cell_type": "code",
      "metadata": {
        "id": "l5MSxemhUPAI",
        "outputId": "b9195ea5-3ad8-41dd-9902-49e26e9657b6",
        "colab": {
          "base_uri": "https://localhost:8080/"
        }
      },
      "source": [
        "model.layers[1].get_weights()"
      ],
      "execution_count": 71,
      "outputs": [
        {
          "output_type": "execute_result",
          "data": {
            "text/plain": [
              "[array([[-0.09467649, -0.10452831,  0.8230737 ,  0.24295396, -0.677675  ],\n",
              "        [ 0.57254106, -0.56046486,  0.74381155, -0.18048608, -0.19110334],\n",
              "        [ 0.8658311 ,  0.16680497, -0.04569471, -0.6845612 , -0.86074144]],\n",
              "       dtype=float32),\n",
              " array([[ 0.12173939,  0.0424948 , -0.2524094 ,  0.1749855 , -0.94289094],\n",
              "        [ 0.05478865, -0.2233293 , -0.28866148,  0.89765096,  0.24087244],\n",
              "        [ 0.35127   ,  0.8638995 , -0.31162477,  0.04598895,  0.17624417],\n",
              "        [-0.641198  , -0.00666446, -0.73229253, -0.21748556,  0.07258369],\n",
              "        [-0.6690682 ,  0.44939002,  0.46861663,  0.337917  , -0.1288674 ]],\n",
              "       dtype=float32),\n",
              " array([0., 0., 0., 0., 0.], dtype=float32)]"
            ]
          },
          "metadata": {
            "tags": []
          },
          "execution_count": 71
        }
      ]
    },
    {
      "cell_type": "code",
      "metadata": {
        "id": "goFdnAJuUVw-",
        "outputId": "56fd65f2-205a-4f2e-f657-2778a83e3699",
        "colab": {
          "base_uri": "https://localhost:8080/"
        }
      },
      "source": [
        "#check their shapes \n",
        "#They should make sense \n",
        "#The first output is input and it is hideen \n",
        "#The second output is hidden of hidden \n",
        "#The third output is bias term (vector of length M)\n",
        "\n",
        "a,b,c = model.layers[1].get_weights()\n",
        "print (a.shape, b.shape, c.shape)\n"
      ],
      "execution_count": 72,
      "outputs": [
        {
          "output_type": "stream",
          "text": [
            "(3, 5) (5, 5) (5,)\n"
          ],
          "name": "stdout"
        }
      ]
    },
    {
      "cell_type": "code",
      "metadata": {
        "id": "lGJoWcWRVSXe"
      },
      "source": [
        "#Assign weight variables \n",
        "Wx, Wh, bh = model.layers[1].get_weights()\n",
        "Wo, bo = model.layers[2].get_weights()\n"
      ],
      "execution_count": 73,
      "outputs": []
    },
    {
      "cell_type": "code",
      "metadata": {
        "id": "CPIfF3z1VmU2",
        "outputId": "c5a9f976-900c-4e3a-949b-e13b95a0a8bf",
        "colab": {
          "base_uri": "https://localhost:8080/"
        }
      },
      "source": [
        "#Do manual RNN calculation \n",
        "h_last = np.zeros(M)\n",
        "x = X[0]\n",
        "Yhats = []\n",
        "\n",
        "for t in range (T):\n",
        "  h = np.tanh(x[t].dot(Wx) + h_last.dot(Wh))\n",
        "  y = h.dot(Wo)+bo\n",
        "  Yhats.append(y)\n",
        "\n",
        "  h_last = h \n",
        "\n",
        "print (Yhats[-1])"
      ],
      "execution_count": 74,
      "outputs": [
        {
          "output_type": "stream",
          "text": [
            "[-0.68923051  0.95290602]\n"
          ],
          "name": "stdout"
        }
      ]
    },
    {
      "cell_type": "code",
      "metadata": {
        "id": "dXsULVKbWspt"
      },
      "source": [
        ""
      ],
      "execution_count": null,
      "outputs": []
    }
  ]
}