{
  "nbformat": 4,
  "nbformat_minor": 0,
  "metadata": {
    "colab": {
      "name": "AutoRegressive Model.ipynb",
      "provenance": [],
      "authorship_tag": "ABX9TyNI7w0HAD0nqGz3PaiiLIWv",
      "include_colab_link": true
    },
    "kernelspec": {
      "name": "python3",
      "display_name": "Python 3"
    }
  },
  "cells": [
    {
      "cell_type": "markdown",
      "metadata": {
        "id": "view-in-github",
        "colab_type": "text"
      },
      "source": [
        "<a href=\"https://colab.research.google.com/github/exponentialR/DeepLearningFundamentals/blob/main/AutoRegressive_Model.ipynb\" target=\"_parent\"><img src=\"https://colab.research.google.com/assets/colab-badge.svg\" alt=\"Open In Colab\"/></a>"
      ]
    },
    {
      "cell_type": "code",
      "metadata": {
        "id": "E_bzknU4evC7"
      },
      "source": [
        "import tensorflow as tf"
      ],
      "execution_count": 1,
      "outputs": []
    },
    {
      "cell_type": "code",
      "metadata": {
        "id": "A96gotjUe80c"
      },
      "source": [
        "from tensorflow.keras.layers import Input, Dense \n",
        "from tensorflow.keras.models import Model\n",
        "from tensorflow.keras.optimizers import SGD, Adam\n",
        "\n",
        "import numpy as np\n",
        "import pandas as pd\n",
        "import matplotlib.pyplot as plt\n"
      ],
      "execution_count": 2,
      "outputs": []
    },
    {
      "cell_type": "code",
      "metadata": {
        "id": "grR8NXvCfbqp",
        "outputId": "92c1d87c-72e1-447c-c692-f7f759033c38",
        "colab": {
          "base_uri": "https://localhost:8080/",
          "height": 265
        }
      },
      "source": [
        "#The first step into creating a synthetic data ~~~ in this case I am generating a sin wave \n",
        "series = np.sin(0.1*np.arange(200)) #+np.random.randn(200)*0.1 ~~~ #the second part of the equation is to create noise\n",
        "# plot the sine wave \n",
        "plt.plot(series)\n",
        "plt.show()\n"
      ],
      "execution_count": 3,
      "outputs": [
        {
          "output_type": "display_data",
          "data": {
            "image/png": "[encoded data removed]",
            "text/plain": [
              "<Figure size 432x288 with 1 Axes>"
            ]
          },
          "metadata": {
            "tags": [],
            "needs_background": "light"
          }
        }
      ]
    },
    {
      "cell_type": "code",
      "metadata": {
        "id": "N2LtqgQOgODe",
        "outputId": "243d4d0a-1776-44c0-d266-cd7720a8ce96",
        "colab": {
          "base_uri": "https://localhost:8080/"
        }
      },
      "source": [
        "#Build the dataset\n",
        "T = 10  #T is the time steps, and this code would iterate over 10 steps\n",
        "X = [] #create an empty list \n",
        "Y = []\n",
        "#populate the X and Y list \n",
        "for t in range (len(series) - T):\n",
        "  x = series [t:t+T]\n",
        "  X.append(x)\n",
        "  y = series[t+T]\n",
        "  Y.append(y)\n",
        "\n",
        "X = np.array(X).reshape(-1, T)\n",
        "Y = np.array(Y)\n",
        "N = len(X)\n",
        "print (\"X.shape:\", X.shape, \"Y.shape\", Y.shape)\n",
        "\n"
      ],
      "execution_count": 6,
      "outputs": [
        {
          "output_type": "stream",
          "text": [
            "X.shape: (190, 10) Y.shape (190,)\n"
          ],
          "name": "stdout"
        }
      ]
    },
    {
      "cell_type": "code",
      "metadata": {
        "id": "FeUvupOEhL4V",
        "outputId": "644aeeba-2887-41d3-959a-6526a4a7f704",
        "colab": {
          "base_uri": "https://localhost:8080/"
        }
      },
      "source": [
        "#Code the autoregressive model\n",
        "\n",
        "i = Input (shape = (T,))\n",
        "x = Dense (1)(i)\n",
        "model = Model (i, x)\n",
        "model.compile(\n",
        "    loss = 'mse',\n",
        "    optimizer=Adam(lr=0.1),\n",
        ")\n",
        "#train the RNN model\n",
        "r = model.fit(\n",
        "    X[:-N//2], Y[:-N//2],\n",
        "    epochs = 80,\n",
        "    validation_data = (X[-N//2:], Y[-N//2:]),\n",
        ")"
      ],
      "execution_count": 8,
      "outputs": [
        {
          "output_type": "stream",
          "text": [
            "Epoch 1/80\n",
            "3/3 [==============================] - 0s 38ms/step - loss: 0.1295 - val_loss: 0.0805\n",
            "Epoch 2/80\n",
            "3/3 [==============================] - 0s 6ms/step - loss: 0.1303 - val_loss: 0.0088\n",
            "Epoch 3/80\n",
            "3/3 [==============================] - 0s 7ms/step - loss: 0.0361 - val_loss: 0.0828\n",
            "Epoch 4/80\n",
            "3/3 [==============================] - 0s 7ms/step - loss: 0.0458 - val_loss: 0.0097\n",
            "Epoch 5/80\n",
            "3/3 [==============================] - 0s 6ms/step - loss: 0.0363 - val_loss: 0.0222\n",
            "Epoch 6/80\n",
            "3/3 [==============================] - 0s 6ms/step - loss: 0.0093 - val_loss: 0.0130\n",
            "Epoch 7/80\n",
            "3/3 [==============================] - 0s 7ms/step - loss: 0.0220 - val_loss: 0.0029\n",
            "Epoch 8/80\n",
            "3/3 [==============================] - 0s 6ms/step - loss: 0.0051 - val_loss: 0.0148\n",
            "Epoch 9/80\n",
            "3/3 [==============================] - 0s 7ms/step - loss: 0.0121 - val_loss: 0.0011\n",
            "Epoch 10/80\n",
            "3/3 [==============================] - 0s 6ms/step - loss: 0.0060 - val_loss: 0.0077\n",
            "Epoch 11/80\n",
            "3/3 [==============================] - 0s 6ms/step - loss: 0.0035 - val_loss: 0.0039\n",
            "Epoch 12/80\n",
            "3/3 [==============================] - 0s 6ms/step - loss: 0.0052 - val_loss: 7.5989e-04\n",
            "Epoch 13/80\n",
            "3/3 [==============================] - 0s 7ms/step - loss: 0.0015 - val_loss: 0.0030\n",
            "Epoch 14/80\n",
            "3/3 [==============================] - 0s 7ms/step - loss: 0.0019 - val_loss: 7.0461e-04\n",
            "Epoch 15/80\n",
            "3/3 [==============================] - 0s 6ms/step - loss: 0.0017 - val_loss: 4.3771e-04\n",
            "Epoch 16/80\n",
            "3/3 [==============================] - 0s 7ms/step - loss: 5.3378e-04 - val_loss: 0.0014\n",
            "Epoch 17/80\n",
            "3/3 [==============================] - 0s 7ms/step - loss: 8.4450e-04 - val_loss: 1.9510e-04\n",
            "Epoch 18/80\n",
            "3/3 [==============================] - 0s 7ms/step - loss: 5.6476e-04 - val_loss: 3.5243e-04\n",
            "Epoch 19/80\n",
            "3/3 [==============================] - 0s 7ms/step - loss: 2.1394e-04 - val_loss: 4.3805e-04\n",
            "Epoch 20/80\n",
            "3/3 [==============================] - 0s 7ms/step - loss: 2.9980e-04 - val_loss: 7.9317e-05\n",
            "Epoch 21/80\n",
            "3/3 [==============================] - 0s 7ms/step - loss: 2.1633e-04 - val_loss: 2.3324e-05\n",
            "Epoch 22/80\n",
            "3/3 [==============================] - 0s 7ms/step - loss: 9.2057e-05 - val_loss: 1.5049e-04\n",
            "Epoch 23/80\n",
            "3/3 [==============================] - 0s 6ms/step - loss: 8.1360e-05 - val_loss: 1.3475e-04\n",
            "Epoch 24/80\n",
            "3/3 [==============================] - 0s 8ms/step - loss: 9.6695e-05 - val_loss: 1.0844e-05\n",
            "Epoch 25/80\n",
            "3/3 [==============================] - 0s 6ms/step - loss: 5.3689e-05 - val_loss: 1.7423e-05\n",
            "Epoch 26/80\n",
            "3/3 [==============================] - 0s 6ms/step - loss: 2.0080e-05 - val_loss: 3.6943e-05\n",
            "Epoch 27/80\n",
            "3/3 [==============================] - 0s 7ms/step - loss: 2.1527e-05 - val_loss: 2.3757e-05\n",
            "Epoch 28/80\n",
            "3/3 [==============================] - 0s 6ms/step - loss: 2.2856e-05 - val_loss: 6.1419e-06\n",
            "Epoch 29/80\n",
            "3/3 [==============================] - 0s 9ms/step - loss: 1.2277e-05 - val_loss: 1.1761e-06\n",
            "Epoch 30/80\n",
            "3/3 [==============================] - 0s 7ms/step - loss: 6.4377e-06 - val_loss: 1.0797e-05\n",
            "Epoch 31/80\n",
            "3/3 [==============================] - 0s 8ms/step - loss: 5.4365e-06 - val_loss: 8.3235e-06\n",
            "Epoch 32/80\n",
            "3/3 [==============================] - 0s 8ms/step - loss: 4.9817e-06 - val_loss: 3.4507e-06\n",
            "Epoch 33/80\n",
            "3/3 [==============================] - 0s 8ms/step - loss: 4.6041e-06 - val_loss: 8.9284e-07\n",
            "Epoch 34/80\n",
            "3/3 [==============================] - 0s 7ms/step - loss: 2.1603e-06 - val_loss: 3.5058e-07\n",
            "Epoch 35/80\n",
            "3/3 [==============================] - 0s 8ms/step - loss: 1.1516e-06 - val_loss: 2.2765e-06\n",
            "Epoch 36/80\n",
            "3/3 [==============================] - 0s 8ms/step - loss: 8.5604e-07 - val_loss: 1.5008e-06\n",
            "Epoch 37/80\n",
            "3/3 [==============================] - 0s 7ms/step - loss: 7.9795e-07 - val_loss: 5.6191e-07\n",
            "Epoch 38/80\n",
            "3/3 [==============================] - 0s 7ms/step - loss: 7.8395e-07 - val_loss: 1.4293e-07\n",
            "Epoch 39/80\n",
            "3/3 [==============================] - 0s 7ms/step - loss: 5.1046e-07 - val_loss: 1.3701e-07\n",
            "Epoch 40/80\n",
            "3/3 [==============================] - 0s 7ms/step - loss: 4.6108e-07 - val_loss: 2.1452e-07\n",
            "Epoch 41/80\n",
            "3/3 [==============================] - 0s 8ms/step - loss: 3.3241e-07 - val_loss: 8.0224e-07\n",
            "Epoch 42/80\n",
            "3/3 [==============================] - 0s 8ms/step - loss: 4.1078e-07 - val_loss: 2.8326e-07\n",
            "Epoch 43/80\n",
            "3/3 [==============================] - 0s 9ms/step - loss: 2.1638e-07 - val_loss: 2.5121e-07\n",
            "Epoch 44/80\n",
            "3/3 [==============================] - 0s 8ms/step - loss: 2.6084e-07 - val_loss: 2.2165e-07\n",
            "Epoch 45/80\n",
            "3/3 [==============================] - 0s 8ms/step - loss: 1.2926e-07 - val_loss: 1.6188e-07\n",
            "Epoch 46/80\n",
            "3/3 [==============================] - 0s 7ms/step - loss: 1.4715e-07 - val_loss: 2.8798e-08\n",
            "Epoch 47/80\n",
            "3/3 [==============================] - 0s 9ms/step - loss: 7.6098e-08 - val_loss: 2.7634e-08\n",
            "Epoch 48/80\n",
            "3/3 [==============================] - 0s 7ms/step - loss: 6.5410e-08 - val_loss: 1.9562e-08\n",
            "Epoch 49/80\n",
            "3/3 [==============================] - 0s 8ms/step - loss: 3.4465e-08 - val_loss: 1.8915e-08\n",
            "Epoch 50/80\n",
            "3/3 [==============================] - 0s 8ms/step - loss: 3.0537e-08 - val_loss: 5.3973e-08\n",
            "Epoch 51/80\n",
            "3/3 [==============================] - 0s 7ms/step - loss: 1.5499e-08 - val_loss: 2.7833e-08\n",
            "Epoch 52/80\n",
            "3/3 [==============================] - 0s 7ms/step - loss: 1.5620e-08 - val_loss: 1.2982e-08\n",
            "Epoch 53/80\n",
            "3/3 [==============================] - 0s 7ms/step - loss: 1.2071e-08 - val_loss: 8.1647e-09\n",
            "Epoch 54/80\n",
            "3/3 [==============================] - 0s 9ms/step - loss: 1.0141e-08 - val_loss: 1.9327e-08\n",
            "Epoch 55/80\n",
            "3/3 [==============================] - 0s 8ms/step - loss: 9.9479e-09 - val_loss: 9.6438e-09\n",
            "Epoch 56/80\n",
            "3/3 [==============================] - 0s 9ms/step - loss: 9.0842e-09 - val_loss: 3.9080e-09\n",
            "Epoch 57/80\n",
            "3/3 [==============================] - 0s 13ms/step - loss: 6.9295e-09 - val_loss: 3.3655e-09\n",
            "Epoch 58/80\n",
            "3/3 [==============================] - 0s 7ms/step - loss: 6.8029e-09 - val_loss: 4.0301e-09\n",
            "Epoch 59/80\n",
            "3/3 [==============================] - 0s 7ms/step - loss: 3.6167e-09 - val_loss: 2.8083e-09\n",
            "Epoch 60/80\n",
            "3/3 [==============================] - 0s 8ms/step - loss: 3.4791e-09 - val_loss: 4.6048e-10\n",
            "Epoch 61/80\n",
            "3/3 [==============================] - 0s 7ms/step - loss: 2.6269e-09 - val_loss: 7.7822e-10\n",
            "Epoch 62/80\n",
            "3/3 [==============================] - 0s 7ms/step - loss: 2.4992e-09 - val_loss: 2.7868e-10\n",
            "Epoch 63/80\n",
            "3/3 [==============================] - 0s 7ms/step - loss: 1.2723e-09 - val_loss: 3.3935e-10\n",
            "Epoch 64/80\n",
            "3/3 [==============================] - 0s 7ms/step - loss: 1.0416e-09 - val_loss: 2.4488e-11\n",
            "Epoch 65/80\n",
            "3/3 [==============================] - 0s 7ms/step - loss: 6.3933e-10 - val_loss: 2.3905e-10\n",
            "Epoch 66/80\n",
            "3/3 [==============================] - 0s 8ms/step - loss: 5.3797e-10 - val_loss: 1.7777e-11\n",
            "Epoch 67/80\n",
            "3/3 [==============================] - 0s 7ms/step - loss: 3.1433e-10 - val_loss: 9.7224e-11\n",
            "Epoch 68/80\n",
            "3/3 [==============================] - 0s 7ms/step - loss: 2.5308e-10 - val_loss: 4.1552e-12\n",
            "Epoch 69/80\n",
            "3/3 [==============================] - 0s 7ms/step - loss: 1.5799e-10 - val_loss: 5.7273e-11\n",
            "Epoch 70/80\n",
            "3/3 [==============================] - 0s 8ms/step - loss: 1.0609e-10 - val_loss: 8.2530e-12\n",
            "Epoch 71/80\n",
            "3/3 [==============================] - 0s 7ms/step - loss: 7.9105e-11 - val_loss: 3.3398e-11\n",
            "Epoch 72/80\n",
            "3/3 [==============================] - 0s 7ms/step - loss: 5.1256e-11 - val_loss: 1.7212e-11\n",
            "Epoch 73/80\n",
            "3/3 [==============================] - 0s 8ms/step - loss: 3.1008e-11 - val_loss: 4.6648e-12\n",
            "Epoch 74/80\n",
            "3/3 [==============================] - 0s 6ms/step - loss: 1.6329e-11 - val_loss: 9.5218e-12\n",
            "Epoch 75/80\n",
            "3/3 [==============================] - 0s 7ms/step - loss: 1.4319e-11 - val_loss: 8.9906e-12\n",
            "Epoch 76/80\n",
            "3/3 [==============================] - 0s 8ms/step - loss: 9.0188e-12 - val_loss: 1.1436e-11\n",
            "Epoch 77/80\n",
            "3/3 [==============================] - 0s 7ms/step - loss: 9.6405e-12 - val_loss: 5.3921e-12\n",
            "Epoch 78/80\n",
            "3/3 [==============================] - 0s 7ms/step - loss: 5.7973e-12 - val_loss: 3.4384e-12\n",
            "Epoch 79/80\n",
            "3/3 [==============================] - 0s 8ms/step - loss: 4.2715e-12 - val_loss: 2.6075e-12\n",
            "Epoch 80/80\n",
            "3/3 [==============================] - 0s 7ms/step - loss: 2.6895e-12 - val_loss: 5.1748e-12\n"
          ],
          "name": "stdout"
        }
      ]
    },
    {
      "cell_type": "code",
      "metadata": {
        "id": "lHYiYUiZilQZ",
        "outputId": "1108fa12-74d6-4190-b0dc-dfaa1fe3cb9f",
        "colab": {
          "base_uri": "https://localhost:8080/",
          "height": 282
        }
      },
      "source": [
        "#plot the loss per iteration \n",
        "import matplotlib.pyplot as plt\n",
        "\n",
        "plt.plot(r.history['loss'], label ='loss')\n",
        "plt.plot(r.history['val_loss'], label = 'val_loss')\n",
        "plt.legend"
      ],
      "execution_count": 9,
      "outputs": [
        {
          "output_type": "execute_result",
          "data": {
            "text/plain": [
              "<function matplotlib.pyplot.legend>"
            ]
          },
          "metadata": {
            "tags": []
          },
          "execution_count": 9
        },
        {
          "output_type": "display_data",
          "data": {
            "image/png": "[encoded data removed]",
            "text/plain": [
              "<Figure size 432x288 with 1 Axes>"
            ]
          },
          "metadata": {
            "tags": [],
            "needs_background": "light"
          }
        }
      ]
    },
    {
      "cell_type": "code",
      "metadata": {
        "id": "M69JxMn2jN15"
      },
      "source": [
        "#Now forecasts future values of the sine waves using only self predicted values to make the predictions \n",
        "#In this case we are not using values in the dataset to make the forecast, however, we are using the values pre-forecasted by the model to make future predictions \n",
        "\n",
        "validation_target = Y[-N//2:]\n",
        "validation_predictions = []\n",
        "\n",
        "#last train the input \n",
        "last_x = X[-N//2]\n",
        "\n",
        "while len(validation_predictions)<len(validation_target):\n",
        "  p = model.predict(last_x.reshape(1,-1))[0,0]\n",
        "\n",
        "  # to update the prediction list \n",
        "  validation_predictions.append(p)\n",
        "\n",
        "  # to generate the new input, shift the next value into the target \n",
        "  last_x = np.roll(last_x, -1)\n",
        "  last_x[-1] = p\n",
        "\n"
      ],
      "execution_count": 10,
      "outputs": []
    },
    {
      "cell_type": "code",
      "metadata": {
        "id": "1FIriEQgk7SD",
        "outputId": "cd415819-b8c1-4537-aef5-b9f74f17ae48",
        "colab": {
          "base_uri": "https://localhost:8080/",
          "height": 282
        }
      },
      "source": [
        "#To plot the prediction against the target and see the performance of the model \n",
        "\n",
        "plt.plot(validation_target, label = 'forecast taget')\n",
        "plt.plot(validation_predictions, label = 'forecast prediction')\n",
        "plt.legend()"
      ],
      "execution_count": 11,
      "outputs": [
        {
          "output_type": "execute_result",
          "data": {
            "text/plain": [
              "<matplotlib.legend.Legend at 0x7f1d4306a588>"
            ]
          },
          "metadata": {
            "tags": []
          },
          "execution_count": 11
        },
        {
          "output_type": "display_data",
          "data": {
            "image/png": "[encoded data removed]",
            "text/plain": [
              "<Figure size 432x288 with 1 Axes>"
            ]
          },
          "metadata": {
            "tags": [],
            "needs_background": "light"
          }
        }
      ]
    },
    {
      "cell_type": "code",
      "metadata": {
        "id": "qUkbz1HVlcbV"
      },
      "source": [
        ""
      ],
      "execution_count": null,
      "outputs": []
    }
  ]
}