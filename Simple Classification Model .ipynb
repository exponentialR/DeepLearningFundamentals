{
  "nbformat": 4,
  "nbformat_minor": 0,
  "metadata": {
    "colab": {
      "name": "Untitled2.ipynb",
      "provenance": [],
      "collapsed_sections": [],
      "authorship_tag": "ABX9TyPRbv/RVu6Ke2Dbe8ZSYhj2",
      "include_colab_link": true
    },
    "kernelspec": {
      "name": "python3",
      "display_name": "Python 3"
    }
  },
  "cells": [
    {
      "cell_type": "markdown",
      "metadata": {
        "id": "view-in-github",
        "colab_type": "text"
      },
      "source": [
        "<a href=\"https://colab.research.google.com/github/exponentialR/DeepLearningFundamentals/blob/main/Simple%20Classification%20Model%20.ipynb\" target=\"_parent\"><img src=\"https://colab.research.google.com/assets/colab-badge.svg\" alt=\"Open In Colab\"/></a>"
      ]
    },
    {
      "cell_type": "code",
      "metadata": {
        "id": "Xn_AxjD7qDLz"
      },
      "source": [
        "import tensorflow as tf "
      ],
      "execution_count": 1,
      "outputs": []
    },
    {
      "cell_type": "code",
      "metadata": {
        "id": "Z9gZRsvjqOnf"
      },
      "source": [
        "#import the data \n",
        "from sklearn.datasets import load_breast_cancer"
      ],
      "execution_count": 2,
      "outputs": []
    },
    {
      "cell_type": "code",
      "metadata": {
        "id": "TP2jJp9YqX0F"
      },
      "source": [
        "#load the data \n",
        "data = load_breast_cancer()"
      ],
      "execution_count": 3,
      "outputs": []
    },
    {
      "cell_type": "code",
      "metadata": {
        "id": "tqjk8OHIqlH9",
        "outputId": "8666ed3b-669c-43da-e22a-f96af634ab4d",
        "colab": {
          "base_uri": "https://localhost:8080/"
        }
      },
      "source": [
        "#check the data type \n",
        "type(data)"
      ],
      "execution_count": 4,
      "outputs": [
        {
          "output_type": "execute_result",
          "data": {
            "text/plain": [
              "sklearn.utils.Bunch"
            ]
          },
          "metadata": {
            "tags": []
          },
          "execution_count": 4
        }
      ]
    },
    {
      "cell_type": "code",
      "metadata": {
        "id": "vLgvvMZAqs7o",
        "outputId": "a3c07656-d28b-4743-dbaa-80c489b40d64",
        "colab": {
          "base_uri": "https://localhost:8080/"
        }
      },
      "source": [
        "data.keys()"
      ],
      "execution_count": 5,
      "outputs": [
        {
          "output_type": "execute_result",
          "data": {
            "text/plain": [
              "dict_keys(['data', 'target', 'target_names', 'DESCR', 'feature_names', 'filename'])"
            ]
          },
          "metadata": {
            "tags": []
          },
          "execution_count": 5
        }
      ]
    },
    {
      "cell_type": "code",
      "metadata": {
        "id": "ndCt1Wddrf9R",
        "outputId": "faeb6f31-ff95-4938-f358-89a4d60072aa",
        "colab": {
          "base_uri": "https://localhost:8080/"
        }
      },
      "source": [
        "data.target"
      ],
      "execution_count": 6,
      "outputs": [
        {
          "output_type": "execute_result",
          "data": {
            "text/plain": [
              "array([0, 0, 0, 0, 0, 0, 0, 0, 0, 0, 0, 0, 0, 0, 0, 0, 0, 0, 0, 1, 1, 1,\n",
              "       0, 0, 0, 0, 0, 0, 0, 0, 0, 0, 0, 0, 0, 0, 0, 1, 0, 0, 0, 0, 0, 0,\n",
              "       0, 0, 1, 0, 1, 1, 1, 1, 1, 0, 0, 1, 0, 0, 1, 1, 1, 1, 0, 1, 0, 0,\n",
              "       1, 1, 1, 1, 0, 1, 0, 0, 1, 0, 1, 0, 0, 1, 1, 1, 0, 0, 1, 0, 0, 0,\n",
              "       1, 1, 1, 0, 1, 1, 0, 0, 1, 1, 1, 0, 0, 1, 1, 1, 1, 0, 1, 1, 0, 1,\n",
              "       1, 1, 1, 1, 1, 1, 1, 0, 0, 0, 1, 0, 0, 1, 1, 1, 0, 0, 1, 0, 1, 0,\n",
              "       0, 1, 0, 0, 1, 1, 0, 1, 1, 0, 1, 1, 1, 1, 0, 1, 1, 1, 1, 1, 1, 1,\n",
              "       1, 1, 0, 1, 1, 1, 1, 0, 0, 1, 0, 1, 1, 0, 0, 1, 1, 0, 0, 1, 1, 1,\n",
              "       1, 0, 1, 1, 0, 0, 0, 1, 0, 1, 0, 1, 1, 1, 0, 1, 1, 0, 0, 1, 0, 0,\n",
              "       0, 0, 1, 0, 0, 0, 1, 0, 1, 0, 1, 1, 0, 1, 0, 0, 0, 0, 1, 1, 0, 0,\n",
              "       1, 1, 1, 0, 1, 1, 1, 1, 1, 0, 0, 1, 1, 0, 1, 1, 0, 0, 1, 0, 1, 1,\n",
              "       1, 1, 0, 1, 1, 1, 1, 1, 0, 1, 0, 0, 0, 0, 0, 0, 0, 0, 0, 0, 0, 0,\n",
              "       0, 0, 1, 1, 1, 1, 1, 1, 0, 1, 0, 1, 1, 0, 1, 1, 0, 1, 0, 0, 1, 1,\n",
              "       1, 1, 1, 1, 1, 1, 1, 1, 1, 1, 1, 0, 1, 1, 0, 1, 0, 1, 1, 1, 1, 1,\n",
              "       1, 1, 1, 1, 1, 1, 1, 1, 1, 0, 1, 1, 1, 0, 1, 0, 1, 1, 1, 1, 0, 0,\n",
              "       0, 1, 1, 1, 1, 0, 1, 0, 1, 0, 1, 1, 1, 0, 1, 1, 1, 1, 1, 1, 1, 0,\n",
              "       0, 0, 1, 1, 1, 1, 1, 1, 1, 1, 1, 1, 1, 0, 0, 1, 0, 0, 0, 1, 0, 0,\n",
              "       1, 1, 1, 1, 1, 0, 1, 1, 1, 1, 1, 0, 1, 1, 1, 0, 1, 1, 0, 0, 1, 1,\n",
              "       1, 1, 1, 1, 0, 1, 1, 1, 1, 1, 1, 1, 0, 1, 1, 1, 1, 1, 0, 1, 1, 0,\n",
              "       1, 1, 1, 1, 1, 1, 1, 1, 1, 1, 1, 1, 0, 1, 0, 0, 1, 0, 1, 1, 1, 1,\n",
              "       1, 0, 1, 1, 0, 1, 0, 1, 1, 0, 1, 0, 1, 1, 1, 1, 1, 1, 1, 1, 0, 0,\n",
              "       1, 1, 1, 1, 1, 1, 0, 1, 1, 1, 1, 1, 1, 1, 1, 1, 1, 0, 1, 1, 1, 1,\n",
              "       1, 1, 1, 0, 1, 0, 1, 1, 0, 1, 1, 1, 1, 1, 0, 0, 1, 0, 1, 0, 1, 1,\n",
              "       1, 1, 1, 0, 1, 1, 0, 1, 0, 1, 0, 0, 1, 1, 1, 0, 1, 1, 1, 1, 1, 1,\n",
              "       1, 1, 1, 1, 1, 0, 1, 0, 0, 1, 1, 1, 1, 1, 1, 1, 1, 1, 1, 1, 1, 1,\n",
              "       1, 1, 1, 1, 1, 1, 1, 1, 1, 1, 1, 1, 0, 0, 0, 0, 0, 0, 1])"
            ]
          },
          "metadata": {
            "tags": []
          },
          "execution_count": 6
        }
      ]
    },
    {
      "cell_type": "code",
      "metadata": {
        "id": "zbrzTpCEroXI",
        "outputId": "2bc13d95-4ff3-486c-de9f-b9617287d73d",
        "colab": {
          "base_uri": "https://localhost:8080/"
        }
      },
      "source": [
        "data.data.shape"
      ],
      "execution_count": 7,
      "outputs": [
        {
          "output_type": "execute_result",
          "data": {
            "text/plain": [
              "(569, 30)"
            ]
          },
          "metadata": {
            "tags": []
          },
          "execution_count": 7
        }
      ]
    },
    {
      "cell_type": "code",
      "metadata": {
        "id": "1owIzKDNrtBy",
        "outputId": "ccdc966d-7b2a-4eec-95cb-19675658cf66",
        "colab": {
          "base_uri": "https://localhost:8080/"
        }
      },
      "source": [
        "data.target_names\n"
      ],
      "execution_count": 8,
      "outputs": [
        {
          "output_type": "execute_result",
          "data": {
            "text/plain": [
              "array(['malignant', 'benign'], dtype='<U9')"
            ]
          },
          "metadata": {
            "tags": []
          },
          "execution_count": 8
        }
      ]
    },
    {
      "cell_type": "code",
      "metadata": {
        "id": "7rGTCqWx5P1H",
        "outputId": "463bc6e1-87f2-4e3c-f389-7622760f6158",
        "colab": {
          "base_uri": "https://localhost:8080/"
        }
      },
      "source": [
        "data.feature_names"
      ],
      "execution_count": 9,
      "outputs": [
        {
          "output_type": "execute_result",
          "data": {
            "text/plain": [
              "array(['mean radius', 'mean texture', 'mean perimeter', 'mean area',\n",
              "       'mean smoothness', 'mean compactness', 'mean concavity',\n",
              "       'mean concave points', 'mean symmetry', 'mean fractal dimension',\n",
              "       'radius error', 'texture error', 'perimeter error', 'area error',\n",
              "       'smoothness error', 'compactness error', 'concavity error',\n",
              "       'concave points error', 'symmetry error',\n",
              "       'fractal dimension error', 'worst radius', 'worst texture',\n",
              "       'worst perimeter', 'worst area', 'worst smoothness',\n",
              "       'worst compactness', 'worst concavity', 'worst concave points',\n",
              "       'worst symmetry', 'worst fractal dimension'], dtype='<U23')"
            ]
          },
          "metadata": {
            "tags": []
          },
          "execution_count": 9
        }
      ]
    },
    {
      "cell_type": "code",
      "metadata": {
        "id": "L57zxOmarwzR"
      },
      "source": [
        "from sklearn.model_selection import train_test_split\n",
        "X_train, X_test, y_train, y_test = train_test_split (data.data, data.target, test_size = 0.33)\n",
        "N, D = X_train.shape"
      ],
      "execution_count": 10,
      "outputs": []
    },
    {
      "cell_type": "code",
      "metadata": {
        "id": "sqgGmOUCsYRh"
      },
      "source": [
        "#scale the data\n",
        "from sklearn.preprocessing import StandardScaler\n",
        "scaler =StandardScaler()\n",
        "X_train = scaler.fit_transform(X_train)\n",
        "X_test = scaler.transform(X_test)"
      ],
      "execution_count": 11,
      "outputs": []
    },
    {
      "cell_type": "code",
      "metadata": {
        "id": "neoB3ngrtGhg",
        "outputId": "e443cf06-c0b2-433f-b759-b95f530dd8ca",
        "colab": {
          "base_uri": "https://localhost:8080/"
        }
      },
      "source": [
        "#Now build the model using Tensorflow \n",
        "\n",
        "model = tf.keras.models.Sequential([\n",
        "  tf.keras.layers.Input(shape=(D,)),\n",
        "  tf.keras.layers.Dense(1, activation='sigmoid')\n",
        "])\n",
        "\n",
        "\n",
        "model.compile(optimizer = 'adam',\n",
        "              loss='binary_crossentropy',\n",
        "              metrics=['accuracy'])\n",
        "\n",
        "#Train the model \n",
        "r = model.fit(X_train, y_train, validation_data=(X_test, y_test), epochs=100)\n",
        "\n",
        "#Evaluate the model - evaluate () returns loss and accuracy\n",
        "\n",
        "print(\"Train Score:\", model.evaluate(X_train, y_train))\n",
        "print(\"Test Score:\", model.evaluate (X_test, y_test))"
      ],
      "execution_count": 12,
      "outputs": [
        {
          "output_type": "stream",
          "text": [
            "Epoch 1/100\n",
            "12/12 [==============================] - 0s 13ms/step - loss: 0.4235 - accuracy: 0.8451 - val_loss: 0.4199 - val_accuracy: 0.8617\n",
            "Epoch 2/100\n",
            "12/12 [==============================] - 0s 3ms/step - loss: 0.3880 - accuracy: 0.8635 - val_loss: 0.3823 - val_accuracy: 0.9043\n",
            "Epoch 3/100\n",
            "12/12 [==============================] - 0s 3ms/step - loss: 0.3582 - accuracy: 0.8740 - val_loss: 0.3514 - val_accuracy: 0.9202\n",
            "Epoch 4/100\n",
            "12/12 [==============================] - 0s 3ms/step - loss: 0.3327 - accuracy: 0.8819 - val_loss: 0.3261 - val_accuracy: 0.9255\n",
            "Epoch 5/100\n",
            "12/12 [==============================] - 0s 3ms/step - loss: 0.3121 - accuracy: 0.8924 - val_loss: 0.3048 - val_accuracy: 0.9255\n",
            "Epoch 6/100\n",
            "12/12 [==============================] - 0s 3ms/step - loss: 0.2946 - accuracy: 0.8976 - val_loss: 0.2864 - val_accuracy: 0.9255\n",
            "Epoch 7/100\n",
            "12/12 [==============================] - 0s 3ms/step - loss: 0.2792 - accuracy: 0.9055 - val_loss: 0.2710 - val_accuracy: 0.9362\n",
            "Epoch 8/100\n",
            "12/12 [==============================] - 0s 3ms/step - loss: 0.2661 - accuracy: 0.9134 - val_loss: 0.2575 - val_accuracy: 0.9415\n",
            "Epoch 9/100\n",
            "12/12 [==============================] - 0s 3ms/step - loss: 0.2547 - accuracy: 0.9160 - val_loss: 0.2459 - val_accuracy: 0.9468\n",
            "Epoch 10/100\n",
            "12/12 [==============================] - 0s 3ms/step - loss: 0.2445 - accuracy: 0.9213 - val_loss: 0.2354 - val_accuracy: 0.9468\n",
            "Epoch 11/100\n",
            "12/12 [==============================] - 0s 3ms/step - loss: 0.2353 - accuracy: 0.9239 - val_loss: 0.2261 - val_accuracy: 0.9468\n",
            "Epoch 12/100\n",
            "12/12 [==============================] - 0s 3ms/step - loss: 0.2272 - accuracy: 0.9291 - val_loss: 0.2177 - val_accuracy: 0.9468\n",
            "Epoch 13/100\n",
            "12/12 [==============================] - 0s 3ms/step - loss: 0.2198 - accuracy: 0.9291 - val_loss: 0.2101 - val_accuracy: 0.9468\n",
            "Epoch 14/100\n",
            "12/12 [==============================] - 0s 3ms/step - loss: 0.2131 - accuracy: 0.9291 - val_loss: 0.2031 - val_accuracy: 0.9415\n",
            "Epoch 15/100\n",
            "12/12 [==============================] - 0s 3ms/step - loss: 0.2069 - accuracy: 0.9344 - val_loss: 0.1968 - val_accuracy: 0.9521\n",
            "Epoch 16/100\n",
            "12/12 [==============================] - 0s 3ms/step - loss: 0.2013 - accuracy: 0.9344 - val_loss: 0.1907 - val_accuracy: 0.9574\n",
            "Epoch 17/100\n",
            "12/12 [==============================] - 0s 3ms/step - loss: 0.1960 - accuracy: 0.9449 - val_loss: 0.1853 - val_accuracy: 0.9574\n",
            "Epoch 18/100\n",
            "12/12 [==============================] - 0s 3ms/step - loss: 0.1911 - accuracy: 0.9449 - val_loss: 0.1803 - val_accuracy: 0.9574\n",
            "Epoch 19/100\n",
            "12/12 [==============================] - 0s 3ms/step - loss: 0.1866 - accuracy: 0.9475 - val_loss: 0.1755 - val_accuracy: 0.9628\n",
            "Epoch 20/100\n",
            "12/12 [==============================] - 0s 3ms/step - loss: 0.1823 - accuracy: 0.9475 - val_loss: 0.1711 - val_accuracy: 0.9628\n",
            "Epoch 21/100\n",
            "12/12 [==============================] - 0s 3ms/step - loss: 0.1784 - accuracy: 0.9449 - val_loss: 0.1670 - val_accuracy: 0.9628\n",
            "Epoch 22/100\n",
            "12/12 [==============================] - 0s 3ms/step - loss: 0.1748 - accuracy: 0.9449 - val_loss: 0.1630 - val_accuracy: 0.9628\n",
            "Epoch 23/100\n",
            "12/12 [==============================] - 0s 3ms/step - loss: 0.1712 - accuracy: 0.9475 - val_loss: 0.1593 - val_accuracy: 0.9628\n",
            "Epoch 24/100\n",
            "12/12 [==============================] - 0s 2ms/step - loss: 0.1680 - accuracy: 0.9501 - val_loss: 0.1558 - val_accuracy: 0.9681\n",
            "Epoch 25/100\n",
            "12/12 [==============================] - 0s 3ms/step - loss: 0.1648 - accuracy: 0.9528 - val_loss: 0.1526 - val_accuracy: 0.9681\n",
            "Epoch 26/100\n",
            "12/12 [==============================] - 0s 3ms/step - loss: 0.1620 - accuracy: 0.9528 - val_loss: 0.1495 - val_accuracy: 0.9681\n",
            "Epoch 27/100\n",
            "12/12 [==============================] - 0s 3ms/step - loss: 0.1591 - accuracy: 0.9528 - val_loss: 0.1467 - val_accuracy: 0.9681\n",
            "Epoch 28/100\n",
            "12/12 [==============================] - 0s 3ms/step - loss: 0.1566 - accuracy: 0.9554 - val_loss: 0.1439 - val_accuracy: 0.9734\n",
            "Epoch 29/100\n",
            "12/12 [==============================] - 0s 3ms/step - loss: 0.1541 - accuracy: 0.9554 - val_loss: 0.1412 - val_accuracy: 0.9734\n",
            "Epoch 30/100\n",
            "12/12 [==============================] - 0s 3ms/step - loss: 0.1516 - accuracy: 0.9554 - val_loss: 0.1388 - val_accuracy: 0.9734\n",
            "Epoch 31/100\n",
            "12/12 [==============================] - 0s 3ms/step - loss: 0.1494 - accuracy: 0.9554 - val_loss: 0.1365 - val_accuracy: 0.9734\n",
            "Epoch 32/100\n",
            "12/12 [==============================] - 0s 3ms/step - loss: 0.1473 - accuracy: 0.9554 - val_loss: 0.1342 - val_accuracy: 0.9787\n",
            "Epoch 33/100\n",
            "12/12 [==============================] - 0s 3ms/step - loss: 0.1452 - accuracy: 0.9554 - val_loss: 0.1320 - val_accuracy: 0.9787\n",
            "Epoch 34/100\n",
            "12/12 [==============================] - 0s 3ms/step - loss: 0.1432 - accuracy: 0.9554 - val_loss: 0.1300 - val_accuracy: 0.9787\n",
            "Epoch 35/100\n",
            "12/12 [==============================] - 0s 3ms/step - loss: 0.1413 - accuracy: 0.9554 - val_loss: 0.1280 - val_accuracy: 0.9787\n",
            "Epoch 36/100\n",
            "12/12 [==============================] - 0s 3ms/step - loss: 0.1396 - accuracy: 0.9554 - val_loss: 0.1262 - val_accuracy: 0.9787\n",
            "Epoch 37/100\n",
            "12/12 [==============================] - 0s 3ms/step - loss: 0.1378 - accuracy: 0.9554 - val_loss: 0.1244 - val_accuracy: 0.9787\n",
            "Epoch 38/100\n",
            "12/12 [==============================] - 0s 3ms/step - loss: 0.1361 - accuracy: 0.9606 - val_loss: 0.1226 - val_accuracy: 0.9787\n",
            "Epoch 39/100\n",
            "12/12 [==============================] - 0s 3ms/step - loss: 0.1345 - accuracy: 0.9606 - val_loss: 0.1210 - val_accuracy: 0.9787\n",
            "Epoch 40/100\n",
            "12/12 [==============================] - 0s 3ms/step - loss: 0.1330 - accuracy: 0.9606 - val_loss: 0.1193 - val_accuracy: 0.9787\n",
            "Epoch 41/100\n",
            "12/12 [==============================] - 0s 3ms/step - loss: 0.1315 - accuracy: 0.9606 - val_loss: 0.1179 - val_accuracy: 0.9787\n",
            "Epoch 42/100\n",
            "12/12 [==============================] - 0s 3ms/step - loss: 0.1300 - accuracy: 0.9606 - val_loss: 0.1164 - val_accuracy: 0.9787\n",
            "Epoch 43/100\n",
            "12/12 [==============================] - 0s 3ms/step - loss: 0.1288 - accuracy: 0.9633 - val_loss: 0.1150 - val_accuracy: 0.9787\n",
            "Epoch 44/100\n",
            "12/12 [==============================] - 0s 3ms/step - loss: 0.1274 - accuracy: 0.9633 - val_loss: 0.1136 - val_accuracy: 0.9787\n",
            "Epoch 45/100\n",
            "12/12 [==============================] - 0s 3ms/step - loss: 0.1261 - accuracy: 0.9633 - val_loss: 0.1123 - val_accuracy: 0.9787\n",
            "Epoch 46/100\n",
            "12/12 [==============================] - 0s 3ms/step - loss: 0.1249 - accuracy: 0.9633 - val_loss: 0.1111 - val_accuracy: 0.9787\n",
            "Epoch 47/100\n",
            "12/12 [==============================] - 0s 2ms/step - loss: 0.1236 - accuracy: 0.9633 - val_loss: 0.1099 - val_accuracy: 0.9787\n",
            "Epoch 48/100\n",
            "12/12 [==============================] - 0s 2ms/step - loss: 0.1225 - accuracy: 0.9633 - val_loss: 0.1087 - val_accuracy: 0.9787\n",
            "Epoch 49/100\n",
            "12/12 [==============================] - 0s 2ms/step - loss: 0.1213 - accuracy: 0.9633 - val_loss: 0.1076 - val_accuracy: 0.9840\n",
            "Epoch 50/100\n",
            "12/12 [==============================] - 0s 2ms/step - loss: 0.1203 - accuracy: 0.9633 - val_loss: 0.1065 - val_accuracy: 0.9840\n",
            "Epoch 51/100\n",
            "12/12 [==============================] - 0s 2ms/step - loss: 0.1193 - accuracy: 0.9633 - val_loss: 0.1054 - val_accuracy: 0.9840\n",
            "Epoch 52/100\n",
            "12/12 [==============================] - 0s 3ms/step - loss: 0.1182 - accuracy: 0.9633 - val_loss: 0.1043 - val_accuracy: 0.9840\n",
            "Epoch 53/100\n",
            "12/12 [==============================] - 0s 2ms/step - loss: 0.1172 - accuracy: 0.9659 - val_loss: 0.1035 - val_accuracy: 0.9840\n",
            "Epoch 54/100\n",
            "12/12 [==============================] - 0s 2ms/step - loss: 0.1163 - accuracy: 0.9659 - val_loss: 0.1024 - val_accuracy: 0.9840\n",
            "Epoch 55/100\n",
            "12/12 [==============================] - 0s 2ms/step - loss: 0.1153 - accuracy: 0.9659 - val_loss: 0.1016 - val_accuracy: 0.9840\n",
            "Epoch 56/100\n",
            "12/12 [==============================] - 0s 3ms/step - loss: 0.1144 - accuracy: 0.9685 - val_loss: 0.1006 - val_accuracy: 0.9840\n",
            "Epoch 57/100\n",
            "12/12 [==============================] - 0s 2ms/step - loss: 0.1135 - accuracy: 0.9685 - val_loss: 0.0997 - val_accuracy: 0.9840\n",
            "Epoch 58/100\n",
            "12/12 [==============================] - 0s 3ms/step - loss: 0.1126 - accuracy: 0.9685 - val_loss: 0.0988 - val_accuracy: 0.9840\n",
            "Epoch 59/100\n",
            "12/12 [==============================] - 0s 3ms/step - loss: 0.1118 - accuracy: 0.9685 - val_loss: 0.0981 - val_accuracy: 0.9840\n",
            "Epoch 60/100\n",
            "12/12 [==============================] - 0s 3ms/step - loss: 0.1110 - accuracy: 0.9711 - val_loss: 0.0973 - val_accuracy: 0.9840\n",
            "Epoch 61/100\n",
            "12/12 [==============================] - 0s 2ms/step - loss: 0.1101 - accuracy: 0.9711 - val_loss: 0.0964 - val_accuracy: 0.9840\n",
            "Epoch 62/100\n",
            "12/12 [==============================] - 0s 3ms/step - loss: 0.1094 - accuracy: 0.9711 - val_loss: 0.0957 - val_accuracy: 0.9840\n",
            "Epoch 63/100\n",
            "12/12 [==============================] - 0s 2ms/step - loss: 0.1087 - accuracy: 0.9738 - val_loss: 0.0950 - val_accuracy: 0.9840\n",
            "Epoch 64/100\n",
            "12/12 [==============================] - 0s 2ms/step - loss: 0.1079 - accuracy: 0.9738 - val_loss: 0.0944 - val_accuracy: 0.9840\n",
            "Epoch 65/100\n",
            "12/12 [==============================] - 0s 2ms/step - loss: 0.1072 - accuracy: 0.9764 - val_loss: 0.0936 - val_accuracy: 0.9840\n",
            "Epoch 66/100\n",
            "12/12 [==============================] - 0s 2ms/step - loss: 0.1064 - accuracy: 0.9764 - val_loss: 0.0929 - val_accuracy: 0.9840\n",
            "Epoch 67/100\n",
            "12/12 [==============================] - 0s 3ms/step - loss: 0.1058 - accuracy: 0.9764 - val_loss: 0.0922 - val_accuracy: 0.9840\n",
            "Epoch 68/100\n",
            "12/12 [==============================] - 0s 3ms/step - loss: 0.1051 - accuracy: 0.9764 - val_loss: 0.0917 - val_accuracy: 0.9840\n",
            "Epoch 69/100\n",
            "12/12 [==============================] - 0s 3ms/step - loss: 0.1045 - accuracy: 0.9764 - val_loss: 0.0909 - val_accuracy: 0.9840\n",
            "Epoch 70/100\n",
            "12/12 [==============================] - 0s 3ms/step - loss: 0.1038 - accuracy: 0.9764 - val_loss: 0.0903 - val_accuracy: 0.9840\n",
            "Epoch 71/100\n",
            "12/12 [==============================] - 0s 3ms/step - loss: 0.1032 - accuracy: 0.9764 - val_loss: 0.0897 - val_accuracy: 0.9840\n",
            "Epoch 72/100\n",
            "12/12 [==============================] - 0s 3ms/step - loss: 0.1026 - accuracy: 0.9764 - val_loss: 0.0891 - val_accuracy: 0.9840\n",
            "Epoch 73/100\n",
            "12/12 [==============================] - 0s 3ms/step - loss: 0.1020 - accuracy: 0.9764 - val_loss: 0.0887 - val_accuracy: 0.9840\n",
            "Epoch 74/100\n",
            "12/12 [==============================] - 0s 3ms/step - loss: 0.1014 - accuracy: 0.9764 - val_loss: 0.0882 - val_accuracy: 0.9840\n",
            "Epoch 75/100\n",
            "12/12 [==============================] - 0s 3ms/step - loss: 0.1008 - accuracy: 0.9764 - val_loss: 0.0876 - val_accuracy: 0.9840\n",
            "Epoch 76/100\n",
            "12/12 [==============================] - 0s 2ms/step - loss: 0.1003 - accuracy: 0.9764 - val_loss: 0.0871 - val_accuracy: 0.9840\n",
            "Epoch 77/100\n",
            "12/12 [==============================] - 0s 2ms/step - loss: 0.0997 - accuracy: 0.9764 - val_loss: 0.0865 - val_accuracy: 0.9840\n",
            "Epoch 78/100\n",
            "12/12 [==============================] - 0s 2ms/step - loss: 0.0992 - accuracy: 0.9764 - val_loss: 0.0860 - val_accuracy: 0.9840\n",
            "Epoch 79/100\n",
            "12/12 [==============================] - 0s 3ms/step - loss: 0.0987 - accuracy: 0.9764 - val_loss: 0.0855 - val_accuracy: 0.9840\n",
            "Epoch 80/100\n",
            "12/12 [==============================] - 0s 3ms/step - loss: 0.0981 - accuracy: 0.9764 - val_loss: 0.0850 - val_accuracy: 0.9840\n",
            "Epoch 81/100\n",
            "12/12 [==============================] - 0s 3ms/step - loss: 0.0976 - accuracy: 0.9764 - val_loss: 0.0846 - val_accuracy: 0.9840\n",
            "Epoch 82/100\n",
            "12/12 [==============================] - 0s 4ms/step - loss: 0.0971 - accuracy: 0.9764 - val_loss: 0.0841 - val_accuracy: 0.9840\n",
            "Epoch 83/100\n",
            "12/12 [==============================] - 0s 3ms/step - loss: 0.0967 - accuracy: 0.9764 - val_loss: 0.0836 - val_accuracy: 0.9840\n",
            "Epoch 84/100\n",
            "12/12 [==============================] - 0s 3ms/step - loss: 0.0962 - accuracy: 0.9764 - val_loss: 0.0832 - val_accuracy: 0.9840\n",
            "Epoch 85/100\n",
            "12/12 [==============================] - 0s 3ms/step - loss: 0.0957 - accuracy: 0.9764 - val_loss: 0.0828 - val_accuracy: 0.9840\n",
            "Epoch 86/100\n",
            "12/12 [==============================] - 0s 3ms/step - loss: 0.0953 - accuracy: 0.9764 - val_loss: 0.0824 - val_accuracy: 0.9840\n",
            "Epoch 87/100\n",
            "12/12 [==============================] - 0s 3ms/step - loss: 0.0948 - accuracy: 0.9764 - val_loss: 0.0820 - val_accuracy: 0.9840\n",
            "Epoch 88/100\n",
            "12/12 [==============================] - 0s 3ms/step - loss: 0.0944 - accuracy: 0.9790 - val_loss: 0.0815 - val_accuracy: 0.9840\n",
            "Epoch 89/100\n",
            "12/12 [==============================] - 0s 3ms/step - loss: 0.0940 - accuracy: 0.9790 - val_loss: 0.0811 - val_accuracy: 0.9840\n",
            "Epoch 90/100\n",
            "12/12 [==============================] - 0s 3ms/step - loss: 0.0936 - accuracy: 0.9790 - val_loss: 0.0807 - val_accuracy: 0.9840\n",
            "Epoch 91/100\n",
            "12/12 [==============================] - 0s 3ms/step - loss: 0.0931 - accuracy: 0.9790 - val_loss: 0.0803 - val_accuracy: 0.9840\n",
            "Epoch 92/100\n",
            "12/12 [==============================] - 0s 3ms/step - loss: 0.0927 - accuracy: 0.9790 - val_loss: 0.0800 - val_accuracy: 0.9840\n",
            "Epoch 93/100\n",
            "12/12 [==============================] - 0s 3ms/step - loss: 0.0923 - accuracy: 0.9790 - val_loss: 0.0796 - val_accuracy: 0.9840\n",
            "Epoch 94/100\n",
            "12/12 [==============================] - 0s 3ms/step - loss: 0.0919 - accuracy: 0.9790 - val_loss: 0.0793 - val_accuracy: 0.9840\n",
            "Epoch 95/100\n",
            "12/12 [==============================] - 0s 3ms/step - loss: 0.0916 - accuracy: 0.9790 - val_loss: 0.0789 - val_accuracy: 0.9840\n",
            "Epoch 96/100\n",
            "12/12 [==============================] - 0s 3ms/step - loss: 0.0911 - accuracy: 0.9790 - val_loss: 0.0786 - val_accuracy: 0.9840\n",
            "Epoch 97/100\n",
            "12/12 [==============================] - 0s 3ms/step - loss: 0.0908 - accuracy: 0.9790 - val_loss: 0.0782 - val_accuracy: 0.9840\n",
            "Epoch 98/100\n",
            "12/12 [==============================] - 0s 3ms/step - loss: 0.0904 - accuracy: 0.9790 - val_loss: 0.0779 - val_accuracy: 0.9840\n",
            "Epoch 99/100\n",
            "12/12 [==============================] - 0s 3ms/step - loss: 0.0901 - accuracy: 0.9790 - val_loss: 0.0776 - val_accuracy: 0.9840\n",
            "Epoch 100/100\n",
            "12/12 [==============================] - 0s 3ms/step - loss: 0.0897 - accuracy: 0.9790 - val_loss: 0.0772 - val_accuracy: 0.9840\n",
            "12/12 [==============================] - 0s 1ms/step - loss: 0.0895 - accuracy: 0.9790\n",
            "Train Score: [0.08946631848812103, 0.9790025949478149]\n",
            "6/6 [==============================] - 0s 2ms/step - loss: 0.0772 - accuracy: 0.9840\n",
            "Test Score: [0.07721485197544098, 0.9840425252914429]\n"
          ],
          "name": "stdout"
        }
      ]
    },
    {
      "cell_type": "code",
      "metadata": {
        "id": "X-x1ai4vzvF7",
        "outputId": "4039c48e-1288-4d98-db8d-c505ae6e8611",
        "colab": {
          "base_uri": "https://localhost:8080/",
          "height": 282
        }
      },
      "source": [
        "#Plot the output of the model.fit()\n",
        "\n",
        "import matplotlib.pyplot as plt\n",
        "plt.plot(r.history['loss'], label ='loss')\n",
        "plt.plot(r.history['val_loss'], label ='val_loss')\n",
        "plt.legend()\n"
      ],
      "execution_count": 13,
      "outputs": [
        {
          "output_type": "execute_result",
          "data": {
            "text/plain": [
              "<matplotlib.legend.Legend at 0x7f14ad950c88>"
            ]
          },
          "metadata": {
            "tags": []
          },
          "execution_count": 13
        },
        {
          "output_type": "display_data",
          "data": {
            "image/png": "[encoded data removed]",
            "text/plain": [
              "<Figure size 432x288 with 1 Axes>"
            ]
          },
          "metadata": {
            "tags": [],
            "needs_background": "light"
          }
        }
      ]
    },
    {
      "cell_type": "code",
      "metadata": {
        "id": "s5UNYbrJ77aR",
        "outputId": "a9017eb8-5812-409b-ac54-4a708b5afb2b",
        "colab": {
          "base_uri": "https://localhost:8080/",
          "height": 282
        }
      },
      "source": [
        "#Plot the accuracy too \n",
        "plt.plot(r.history ['accuracy'], label = 'acc')\n",
        "plt.plot(r.history ['val_accuracy'], label ='val_acc')"
      ],
      "execution_count": 14,
      "outputs": [
        {
          "output_type": "execute_result",
          "data": {
            "text/plain": [
              "[<matplotlib.lines.Line2D at 0x7f14ad95d240>]"
            ]
          },
          "metadata": {
            "tags": []
          },
          "execution_count": 14
        },
        {
          "output_type": "display_data",
          "data": {
            "image/png": "[encoded data removed]",
            "text/plain": [
              "<Figure size 432x288 with 1 Axes>"
            ]
          },
          "metadata": {
            "tags": [],
            "needs_background": "light"
          }
        }
      ]
    },
    {
      "cell_type": "code",
      "metadata": {
        "id": "Xzp8GH5B8x00",
        "outputId": "06e7604b-7500-431e-e408-48e990d14ef5",
        "colab": {
          "base_uri": "https://localhost:8080/"
        }
      },
      "source": [
        "P= model.predict (X_test)\n",
        "print (P)\n"
      ],
      "execution_count": 15,
      "outputs": [
        {
          "output_type": "stream",
          "text": [
            "[[9.90034103e-01]\n",
            " [2.51895487e-02]\n",
            " [2.10046768e-04]\n",
            " [8.93226027e-01]\n",
            " [9.87926364e-01]\n",
            " [1.29312277e-04]\n",
            " [6.65912032e-03]\n",
            " [9.85887527e-01]\n",
            " [9.54565108e-01]\n",
            " [9.99193907e-01]\n",
            " [9.89159346e-01]\n",
            " [9.99331355e-01]\n",
            " [9.95127022e-01]\n",
            " [9.98374343e-01]\n",
            " [9.78062630e-01]\n",
            " [9.98263597e-01]\n",
            " [8.48221779e-03]\n",
            " [9.51856732e-01]\n",
            " [9.53450203e-01]\n",
            " [5.71256876e-02]\n",
            " [9.27296281e-03]\n",
            " [9.98125374e-01]\n",
            " [8.51667821e-02]\n",
            " [9.91780400e-01]\n",
            " [9.99168277e-01]\n",
            " [1.54465437e-04]\n",
            " [9.99969602e-01]\n",
            " [2.17846036e-03]\n",
            " [1.08919681e-04]\n",
            " [6.77024722e-02]\n",
            " [9.58195865e-01]\n",
            " [9.69023943e-01]\n",
            " [9.87975121e-01]\n",
            " [3.34934048e-05]\n",
            " [9.85863030e-01]\n",
            " [9.61621642e-01]\n",
            " [9.96914446e-01]\n",
            " [3.77893448e-04]\n",
            " [3.94243002e-03]\n",
            " [9.65350688e-01]\n",
            " [9.94338334e-01]\n",
            " [3.13329697e-03]\n",
            " [9.86645222e-01]\n",
            " [9.16672170e-01]\n",
            " [9.44562376e-01]\n",
            " [9.91398573e-01]\n",
            " [2.03050375e-02]\n",
            " [3.55459213e-01]\n",
            " [1.28878355e-02]\n",
            " [9.95489597e-01]\n",
            " [4.15086150e-02]\n",
            " [9.97057259e-01]\n",
            " [9.92545128e-01]\n",
            " [9.44789354e-05]\n",
            " [9.52457547e-01]\n",
            " [3.88503075e-04]\n",
            " [5.93283772e-03]\n",
            " [2.98350677e-08]\n",
            " [7.06819713e-01]\n",
            " [9.99237597e-01]\n",
            " [9.93964195e-01]\n",
            " [9.28724170e-01]\n",
            " [7.23559612e-09]\n",
            " [9.98425782e-01]\n",
            " [9.98932779e-01]\n",
            " [9.90681887e-01]\n",
            " [1.22019792e-05]\n",
            " [9.97076988e-01]\n",
            " [9.57906902e-01]\n",
            " [9.99717116e-01]\n",
            " [9.22428153e-05]\n",
            " [5.22702932e-04]\n",
            " [3.57368588e-02]\n",
            " [9.66735423e-01]\n",
            " [9.73530531e-01]\n",
            " [9.96999502e-01]\n",
            " [9.80508089e-01]\n",
            " [9.70052004e-01]\n",
            " [9.72366095e-01]\n",
            " [1.07118219e-01]\n",
            " [9.98163939e-01]\n",
            " [5.70029020e-04]\n",
            " [8.96722078e-01]\n",
            " [9.99619365e-01]\n",
            " [9.93266225e-01]\n",
            " [1.83278322e-03]\n",
            " [9.98684406e-01]\n",
            " [9.51296031e-01]\n",
            " [6.11012001e-05]\n",
            " [9.53035593e-01]\n",
            " [9.99468863e-01]\n",
            " [9.91516113e-01]\n",
            " [9.86784697e-02]\n",
            " [2.77019954e-05]\n",
            " [3.30893090e-05]\n",
            " [8.43770444e-01]\n",
            " [9.96630967e-01]\n",
            " [9.99366999e-01]\n",
            " [8.86928678e-01]\n",
            " [9.87941504e-01]\n",
            " [9.99182105e-01]\n",
            " [9.89480555e-01]\n",
            " [1.66410937e-05]\n",
            " [8.91384721e-01]\n",
            " [3.56677473e-02]\n",
            " [1.07001662e-02]\n",
            " [9.23758864e-01]\n",
            " [2.16432869e-01]\n",
            " [9.99673665e-01]\n",
            " [2.30520964e-04]\n",
            " [7.34401345e-02]\n",
            " [7.78738499e-01]\n",
            " [9.82972503e-01]\n",
            " [9.95277166e-01]\n",
            " [9.97369170e-01]\n",
            " [2.11894512e-03]\n",
            " [5.66632688e-01]\n",
            " [2.27562338e-01]\n",
            " [5.72551787e-02]\n",
            " [7.25831414e-05]\n",
            " [9.97822523e-01]\n",
            " [9.62333262e-01]\n",
            " [1.55669099e-07]\n",
            " [4.77539271e-01]\n",
            " [9.99999404e-01]\n",
            " [2.64375031e-01]\n",
            " [3.70210409e-03]\n",
            " [5.31818271e-02]\n",
            " [6.90172791e-01]\n",
            " [9.93292451e-01]\n",
            " [8.00622106e-01]\n",
            " [9.89552736e-01]\n",
            " [2.74837017e-04]\n",
            " [3.33025038e-01]\n",
            " [8.95278454e-01]\n",
            " [9.50663090e-01]\n",
            " [9.14072752e-01]\n",
            " [5.15436432e-06]\n",
            " [8.11147493e-06]\n",
            " [7.66873360e-04]\n",
            " [9.48844552e-01]\n",
            " [9.60199416e-01]\n",
            " [9.99389768e-01]\n",
            " [9.99640226e-01]\n",
            " [9.98602569e-01]\n",
            " [9.92027998e-01]\n",
            " [9.68948305e-01]\n",
            " [9.59667206e-01]\n",
            " [1.92642212e-04]\n",
            " [9.99525428e-01]\n",
            " [9.68830705e-01]\n",
            " [9.99679327e-01]\n",
            " [9.95434403e-01]\n",
            " [9.40691411e-01]\n",
            " [9.98457849e-01]\n",
            " [9.82798696e-01]\n",
            " [1.78579092e-02]\n",
            " [9.96962190e-01]\n",
            " [9.79621410e-01]\n",
            " [9.48572636e-01]\n",
            " [9.98110354e-01]\n",
            " [9.33573186e-01]\n",
            " [4.93311891e-05]\n",
            " [9.99799490e-01]\n",
            " [9.59658623e-01]\n",
            " [9.96819317e-01]\n",
            " [8.94155979e-01]\n",
            " [9.56555903e-01]\n",
            " [8.99973154e-01]\n",
            " [1.77474180e-06]\n",
            " [9.59415495e-01]\n",
            " [6.51598215e-01]\n",
            " [5.56963116e-08]\n",
            " [9.99613643e-01]\n",
            " [9.87823248e-01]\n",
            " [5.61337856e-06]\n",
            " [9.96672988e-01]\n",
            " [9.49233770e-04]\n",
            " [5.41301012e-01]\n",
            " [9.86858487e-01]\n",
            " [2.88802385e-03]\n",
            " [7.00703561e-02]\n",
            " [9.95257735e-01]\n",
            " [9.65248346e-01]\n",
            " [9.81388628e-01]\n",
            " [9.99222040e-01]\n",
            " [9.91183877e-01]\n",
            " [9.92951155e-01]]\n"
          ],
          "name": "stdout"
        }
      ]
    },
    {
      "cell_type": "code",
      "metadata": {
        "id": "IMNQ2D6xOKWz",
        "outputId": "1445c5f1-30ea-4253-9039-e2bf9f98facf",
        "colab": {
          "base_uri": "https://localhost:8080/"
        }
      },
      "source": [
        "import numpy as np\n",
        "P=np.round(P).flatten()\n",
        "print (P)"
      ],
      "execution_count": 19,
      "outputs": [
        {
          "output_type": "stream",
          "text": [
            "[1. 0. 0. 1. 1. 0. 0. 1. 1. 1. 1. 1. 1. 1. 1. 1. 0. 1. 1. 0. 0. 1. 0. 1.\n",
            " 1. 0. 1. 0. 0. 0. 1. 1. 1. 0. 1. 1. 1. 0. 0. 1. 1. 0. 1. 1. 1. 1. 0. 0.\n",
            " 0. 1. 0. 1. 1. 0. 1. 0. 0. 0. 1. 1. 1. 1. 0. 1. 1. 1. 0. 1. 1. 1. 0. 0.\n",
            " 0. 1. 1. 1. 1. 1. 1. 0. 1. 0. 1. 1. 1. 0. 1. 1. 0. 1. 1. 1. 0. 0. 0. 1.\n",
            " 1. 1. 1. 1. 1. 1. 0. 1. 0. 0. 1. 0. 1. 0. 0. 1. 1. 1. 1. 0. 1. 0. 0. 0.\n",
            " 1. 1. 0. 0. 1. 0. 0. 0. 1. 1. 1. 1. 0. 0. 1. 1. 1. 0. 0. 0. 1. 1. 1. 1.\n",
            " 1. 1. 1. 1. 0. 1. 1. 1. 1. 1. 1. 1. 0. 1. 1. 1. 1. 1. 0. 1. 1. 1. 1. 1.\n",
            " 1. 0. 1. 1. 0. 1. 1. 0. 1. 0. 1. 1. 0. 0. 1. 1. 1. 1. 1. 1.]\n"
          ],
          "name": "stdout"
        }
      ]
    },
    {
      "cell_type": "code",
      "metadata": {
        "id": "M53UptDWOUdk",
        "outputId": "df1ad9e7-f90f-4817-d2d9-29df17d7eb4d",
        "colab": {
          "base_uri": "https://localhost:8080/"
        }
      },
      "source": [
        "#Calculate the accuracy and compare it to the evaluated output\n",
        "#We do this by calculating the mean of the output (y) since Y is made up of a lot of results. \n",
        "#To evaluate the output, all we need do is to compare between the input and the output, in this case the evaluate function on Pythin os used/\n",
        "print (\"manually minimised accuracy:\", np.mean(P==y_test))\n",
        "print(\"Evaluated output:\" , model.evaluate(X_test, y_test))"
      ],
      "execution_count": 24,
      "outputs": [
        {
          "output_type": "stream",
          "text": [
            "manually minimised accuracy: 0.9840425531914894\n",
            "6/6 [==============================] - 0s 1ms/step - loss: 0.0772 - accuracy: 0.9840\n",
            "Evaluated output: [0.07721485197544098, 0.9840425252914429]\n"
          ],
          "name": "stdout"
        }
      ]
    },
    {
      "cell_type": "code",
      "metadata": {
        "id": "glIoiSrGPMJ0"
      },
      "source": [
        "model.save('linearclassifier.h5')"
      ],
      "execution_count": 27,
      "outputs": []
    },
    {
      "cell_type": "code",
      "metadata": {
        "id": "SfgP0jq-SFL7",
        "outputId": "c6b520ec-805d-49e7-8274-cf2387e5fc23",
        "colab": {
          "base_uri": "https://localhost:8080/"
        }
      },
      "source": [
        "#Check that the model has been saved into the directory \n",
        "!ls -lh"
      ],
      "execution_count": 29,
      "outputs": [
        {
          "output_type": "stream",
          "text": [
            "total 24K\n",
            "-rw-r--r-- 1 root root  19K Nov 10 18:25 linearclassifier.h5\n",
            "drwxr-xr-x 1 root root 4.0K Nov  6 17:30 sample_data\n"
          ],
          "name": "stdout"
        }
      ]
    },
    {
      "cell_type": "code",
      "metadata": {
        "id": "iEyXS0lbaJ5X",
        "outputId": "6a6b431d-2bd1-4149-95f8-02b3fe5226f6",
        "colab": {
          "base_uri": "https://localhost:8080/"
        }
      },
      "source": [
        "#Now to confirm that the saved model still has the same layer as before\n",
        "\n",
        "model = tf.keras.models.load_model('linearclassifier.h5')\n",
        "print (model.layers)\n",
        "model.evaluate(X_test, y_test)\n"
      ],
      "execution_count": 31,
      "outputs": [
        {
          "output_type": "stream",
          "text": [
            "[<tensorflow.python.keras.layers.core.Dense object at 0x7f14aadc84a8>]\n",
            "6/6 [==============================] - 0s 1ms/step - loss: 0.0772 - accuracy: 0.9840\n"
          ],
          "name": "stdout"
        },
        {
          "output_type": "execute_result",
          "data": {
            "text/plain": [
              "[0.07721485197544098, 0.9840425252914429]"
            ]
          },
          "metadata": {
            "tags": []
          },
          "execution_count": 31
        }
      ]
    },
    {
      "cell_type": "code",
      "metadata": {
        "id": "6lkbYZHFbLNo",
        "outputId": "ef6963dc-0fd2-473a-fafe-cb1b6a0d8aba",
        "colab": {
          "base_uri": "https://localhost:8080/",
          "height": 17
        }
      },
      "source": [
        "from google.colab import files \n",
        "files.download('linearclassifier.h5')"
      ],
      "execution_count": 32,
      "outputs": [
        {
          "output_type": "display_data",
          "data": {
            "application/javascript": [
              "\n",
              "    async function download(id, filename, size) {\n",
              "      if (!google.colab.kernel.accessAllowed) {\n",
              "        return;\n",
              "      }\n",
              "      const div = document.createElement('div');\n",
              "      const label = document.createElement('label');\n",
              "      label.textContent = `Downloading \"${filename}\": `;\n",
              "      div.appendChild(label);\n",
              "      const progress = document.createElement('progress');\n",
              "      progress.max = size;\n",
              "      div.appendChild(progress);\n",
              "      document.body.appendChild(div);\n",
              "\n",
              "      const buffers = [];\n",
              "      let downloaded = 0;\n",
              "\n",
              "      const channel = await google.colab.kernel.comms.open(id);\n",
              "      // Send a message to notify the kernel that we're ready.\n",
              "      channel.send({})\n",
              "\n",
              "      for await (const message of channel.messages) {\n",
              "        // Send a message to notify the kernel that we're ready.\n",
              "        channel.send({})\n",
              "        if (message.buffers) {\n",
              "          for (const buffer of message.buffers) {\n",
              "            buffers.push(buffer);\n",
              "            downloaded += buffer.byteLength;\n",
              "            progress.value = downloaded;\n",
              "          }\n",
              "        }\n",
              "      }\n",
              "      const blob = new Blob(buffers, {type: 'application/binary'});\n",
              "      const a = document.createElement('a');\n",
              "      a.href = window.URL.createObjectURL(blob);\n",
              "      a.download = filename;\n",
              "      div.appendChild(a);\n",
              "      a.click();\n",
              "      div.remove();\n",
              "    }\n",
              "  "
            ],
            "text/plain": [
              "<IPython.core.display.Javascript object>"
            ]
          },
          "metadata": {
            "tags": []
          }
        },
        {
          "output_type": "display_data",
          "data": {
            "application/javascript": [
              "download(\"download_2672ea3c-cd64-499e-8245-cf19aa9df856\", \"linearclassifier.h5\", 18480)"
            ],
            "text/plain": [
              "<IPython.core.display.Javascript object>"
            ]
          },
          "metadata": {
            "tags": []
          }
        }
      ]
    },
    {
      "cell_type": "code",
      "metadata": {
        "id": "4gyRf091b07U"
      },
      "source": [
        ""
      ],
      "execution_count": null,
      "outputs": []
    }
  ]
}