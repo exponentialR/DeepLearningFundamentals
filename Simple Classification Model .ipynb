{
  "nbformat": 4,
  "nbformat_minor": 0,
  "metadata": {
    "colab": {
      "name": "Untitled2.ipynb",
      "provenance": [],
      "collapsed_sections": [],
      "authorship_tag": "ABX9TyPLCNtS+YuK4iYhhpuF+uxA",
      "include_colab_link": true
    },
    "kernelspec": {
      "name": "python3",
      "display_name": "Python 3"
    }
  },
  "cells": [
    {
      "cell_type": "markdown",
      "metadata": {
        "id": "view-in-github",
        "colab_type": "text"
      },
      "source": [
        "<a href=\"https://colab.research.google.com/github/exponentialR/DeepLearningFundamentals/blob/main/Simple%20Classification%20Model%20.ipynb\" target=\"_parent\"><img src=\"https://colab.research.google.com/assets/colab-badge.svg\" alt=\"Open In Colab\"/></a>"
      ]
    },
    {
      "cell_type": "code",
      "metadata": {
        "id": "Xn_AxjD7qDLz"
      },
      "source": [
        "import tensorflow as tf "
      ],
      "execution_count": null,
      "outputs": []
    },
    {
      "cell_type": "code",
      "metadata": {
        "id": "Z9gZRsvjqOnf"
      },
      "source": [
        "#import the data \n",
        "from sklearn.datasets import load_breast_cancer"
      ],
      "execution_count": null,
      "outputs": []
    },
    {
      "cell_type": "code",
      "metadata": {
        "id": "TP2jJp9YqX0F"
      },
      "source": [
        "#load the data \n",
        "data = load_breast_cancer()"
      ],
      "execution_count": null,
      "outputs": []
    },
    {
      "cell_type": "code",
      "metadata": {
        "id": "tqjk8OHIqlH9",
        "outputId": "e2f31bbb-8fbe-4e23-d4dc-36eb37b34c18",
        "colab": {
          "base_uri": "https://localhost:8080/"
        }
      },
      "source": [
        "#check the data type \n",
        "type(data)"
      ],
      "execution_count": null,
      "outputs": [
        {
          "output_type": "execute_result",
          "data": {
            "text/plain": [
              "sklearn.utils.Bunch"
            ]
          },
          "metadata": {
            "tags": []
          },
          "execution_count": 5
        }
      ]
    },
    {
      "cell_type": "code",
      "metadata": {
        "id": "vLgvvMZAqs7o",
        "outputId": "f832c64b-fb8d-48ee-e2cc-d3ec502c0201",
        "colab": {
          "base_uri": "https://localhost:8080/"
        }
      },
      "source": [
        "data.keys()"
      ],
      "execution_count": null,
      "outputs": [
        {
          "output_type": "execute_result",
          "data": {
            "text/plain": [
              "dict_keys(['data', 'target', 'target_names', 'DESCR', 'feature_names', 'filename'])"
            ]
          },
          "metadata": {
            "tags": []
          },
          "execution_count": 6
        }
      ]
    },
    {
      "cell_type": "code",
      "metadata": {
        "id": "ndCt1Wddrf9R",
        "outputId": "028947c4-bed1-41ce-e894-147bd1dfb6c5",
        "colab": {
          "base_uri": "https://localhost:8080/"
        }
      },
      "source": [
        "data.target"
      ],
      "execution_count": null,
      "outputs": [
        {
          "output_type": "execute_result",
          "data": {
            "text/plain": [
              "array([0, 0, 0, 0, 0, 0, 0, 0, 0, 0, 0, 0, 0, 0, 0, 0, 0, 0, 0, 1, 1, 1,\n",
              "       0, 0, 0, 0, 0, 0, 0, 0, 0, 0, 0, 0, 0, 0, 0, 1, 0, 0, 0, 0, 0, 0,\n",
              "       0, 0, 1, 0, 1, 1, 1, 1, 1, 0, 0, 1, 0, 0, 1, 1, 1, 1, 0, 1, 0, 0,\n",
              "       1, 1, 1, 1, 0, 1, 0, 0, 1, 0, 1, 0, 0, 1, 1, 1, 0, 0, 1, 0, 0, 0,\n",
              "       1, 1, 1, 0, 1, 1, 0, 0, 1, 1, 1, 0, 0, 1, 1, 1, 1, 0, 1, 1, 0, 1,\n",
              "       1, 1, 1, 1, 1, 1, 1, 0, 0, 0, 1, 0, 0, 1, 1, 1, 0, 0, 1, 0, 1, 0,\n",
              "       0, 1, 0, 0, 1, 1, 0, 1, 1, 0, 1, 1, 1, 1, 0, 1, 1, 1, 1, 1, 1, 1,\n",
              "       1, 1, 0, 1, 1, 1, 1, 0, 0, 1, 0, 1, 1, 0, 0, 1, 1, 0, 0, 1, 1, 1,\n",
              "       1, 0, 1, 1, 0, 0, 0, 1, 0, 1, 0, 1, 1, 1, 0, 1, 1, 0, 0, 1, 0, 0,\n",
              "       0, 0, 1, 0, 0, 0, 1, 0, 1, 0, 1, 1, 0, 1, 0, 0, 0, 0, 1, 1, 0, 0,\n",
              "       1, 1, 1, 0, 1, 1, 1, 1, 1, 0, 0, 1, 1, 0, 1, 1, 0, 0, 1, 0, 1, 1,\n",
              "       1, 1, 0, 1, 1, 1, 1, 1, 0, 1, 0, 0, 0, 0, 0, 0, 0, 0, 0, 0, 0, 0,\n",
              "       0, 0, 1, 1, 1, 1, 1, 1, 0, 1, 0, 1, 1, 0, 1, 1, 0, 1, 0, 0, 1, 1,\n",
              "       1, 1, 1, 1, 1, 1, 1, 1, 1, 1, 1, 0, 1, 1, 0, 1, 0, 1, 1, 1, 1, 1,\n",
              "       1, 1, 1, 1, 1, 1, 1, 1, 1, 0, 1, 1, 1, 0, 1, 0, 1, 1, 1, 1, 0, 0,\n",
              "       0, 1, 1, 1, 1, 0, 1, 0, 1, 0, 1, 1, 1, 0, 1, 1, 1, 1, 1, 1, 1, 0,\n",
              "       0, 0, 1, 1, 1, 1, 1, 1, 1, 1, 1, 1, 1, 0, 0, 1, 0, 0, 0, 1, 0, 0,\n",
              "       1, 1, 1, 1, 1, 0, 1, 1, 1, 1, 1, 0, 1, 1, 1, 0, 1, 1, 0, 0, 1, 1,\n",
              "       1, 1, 1, 1, 0, 1, 1, 1, 1, 1, 1, 1, 0, 1, 1, 1, 1, 1, 0, 1, 1, 0,\n",
              "       1, 1, 1, 1, 1, 1, 1, 1, 1, 1, 1, 1, 0, 1, 0, 0, 1, 0, 1, 1, 1, 1,\n",
              "       1, 0, 1, 1, 0, 1, 0, 1, 1, 0, 1, 0, 1, 1, 1, 1, 1, 1, 1, 1, 0, 0,\n",
              "       1, 1, 1, 1, 1, 1, 0, 1, 1, 1, 1, 1, 1, 1, 1, 1, 1, 0, 1, 1, 1, 1,\n",
              "       1, 1, 1, 0, 1, 0, 1, 1, 0, 1, 1, 1, 1, 1, 0, 0, 1, 0, 1, 0, 1, 1,\n",
              "       1, 1, 1, 0, 1, 1, 0, 1, 0, 1, 0, 0, 1, 1, 1, 0, 1, 1, 1, 1, 1, 1,\n",
              "       1, 1, 1, 1, 1, 0, 1, 0, 0, 1, 1, 1, 1, 1, 1, 1, 1, 1, 1, 1, 1, 1,\n",
              "       1, 1, 1, 1, 1, 1, 1, 1, 1, 1, 1, 1, 0, 0, 0, 0, 0, 0, 1])"
            ]
          },
          "metadata": {
            "tags": []
          },
          "execution_count": 7
        }
      ]
    },
    {
      "cell_type": "code",
      "metadata": {
        "id": "zbrzTpCEroXI",
        "outputId": "99f5d30b-f550-4042-e77a-48979afd7b5a",
        "colab": {
          "base_uri": "https://localhost:8080/"
        }
      },
      "source": [
        "data.data.shape"
      ],
      "execution_count": null,
      "outputs": [
        {
          "output_type": "execute_result",
          "data": {
            "text/plain": [
              "(569, 30)"
            ]
          },
          "metadata": {
            "tags": []
          },
          "execution_count": 8
        }
      ]
    },
    {
      "cell_type": "code",
      "metadata": {
        "id": "1owIzKDNrtBy",
        "outputId": "0e5a8465-0260-4e78-b1f0-77e305d19e93",
        "colab": {
          "base_uri": "https://localhost:8080/"
        }
      },
      "source": [
        "data.target_names\n"
      ],
      "execution_count": null,
      "outputs": [
        {
          "output_type": "execute_result",
          "data": {
            "text/plain": [
              "array(['malignant', 'benign'], dtype='<U9')"
            ]
          },
          "metadata": {
            "tags": []
          },
          "execution_count": 21
        }
      ]
    },
    {
      "cell_type": "code",
      "metadata": {
        "id": "7rGTCqWx5P1H",
        "outputId": "b7269c36-bdcd-4cb1-f4b2-36b48af2f0e5",
        "colab": {
          "base_uri": "https://localhost:8080/"
        }
      },
      "source": [
        "data.feature_names"
      ],
      "execution_count": null,
      "outputs": [
        {
          "output_type": "execute_result",
          "data": {
            "text/plain": [
              "array(['mean radius', 'mean texture', 'mean perimeter', 'mean area',\n",
              "       'mean smoothness', 'mean compactness', 'mean concavity',\n",
              "       'mean concave points', 'mean symmetry', 'mean fractal dimension',\n",
              "       'radius error', 'texture error', 'perimeter error', 'area error',\n",
              "       'smoothness error', 'compactness error', 'concavity error',\n",
              "       'concave points error', 'symmetry error',\n",
              "       'fractal dimension error', 'worst radius', 'worst texture',\n",
              "       'worst perimeter', 'worst area', 'worst smoothness',\n",
              "       'worst compactness', 'worst concavity', 'worst concave points',\n",
              "       'worst symmetry', 'worst fractal dimension'], dtype='<U23')"
            ]
          },
          "metadata": {
            "tags": []
          },
          "execution_count": 22
        }
      ]
    },
    {
      "cell_type": "code",
      "metadata": {
        "id": "L57zxOmarwzR"
      },
      "source": [
        "from sklearn.model_selection import train_test_split\n",
        "X_train, X_test, y_train, y_test = train_test_split (data.data, data.target, test_size = 0.33)\n",
        "N, D = X_train.shape"
      ],
      "execution_count": null,
      "outputs": []
    },
    {
      "cell_type": "code",
      "metadata": {
        "id": "sqgGmOUCsYRh"
      },
      "source": [
        "#scale the data\n",
        "from sklearn.preprocessing import StandardScaler\n",
        "scaler =StandardScaler()\n",
        "X_train = scaler.fit_transform(X_train)\n",
        "X_test = scaler.transform(X_test)"
      ],
      "execution_count": null,
      "outputs": []
    },
    {
      "cell_type": "code",
      "metadata": {
        "id": "neoB3ngrtGhg",
        "outputId": "16bb0926-d27d-4362-ab90-f513aa55a769",
        "colab": {
          "base_uri": "https://localhost:8080/"
        }
      },
      "source": [
        "#Now build the model using Tensorflow \n",
        "\n",
        "model = tf.keras.models.Sequential([\n",
        "  tf.keras.layers.Input(shape=(D,)),\n",
        "  tf.keras.layers.Dense(1, activation='sigmoid')\n",
        "])\n",
        "\n",
        "\n",
        "model.compile(optimizer = 'adam',\n",
        "              loss='binary_crossentropy',\n",
        "              metrics=['accuracy'])\n",
        "\n",
        "#Train the model \n",
        "r = model.fit(X_train, y_train, validation_data=(X_test, y_test), epochs=100)\n",
        "\n",
        "#Evaluate the model - evaluate () returns loss and accuracy\n",
        "\n",
        "print(\"Train Score:\", model.evaluate(X_train, y_train))\n",
        "print(\"Test Score:\", model.evaluate (X_test, y_test))"
      ],
      "execution_count": null,
      "outputs": [
        {
          "output_type": "stream",
          "text": [
            "Epoch 1/100\n",
            "12/12 [==============================] - 0s 11ms/step - loss: 0.9145 - accuracy: 0.4409 - val_loss: 0.8668 - val_accuracy: 0.5000\n",
            "Epoch 2/100\n",
            "12/12 [==============================] - 0s 3ms/step - loss: 0.8341 - accuracy: 0.5197 - val_loss: 0.7974 - val_accuracy: 0.5585\n",
            "Epoch 3/100\n",
            "12/12 [==============================] - 0s 3ms/step - loss: 0.7615 - accuracy: 0.5827 - val_loss: 0.7364 - val_accuracy: 0.6277\n",
            "Epoch 4/100\n",
            "12/12 [==============================] - 0s 3ms/step - loss: 0.6989 - accuracy: 0.6352 - val_loss: 0.6821 - val_accuracy: 0.6596\n",
            "Epoch 5/100\n",
            "12/12 [==============================] - 0s 3ms/step - loss: 0.6448 - accuracy: 0.6693 - val_loss: 0.6336 - val_accuracy: 0.7181\n",
            "Epoch 6/100\n",
            "12/12 [==============================] - 0s 3ms/step - loss: 0.5962 - accuracy: 0.7087 - val_loss: 0.5919 - val_accuracy: 0.7606\n",
            "Epoch 7/100\n",
            "12/12 [==============================] - 0s 4ms/step - loss: 0.5548 - accuracy: 0.7454 - val_loss: 0.5550 - val_accuracy: 0.7713\n",
            "Epoch 8/100\n",
            "12/12 [==============================] - 0s 3ms/step - loss: 0.5187 - accuracy: 0.7690 - val_loss: 0.5214 - val_accuracy: 0.7819\n",
            "Epoch 9/100\n",
            "12/12 [==============================] - 0s 3ms/step - loss: 0.4854 - accuracy: 0.7953 - val_loss: 0.4921 - val_accuracy: 0.7872\n",
            "Epoch 10/100\n",
            "12/12 [==============================] - 0s 3ms/step - loss: 0.4575 - accuracy: 0.8163 - val_loss: 0.4649 - val_accuracy: 0.8138\n",
            "Epoch 11/100\n",
            "12/12 [==============================] - 0s 3ms/step - loss: 0.4313 - accuracy: 0.8451 - val_loss: 0.4413 - val_accuracy: 0.8457\n",
            "Epoch 12/100\n",
            "12/12 [==============================] - 0s 3ms/step - loss: 0.4082 - accuracy: 0.8635 - val_loss: 0.4199 - val_accuracy: 0.8723\n",
            "Epoch 13/100\n",
            "12/12 [==============================] - 0s 3ms/step - loss: 0.3879 - accuracy: 0.8740 - val_loss: 0.4001 - val_accuracy: 0.8723\n",
            "Epoch 14/100\n",
            "12/12 [==============================] - 0s 3ms/step - loss: 0.3686 - accuracy: 0.8793 - val_loss: 0.3829 - val_accuracy: 0.8723\n",
            "Epoch 15/100\n",
            "12/12 [==============================] - 0s 3ms/step - loss: 0.3521 - accuracy: 0.8871 - val_loss: 0.3664 - val_accuracy: 0.8830\n",
            "Epoch 16/100\n",
            "12/12 [==============================] - 0s 3ms/step - loss: 0.3359 - accuracy: 0.8924 - val_loss: 0.3521 - val_accuracy: 0.8883\n",
            "Epoch 17/100\n",
            "12/12 [==============================] - 0s 3ms/step - loss: 0.3223 - accuracy: 0.9003 - val_loss: 0.3384 - val_accuracy: 0.8989\n",
            "Epoch 18/100\n",
            "12/12 [==============================] - 0s 3ms/step - loss: 0.3092 - accuracy: 0.9029 - val_loss: 0.3261 - val_accuracy: 0.8989\n",
            "Epoch 19/100\n",
            "12/12 [==============================] - 0s 4ms/step - loss: 0.2976 - accuracy: 0.9029 - val_loss: 0.3142 - val_accuracy: 0.8989\n",
            "Epoch 20/100\n",
            "12/12 [==============================] - 0s 3ms/step - loss: 0.2862 - accuracy: 0.9055 - val_loss: 0.3041 - val_accuracy: 0.8989\n",
            "Epoch 21/100\n",
            "12/12 [==============================] - 0s 3ms/step - loss: 0.2764 - accuracy: 0.9081 - val_loss: 0.2943 - val_accuracy: 0.9043\n",
            "Epoch 22/100\n",
            "12/12 [==============================] - 0s 3ms/step - loss: 0.2671 - accuracy: 0.9134 - val_loss: 0.2854 - val_accuracy: 0.9096\n",
            "Epoch 23/100\n",
            "12/12 [==============================] - 0s 3ms/step - loss: 0.2587 - accuracy: 0.9213 - val_loss: 0.2770 - val_accuracy: 0.9149\n",
            "Epoch 24/100\n",
            "12/12 [==============================] - 0s 3ms/step - loss: 0.2505 - accuracy: 0.9291 - val_loss: 0.2696 - val_accuracy: 0.9202\n",
            "Epoch 25/100\n",
            "12/12 [==============================] - 0s 3ms/step - loss: 0.2435 - accuracy: 0.9318 - val_loss: 0.2620 - val_accuracy: 0.9309\n",
            "Epoch 26/100\n",
            "12/12 [==============================] - 0s 3ms/step - loss: 0.2363 - accuracy: 0.9344 - val_loss: 0.2555 - val_accuracy: 0.9309\n",
            "Epoch 27/100\n",
            "12/12 [==============================] - 0s 3ms/step - loss: 0.2300 - accuracy: 0.9370 - val_loss: 0.2491 - val_accuracy: 0.9309\n",
            "Epoch 28/100\n",
            "12/12 [==============================] - 0s 3ms/step - loss: 0.2240 - accuracy: 0.9423 - val_loss: 0.2432 - val_accuracy: 0.9362\n",
            "Epoch 29/100\n",
            "12/12 [==============================] - 0s 3ms/step - loss: 0.2183 - accuracy: 0.9423 - val_loss: 0.2378 - val_accuracy: 0.9362\n",
            "Epoch 30/100\n",
            "12/12 [==============================] - 0s 3ms/step - loss: 0.2130 - accuracy: 0.9396 - val_loss: 0.2327 - val_accuracy: 0.9362\n",
            "Epoch 31/100\n",
            "12/12 [==============================] - 0s 3ms/step - loss: 0.2081 - accuracy: 0.9396 - val_loss: 0.2280 - val_accuracy: 0.9362\n",
            "Epoch 32/100\n",
            "12/12 [==============================] - 0s 3ms/step - loss: 0.2033 - accuracy: 0.9396 - val_loss: 0.2237 - val_accuracy: 0.9362\n",
            "Epoch 33/100\n",
            "12/12 [==============================] - 0s 3ms/step - loss: 0.1990 - accuracy: 0.9423 - val_loss: 0.2197 - val_accuracy: 0.9362\n",
            "Epoch 34/100\n",
            "12/12 [==============================] - 0s 3ms/step - loss: 0.1948 - accuracy: 0.9475 - val_loss: 0.2156 - val_accuracy: 0.9362\n",
            "Epoch 35/100\n",
            "12/12 [==============================] - 0s 3ms/step - loss: 0.1909 - accuracy: 0.9475 - val_loss: 0.2115 - val_accuracy: 0.9362\n",
            "Epoch 36/100\n",
            "12/12 [==============================] - 0s 3ms/step - loss: 0.1870 - accuracy: 0.9475 - val_loss: 0.2081 - val_accuracy: 0.9362\n",
            "Epoch 37/100\n",
            "12/12 [==============================] - 0s 3ms/step - loss: 0.1835 - accuracy: 0.9475 - val_loss: 0.2047 - val_accuracy: 0.9309\n",
            "Epoch 38/100\n",
            "12/12 [==============================] - 0s 3ms/step - loss: 0.1801 - accuracy: 0.9475 - val_loss: 0.2015 - val_accuracy: 0.9309\n",
            "Epoch 39/100\n",
            "12/12 [==============================] - 0s 3ms/step - loss: 0.1768 - accuracy: 0.9501 - val_loss: 0.1984 - val_accuracy: 0.9309\n",
            "Epoch 40/100\n",
            "12/12 [==============================] - 0s 3ms/step - loss: 0.1737 - accuracy: 0.9501 - val_loss: 0.1956 - val_accuracy: 0.9309\n",
            "Epoch 41/100\n",
            "12/12 [==============================] - 0s 3ms/step - loss: 0.1708 - accuracy: 0.9501 - val_loss: 0.1931 - val_accuracy: 0.9309\n",
            "Epoch 42/100\n",
            "12/12 [==============================] - 0s 3ms/step - loss: 0.1680 - accuracy: 0.9501 - val_loss: 0.1904 - val_accuracy: 0.9309\n",
            "Epoch 43/100\n",
            "12/12 [==============================] - 0s 3ms/step - loss: 0.1652 - accuracy: 0.9501 - val_loss: 0.1879 - val_accuracy: 0.9309\n",
            "Epoch 44/100\n",
            "12/12 [==============================] - 0s 4ms/step - loss: 0.1627 - accuracy: 0.9501 - val_loss: 0.1855 - val_accuracy: 0.9309\n",
            "Epoch 45/100\n",
            "12/12 [==============================] - 0s 3ms/step - loss: 0.1601 - accuracy: 0.9501 - val_loss: 0.1834 - val_accuracy: 0.9309\n",
            "Epoch 46/100\n",
            "12/12 [==============================] - 0s 3ms/step - loss: 0.1578 - accuracy: 0.9501 - val_loss: 0.1811 - val_accuracy: 0.9362\n",
            "Epoch 47/100\n",
            "12/12 [==============================] - 0s 3ms/step - loss: 0.1555 - accuracy: 0.9528 - val_loss: 0.1790 - val_accuracy: 0.9362\n",
            "Epoch 48/100\n",
            "12/12 [==============================] - 0s 3ms/step - loss: 0.1532 - accuracy: 0.9528 - val_loss: 0.1771 - val_accuracy: 0.9362\n",
            "Epoch 49/100\n",
            "12/12 [==============================] - 0s 3ms/step - loss: 0.1511 - accuracy: 0.9528 - val_loss: 0.1752 - val_accuracy: 0.9362\n",
            "Epoch 50/100\n",
            "12/12 [==============================] - 0s 3ms/step - loss: 0.1490 - accuracy: 0.9528 - val_loss: 0.1734 - val_accuracy: 0.9362\n",
            "Epoch 51/100\n",
            "12/12 [==============================] - 0s 3ms/step - loss: 0.1472 - accuracy: 0.9528 - val_loss: 0.1715 - val_accuracy: 0.9362\n",
            "Epoch 52/100\n",
            "12/12 [==============================] - 0s 3ms/step - loss: 0.1452 - accuracy: 0.9528 - val_loss: 0.1697 - val_accuracy: 0.9362\n",
            "Epoch 53/100\n",
            "12/12 [==============================] - 0s 2ms/step - loss: 0.1432 - accuracy: 0.9554 - val_loss: 0.1682 - val_accuracy: 0.9362\n",
            "Epoch 54/100\n",
            "12/12 [==============================] - 0s 3ms/step - loss: 0.1415 - accuracy: 0.9554 - val_loss: 0.1668 - val_accuracy: 0.9362\n",
            "Epoch 55/100\n",
            "12/12 [==============================] - 0s 3ms/step - loss: 0.1398 - accuracy: 0.9554 - val_loss: 0.1653 - val_accuracy: 0.9362\n",
            "Epoch 56/100\n",
            "12/12 [==============================] - 0s 3ms/step - loss: 0.1380 - accuracy: 0.9554 - val_loss: 0.1639 - val_accuracy: 0.9362\n",
            "Epoch 57/100\n",
            "12/12 [==============================] - 0s 3ms/step - loss: 0.1364 - accuracy: 0.9554 - val_loss: 0.1625 - val_accuracy: 0.9415\n",
            "Epoch 58/100\n",
            "12/12 [==============================] - 0s 3ms/step - loss: 0.1348 - accuracy: 0.9554 - val_loss: 0.1613 - val_accuracy: 0.9415\n",
            "Epoch 59/100\n",
            "12/12 [==============================] - 0s 4ms/step - loss: 0.1333 - accuracy: 0.9554 - val_loss: 0.1599 - val_accuracy: 0.9415\n",
            "Epoch 60/100\n",
            "12/12 [==============================] - 0s 3ms/step - loss: 0.1318 - accuracy: 0.9554 - val_loss: 0.1587 - val_accuracy: 0.9415\n",
            "Epoch 61/100\n",
            "12/12 [==============================] - 0s 3ms/step - loss: 0.1304 - accuracy: 0.9554 - val_loss: 0.1574 - val_accuracy: 0.9468\n",
            "Epoch 62/100\n",
            "12/12 [==============================] - 0s 3ms/step - loss: 0.1290 - accuracy: 0.9554 - val_loss: 0.1561 - val_accuracy: 0.9468\n",
            "Epoch 63/100\n",
            "12/12 [==============================] - 0s 3ms/step - loss: 0.1275 - accuracy: 0.9554 - val_loss: 0.1552 - val_accuracy: 0.9468\n",
            "Epoch 64/100\n",
            "12/12 [==============================] - 0s 3ms/step - loss: 0.1262 - accuracy: 0.9554 - val_loss: 0.1540 - val_accuracy: 0.9468\n",
            "Epoch 65/100\n",
            "12/12 [==============================] - 0s 3ms/step - loss: 0.1249 - accuracy: 0.9554 - val_loss: 0.1530 - val_accuracy: 0.9468\n",
            "Epoch 66/100\n",
            "12/12 [==============================] - 0s 3ms/step - loss: 0.1236 - accuracy: 0.9554 - val_loss: 0.1519 - val_accuracy: 0.9468\n",
            "Epoch 67/100\n",
            "12/12 [==============================] - 0s 3ms/step - loss: 0.1224 - accuracy: 0.9580 - val_loss: 0.1508 - val_accuracy: 0.9468\n",
            "Epoch 68/100\n",
            "12/12 [==============================] - 0s 3ms/step - loss: 0.1212 - accuracy: 0.9580 - val_loss: 0.1500 - val_accuracy: 0.9468\n",
            "Epoch 69/100\n",
            "12/12 [==============================] - 0s 3ms/step - loss: 0.1200 - accuracy: 0.9580 - val_loss: 0.1491 - val_accuracy: 0.9468\n",
            "Epoch 70/100\n",
            "12/12 [==============================] - 0s 3ms/step - loss: 0.1188 - accuracy: 0.9580 - val_loss: 0.1481 - val_accuracy: 0.9468\n",
            "Epoch 71/100\n",
            "12/12 [==============================] - 0s 3ms/step - loss: 0.1177 - accuracy: 0.9580 - val_loss: 0.1472 - val_accuracy: 0.9468\n",
            "Epoch 72/100\n",
            "12/12 [==============================] - 0s 3ms/step - loss: 0.1166 - accuracy: 0.9580 - val_loss: 0.1463 - val_accuracy: 0.9468\n",
            "Epoch 73/100\n",
            "12/12 [==============================] - 0s 3ms/step - loss: 0.1156 - accuracy: 0.9580 - val_loss: 0.1455 - val_accuracy: 0.9468\n",
            "Epoch 74/100\n",
            "12/12 [==============================] - 0s 2ms/step - loss: 0.1145 - accuracy: 0.9580 - val_loss: 0.1448 - val_accuracy: 0.9468\n",
            "Epoch 75/100\n",
            "12/12 [==============================] - 0s 3ms/step - loss: 0.1135 - accuracy: 0.9580 - val_loss: 0.1440 - val_accuracy: 0.9521\n",
            "Epoch 76/100\n",
            "12/12 [==============================] - 0s 3ms/step - loss: 0.1125 - accuracy: 0.9606 - val_loss: 0.1432 - val_accuracy: 0.9521\n",
            "Epoch 77/100\n",
            "12/12 [==============================] - 0s 3ms/step - loss: 0.1115 - accuracy: 0.9606 - val_loss: 0.1426 - val_accuracy: 0.9521\n",
            "Epoch 78/100\n",
            "12/12 [==============================] - 0s 3ms/step - loss: 0.1106 - accuracy: 0.9606 - val_loss: 0.1417 - val_accuracy: 0.9574\n",
            "Epoch 79/100\n",
            "12/12 [==============================] - 0s 3ms/step - loss: 0.1096 - accuracy: 0.9606 - val_loss: 0.1411 - val_accuracy: 0.9574\n",
            "Epoch 80/100\n",
            "12/12 [==============================] - 0s 3ms/step - loss: 0.1087 - accuracy: 0.9606 - val_loss: 0.1404 - val_accuracy: 0.9574\n",
            "Epoch 81/100\n",
            "12/12 [==============================] - 0s 4ms/step - loss: 0.1078 - accuracy: 0.9633 - val_loss: 0.1397 - val_accuracy: 0.9521\n",
            "Epoch 82/100\n",
            "12/12 [==============================] - 0s 3ms/step - loss: 0.1069 - accuracy: 0.9633 - val_loss: 0.1390 - val_accuracy: 0.9521\n",
            "Epoch 83/100\n",
            "12/12 [==============================] - 0s 3ms/step - loss: 0.1060 - accuracy: 0.9633 - val_loss: 0.1384 - val_accuracy: 0.9521\n",
            "Epoch 84/100\n",
            "12/12 [==============================] - 0s 3ms/step - loss: 0.1052 - accuracy: 0.9659 - val_loss: 0.1379 - val_accuracy: 0.9521\n",
            "Epoch 85/100\n",
            "12/12 [==============================] - 0s 3ms/step - loss: 0.1044 - accuracy: 0.9659 - val_loss: 0.1372 - val_accuracy: 0.9521\n",
            "Epoch 86/100\n",
            "12/12 [==============================] - 0s 3ms/step - loss: 0.1035 - accuracy: 0.9685 - val_loss: 0.1366 - val_accuracy: 0.9521\n",
            "Epoch 87/100\n",
            "12/12 [==============================] - 0s 3ms/step - loss: 0.1027 - accuracy: 0.9685 - val_loss: 0.1361 - val_accuracy: 0.9521\n",
            "Epoch 88/100\n",
            "12/12 [==============================] - 0s 3ms/step - loss: 0.1019 - accuracy: 0.9685 - val_loss: 0.1355 - val_accuracy: 0.9521\n",
            "Epoch 89/100\n",
            "12/12 [==============================] - 0s 3ms/step - loss: 0.1012 - accuracy: 0.9685 - val_loss: 0.1350 - val_accuracy: 0.9521\n",
            "Epoch 90/100\n",
            "12/12 [==============================] - 0s 4ms/step - loss: 0.1004 - accuracy: 0.9711 - val_loss: 0.1345 - val_accuracy: 0.9521\n",
            "Epoch 91/100\n",
            "12/12 [==============================] - 0s 3ms/step - loss: 0.0997 - accuracy: 0.9711 - val_loss: 0.1340 - val_accuracy: 0.9521\n",
            "Epoch 92/100\n",
            "12/12 [==============================] - 0s 3ms/step - loss: 0.0989 - accuracy: 0.9711 - val_loss: 0.1335 - val_accuracy: 0.9521\n",
            "Epoch 93/100\n",
            "12/12 [==============================] - 0s 3ms/step - loss: 0.0982 - accuracy: 0.9711 - val_loss: 0.1329 - val_accuracy: 0.9521\n",
            "Epoch 94/100\n",
            "12/12 [==============================] - 0s 3ms/step - loss: 0.0975 - accuracy: 0.9738 - val_loss: 0.1325 - val_accuracy: 0.9521\n",
            "Epoch 95/100\n",
            "12/12 [==============================] - 0s 3ms/step - loss: 0.0968 - accuracy: 0.9738 - val_loss: 0.1320 - val_accuracy: 0.9521\n",
            "Epoch 96/100\n",
            "12/12 [==============================] - 0s 3ms/step - loss: 0.0962 - accuracy: 0.9738 - val_loss: 0.1316 - val_accuracy: 0.9521\n",
            "Epoch 97/100\n",
            "12/12 [==============================] - 0s 3ms/step - loss: 0.0955 - accuracy: 0.9738 - val_loss: 0.1310 - val_accuracy: 0.9521\n",
            "Epoch 98/100\n",
            "12/12 [==============================] - 0s 3ms/step - loss: 0.0947 - accuracy: 0.9738 - val_loss: 0.1306 - val_accuracy: 0.9521\n",
            "Epoch 99/100\n",
            "12/12 [==============================] - 0s 3ms/step - loss: 0.0941 - accuracy: 0.9738 - val_loss: 0.1302 - val_accuracy: 0.9521\n",
            "Epoch 100/100\n",
            "12/12 [==============================] - 0s 3ms/step - loss: 0.0935 - accuracy: 0.9738 - val_loss: 0.1298 - val_accuracy: 0.9521\n",
            "12/12 [==============================] - 0s 1ms/step - loss: 0.0931 - accuracy: 0.9738\n",
            "Train Score: [0.09311017394065857, 0.9737532734870911]\n",
            "6/6 [==============================] - 0s 2ms/step - loss: 0.1298 - accuracy: 0.9521\n",
            "Test Score: [0.12977458536624908, 0.9521276354789734]\n"
          ],
          "name": "stdout"
        }
      ]
    },
    {
      "cell_type": "code",
      "metadata": {
        "id": "X-x1ai4vzvF7",
        "outputId": "7d47d3c3-516f-42b1-9d44-682bf81c8f58",
        "colab": {
          "base_uri": "https://localhost:8080/",
          "height": 282
        }
      },
      "source": [
        "#Plot the output of the model.fit()\n",
        "\n",
        "import matplotlib.pyplot as plt\n",
        "plt.plot(r.history['loss'], label ='loss')\n",
        "plt.plot(r.history['val_loss'], label ='val_loss')\n",
        "plt.legend()\n"
      ],
      "execution_count": null,
      "outputs": [
        {
          "output_type": "execute_result",
          "data": {
            "text/plain": [
              "<matplotlib.legend.Legend at 0x7f23caf86748>"
            ]
          },
          "metadata": {
            "tags": []
          },
          "execution_count": 33
        },
        {
          "output_type": "display_data",
          "data": {
            "image/png": "[encoded data removed]",
            "text/plain": [
              "<Figure size 432x288 with 1 Axes>"
            ]
          },
          "metadata": {
            "tags": [],
            "needs_background": "light"
          }
        }
      ]
    },
    {
      "cell_type": "code",
      "metadata": {
        "id": "s5UNYbrJ77aR",
        "outputId": "f159931a-fac9-46a0-a096-12a295c9643d",
        "colab": {
          "base_uri": "https://localhost:8080/",
          "height": 286
        }
      },
      "source": [
        "#Plot the accuracy too \n",
        "plt.plot(r.history ['accuracy'], label = 'acc')\n",
        "plt.plot(r.history ['val_accuracy'], label ='val_acc')"
      ],
      "execution_count": null,
      "outputs": [
        {
          "output_type": "execute_result",
          "data": {
            "text/plain": [
              "[<matplotlib.lines.Line2D at 0x7f23d107a4a8>]"
            ]
          },
          "metadata": {
            "tags": []
          },
          "execution_count": 34
        },
        {
          "output_type": "display_data",
          "data": {
            "image/png": "[encoded data removed]",
            "text/plain": [
              "<Figure size 432x288 with 1 Axes>"
            ]
          },
          "metadata": {
            "tags": [],
            "needs_background": "light"
          }
        }
      ]
    },
    {
      "cell_type": "code",
      "metadata": {
        "id": "Xzp8GH5B8x00"
      },
      "source": [
        ""
      ],
      "execution_count": null,
      "outputs": []
    }
  ]
}