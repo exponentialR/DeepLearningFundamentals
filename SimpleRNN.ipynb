{
  "nbformat": 4,
  "nbformat_minor": 0,
  "metadata": {
    "colab": {
      "name": "SimpleRNN.ipynb",
      "provenance": [],
      "authorship_tag": "ABX9TyMStB4LAPcQtHN7zaxzvzBU",
      "include_colab_link": true
    },
    "kernelspec": {
      "name": "python3",
      "display_name": "Python 3"
    }
  },
  "cells": [
    {
      "cell_type": "markdown",
      "metadata": {
        "id": "view-in-github",
        "colab_type": "text"
      },
      "source": [
        "<a href=\"https://colab.research.google.com/github/exponentialR/DeepLearningFundamentals/blob/main/SimpleRNN.ipynb\" target=\"_parent\"><img src=\"https://colab.research.google.com/assets/colab-badge.svg\" alt=\"Open In Colab\"/></a>"
      ]
    },
    {
      "cell_type": "markdown",
      "metadata": {
        "id": "ehMW1OMF_hZh"
      },
      "source": [
        "# **Simple Recurrent Neural Network**\n",
        "\n",
        "\n",
        "\n",
        "### Steps\n",
        "\n",
        "Step 1: Load in the data\n",
        "\n",
        "Step 2: Build the model\n",
        "\n",
        "Step 3: Train the model \n",
        "\n",
        "Step 4 : Evaluate the model \n",
        "\n",
        "Step 5: Make Predictions"
      ]
    },
    {
      "cell_type": "markdown",
      "metadata": {
        "id": "DDvIoHyLAfn0"
      },
      "source": [
        "##Load in the data \n",
        "\n",
        "To do this we will generate a synthetic data from Sine function\n",
        "\n",
        "- Create a sine wave supervised learning dataset\n",
        "    - Input data: sequence of length T \n",
        "    - Output: next value (scalar)\n",
        "\n",
        "- Count from t = 0... len(series) - T\n",
        "    - since the final target should be at len(series) -1\n",
        "\n",
        "- Remember Linear Regression expects 2D input data =  N x T\n",
        "\n",
        "- However, we are on RNN which expects 3D input Data = N x T x 1\n",
        "\n",
        "see code in this cell"
      ]
    },
    {
      "cell_type": "markdown",
      "metadata": {
        "id": "X52aIZYvBsQG"
      },
      "source": [
        "##Instantiate the Model\n",
        "\n",
        "From tensorflow.keras.layers import Input, **SimpleRNN**, Dense--- Apparently this is an inbuilt model in Keras written in tensorflow. \n",
        "\n",
        "It is not a **simpleRNN** because it is easy to understand or that it is not complex. It is a simpleRNN because it is the actual name of the RNN. However, this is actually quite complex as compared ANN.\n",
        "\n",
        "See snipet of code here\n",
        "\n"
      ]
    },
    {
      "cell_type": "markdown",
      "metadata": {
        "id": "Fl-mFMfIDUZZ"
      },
      "source": [
        "##Training and evaluation of the model \n",
        "\n",
        "See code here\n",
        "\n",
        "Compile and plot the loss iteration to ensure it converges."
      ]
    },
    {
      "cell_type": "markdown",
      "metadata": {
        "id": "c_g5MRs_DjfJ"
      },
      "source": [
        "##Making PRedictions\n",
        "\n",
        "- As mentioned earlier the input shape will be N x T x D, and with an output N x K\n",
        "    - N = 1 D= 1, K = 1 \n",
        "\n",
        "- A single time-series input will then be a 1D array of length T. \n",
        "\n",
        "see code here"
      ]
    },
    {
      "cell_type": "code",
      "metadata": {
        "id": "YwFIK0u-ERuW"
      },
      "source": [
        "import tensorflow as tf"
      ],
      "execution_count": 10,
      "outputs": []
    },
    {
      "cell_type": "code",
      "metadata": {
        "id": "D64hLcppFgh2"
      },
      "source": [
        "from tensorflow.keras.layers import Input, SimpleRNN, Dense, Flatten\n",
        "from tensorflow.keras.models import Model\n",
        "from tensorflow.keras.optimizers import SGD, Adam\n",
        "\n",
        "import numpy as np\n",
        "import pandas as pd\n",
        "import matplotlib.pyplot as plt\n"
      ],
      "execution_count": 11,
      "outputs": []
    },
    {
      "cell_type": "code",
      "metadata": {
        "id": "Gb2KuiWwHI1T",
        "outputId": "39a5535a-6958-4d40-e940-91c376f026c9",
        "colab": {
          "base_uri": "https://localhost:8080/",
          "height": 265
        }
      },
      "source": [
        "#make the original data \n",
        "series = np.sin(0.1*np.arange(200)) + np.random.randn(200)*0.1\n",
        "\n",
        "#plot the generated data \n",
        "\n",
        "plt.plot(series)\n",
        "plt.show()\n",
        "\n"
      ],
      "execution_count": 33,
      "outputs": [
        {
          "output_type": "display_data",
          "data": {
            "image/png": "[encoded data removed]",
            "text/plain": [
              "<Figure size 432x288 with 1 Axes>"
            ]
          },
          "metadata": {
            "tags": [],
            "needs_background": "light"
          }
        }
      ]
    },
    {
      "cell_type": "code",
      "metadata": {
        "id": "PfegrM-Qx5fF",
        "outputId": "27b3fe13-ca47-41a7-d4e9-0d9a88eb5e62",
        "colab": {
          "base_uri": "https://localhost:8080/"
        }
      },
      "source": [
        "#It is time to build the dataset from the generated datasets\n",
        "#The idea is to use the past values of T to predict the next value \n",
        "T= 10\n",
        "D = 1 \n",
        "X = []\n",
        "Y = []\n",
        "for t in range (len(series) - T):\n",
        "  x = series[t:t+T]\n",
        "  X.append(x)\n",
        "  y = series[t+T]\n",
        "  Y.append(y)\n",
        "\n",
        "X = np.array(X).reshape(-1, T, 1)\n",
        "Y = np.array(Y)\n",
        "N = len(X)\n",
        "print(\"X.shape\", X.shape, \"Y.shape\", Y.shape)\n",
        "\n",
        "\n"
      ],
      "execution_count": 34,
      "outputs": [
        {
          "output_type": "stream",
          "text": [
            "X.shape (190, 10, 1) Y.shape (190,)\n"
          ],
          "name": "stdout"
        }
      ]
    },
    {
      "cell_type": "code",
      "metadata": {
        "id": "gsnEx5SEzJMN",
        "outputId": "463a0406-1fc5-46c0-a53f-ce2304b9cd19",
        "colab": {
          "base_uri": "https://localhost:8080/"
        }
      },
      "source": [
        "##Build the RNN Model \n",
        "i = Input(shape=(T, 1))\n",
        "x = SimpleRNN(5, activation='relu')(i)\n",
        "x = Dense (1)(x)\n",
        "model = Model(i, x)\n",
        "model.compile(\n",
        "    loss = 'mse', \n",
        "    optimizer=Adam(lr = 0.1), \n",
        ")\n",
        "\n",
        "#Training the model \n",
        "r = model.fit(\n",
        "    X[:-N//2], Y[:-N//2],\n",
        "    epochs = 80,\n",
        "    validation_data = (X[-N//2:], Y[-N//2:]), \n",
        ")"
      ],
      "execution_count": 47,
      "outputs": [
        {
          "output_type": "stream",
          "text": [
            "Epoch 1/80\n",
            "3/3 [==============================] - 0s 58ms/step - loss: 0.4623 - val_loss: 0.2082\n",
            "Epoch 2/80\n",
            "3/3 [==============================] - 0s 8ms/step - loss: 0.1462 - val_loss: 0.2189\n",
            "Epoch 3/80\n",
            "3/3 [==============================] - 0s 8ms/step - loss: 0.1880 - val_loss: 0.2042\n",
            "Epoch 4/80\n",
            "3/3 [==============================] - 0s 8ms/step - loss: 0.1614 - val_loss: 0.1453\n",
            "Epoch 5/80\n",
            "3/3 [==============================] - 0s 10ms/step - loss: 0.1176 - val_loss: 0.1314\n",
            "Epoch 6/80\n",
            "3/3 [==============================] - 0s 7ms/step - loss: 0.1146 - val_loss: 0.1442\n",
            "Epoch 7/80\n",
            "3/3 [==============================] - 0s 8ms/step - loss: 0.1093 - val_loss: 0.1153\n",
            "Epoch 8/80\n",
            "3/3 [==============================] - 0s 8ms/step - loss: 0.0754 - val_loss: 0.0895\n",
            "Epoch 9/80\n",
            "3/3 [==============================] - 0s 8ms/step - loss: 0.0793 - val_loss: 0.0790\n",
            "Epoch 10/80\n",
            "3/3 [==============================] - 0s 8ms/step - loss: 0.0646 - val_loss: 0.0750\n",
            "Epoch 11/80\n",
            "3/3 [==============================] - 0s 9ms/step - loss: 0.0600 - val_loss: 0.0605\n",
            "Epoch 12/80\n",
            "3/3 [==============================] - 0s 8ms/step - loss: 0.0457 - val_loss: 0.0439\n",
            "Epoch 13/80\n",
            "3/3 [==============================] - 0s 8ms/step - loss: 0.0420 - val_loss: 0.0352\n",
            "Epoch 14/80\n",
            "3/3 [==============================] - 0s 7ms/step - loss: 0.0342 - val_loss: 0.0359\n",
            "Epoch 15/80\n",
            "3/3 [==============================] - 0s 7ms/step - loss: 0.0355 - val_loss: 0.0341\n",
            "Epoch 16/80\n",
            "3/3 [==============================] - 0s 8ms/step - loss: 0.0318 - val_loss: 0.0246\n",
            "Epoch 17/80\n",
            "3/3 [==============================] - 0s 9ms/step - loss: 0.0291 - val_loss: 0.0231\n",
            "Epoch 18/80\n",
            "3/3 [==============================] - 0s 7ms/step - loss: 0.0272 - val_loss: 0.0253\n",
            "Epoch 19/80\n",
            "3/3 [==============================] - 0s 9ms/step - loss: 0.0269 - val_loss: 0.0231\n",
            "Epoch 20/80\n",
            "3/3 [==============================] - 0s 7ms/step - loss: 0.0248 - val_loss: 0.0217\n",
            "Epoch 21/80\n",
            "3/3 [==============================] - 0s 8ms/step - loss: 0.0249 - val_loss: 0.0225\n",
            "Epoch 22/80\n",
            "3/3 [==============================] - 0s 9ms/step - loss: 0.0246 - val_loss: 0.0227\n",
            "Epoch 23/80\n",
            "3/3 [==============================] - 0s 8ms/step - loss: 0.0241 - val_loss: 0.0229\n",
            "Epoch 24/80\n",
            "3/3 [==============================] - 0s 8ms/step - loss: 0.0244 - val_loss: 0.0225\n",
            "Epoch 25/80\n",
            "3/3 [==============================] - 0s 8ms/step - loss: 0.0240 - val_loss: 0.0226\n",
            "Epoch 26/80\n",
            "3/3 [==============================] - 0s 8ms/step - loss: 0.0239 - val_loss: 0.0221\n",
            "Epoch 27/80\n",
            "3/3 [==============================] - 0s 8ms/step - loss: 0.0240 - val_loss: 0.0220\n",
            "Epoch 28/80\n",
            "3/3 [==============================] - 0s 8ms/step - loss: 0.0237 - val_loss: 0.0220\n",
            "Epoch 29/80\n",
            "3/3 [==============================] - 0s 8ms/step - loss: 0.0238 - val_loss: 0.0224\n",
            "Epoch 30/80\n",
            "3/3 [==============================] - 0s 8ms/step - loss: 0.0243 - val_loss: 0.0224\n",
            "Epoch 31/80\n",
            "3/3 [==============================] - 0s 8ms/step - loss: 0.0237 - val_loss: 0.0224\n",
            "Epoch 32/80\n",
            "3/3 [==============================] - 0s 9ms/step - loss: 0.0242 - val_loss: 0.0232\n",
            "Epoch 33/80\n",
            "3/3 [==============================] - 0s 8ms/step - loss: 0.0241 - val_loss: 0.0220\n",
            "Epoch 34/80\n",
            "3/3 [==============================] - 0s 10ms/step - loss: 0.0235 - val_loss: 0.0229\n",
            "Epoch 35/80\n",
            "3/3 [==============================] - 0s 8ms/step - loss: 0.0261 - val_loss: 0.0240\n",
            "Epoch 36/80\n",
            "3/3 [==============================] - 0s 8ms/step - loss: 0.0235 - val_loss: 0.0232\n",
            "Epoch 37/80\n",
            "3/3 [==============================] - 0s 8ms/step - loss: 0.0244 - val_loss: 0.0236\n",
            "Epoch 38/80\n",
            "3/3 [==============================] - 0s 9ms/step - loss: 0.0281 - val_loss: 0.0283\n",
            "Epoch 39/80\n",
            "3/3 [==============================] - 0s 8ms/step - loss: 0.0241 - val_loss: 0.0241\n",
            "Epoch 40/80\n",
            "3/3 [==============================] - 0s 8ms/step - loss: 0.0253 - val_loss: 0.0243\n",
            "Epoch 41/80\n",
            "3/3 [==============================] - 0s 9ms/step - loss: 0.0278 - val_loss: 0.0275\n",
            "Epoch 42/80\n",
            "3/3 [==============================] - 0s 9ms/step - loss: 0.0271 - val_loss: 0.0243\n",
            "Epoch 43/80\n",
            "3/3 [==============================] - 0s 9ms/step - loss: 0.0256 - val_loss: 0.0244\n",
            "Epoch 44/80\n",
            "3/3 [==============================] - 0s 9ms/step - loss: 0.0258 - val_loss: 0.0261\n",
            "Epoch 45/80\n",
            "3/3 [==============================] - 0s 8ms/step - loss: 0.0254 - val_loss: 0.0231\n",
            "Epoch 46/80\n",
            "3/3 [==============================] - 0s 8ms/step - loss: 0.0239 - val_loss: 0.0254\n",
            "Epoch 47/80\n",
            "3/3 [==============================] - 0s 8ms/step - loss: 0.0241 - val_loss: 0.0240\n",
            "Epoch 48/80\n",
            "3/3 [==============================] - 0s 8ms/step - loss: 0.0251 - val_loss: 0.0225\n",
            "Epoch 49/80\n",
            "3/3 [==============================] - 0s 8ms/step - loss: 0.0244 - val_loss: 0.0247\n",
            "Epoch 50/80\n",
            "3/3 [==============================] - 0s 8ms/step - loss: 0.0233 - val_loss: 0.0229\n",
            "Epoch 51/80\n",
            "3/3 [==============================] - 0s 8ms/step - loss: 0.0231 - val_loss: 0.0227\n",
            "Epoch 52/80\n",
            "3/3 [==============================] - 0s 8ms/step - loss: 0.0234 - val_loss: 0.0246\n",
            "Epoch 53/80\n",
            "3/3 [==============================] - 0s 9ms/step - loss: 0.0233 - val_loss: 0.0237\n",
            "Epoch 54/80\n",
            "3/3 [==============================] - 0s 9ms/step - loss: 0.0231 - val_loss: 0.0237\n",
            "Epoch 55/80\n",
            "3/3 [==============================] - 0s 8ms/step - loss: 0.0231 - val_loss: 0.0231\n",
            "Epoch 56/80\n",
            "3/3 [==============================] - 0s 8ms/step - loss: 0.0231 - val_loss: 0.0242\n",
            "Epoch 57/80\n",
            "3/3 [==============================] - 0s 8ms/step - loss: 0.0233 - val_loss: 0.0234\n",
            "Epoch 58/80\n",
            "3/3 [==============================] - 0s 8ms/step - loss: 0.0248 - val_loss: 0.0258\n",
            "Epoch 59/80\n",
            "3/3 [==============================] - 0s 8ms/step - loss: 0.0231 - val_loss: 0.0251\n",
            "Epoch 60/80\n",
            "3/3 [==============================] - 0s 8ms/step - loss: 0.0247 - val_loss: 0.0245\n",
            "Epoch 61/80\n",
            "3/3 [==============================] - 0s 8ms/step - loss: 0.0248 - val_loss: 0.0323\n",
            "Epoch 62/80\n",
            "3/3 [==============================] - 0s 8ms/step - loss: 0.0248 - val_loss: 0.0246\n",
            "Epoch 63/80\n",
            "3/3 [==============================] - 0s 10ms/step - loss: 0.0246 - val_loss: 0.0252\n",
            "Epoch 64/80\n",
            "3/3 [==============================] - 0s 9ms/step - loss: 0.0240 - val_loss: 0.0279\n",
            "Epoch 65/80\n",
            "3/3 [==============================] - 0s 11ms/step - loss: 0.0243 - val_loss: 0.0244\n",
            "Epoch 66/80\n",
            "3/3 [==============================] - 0s 8ms/step - loss: 0.0249 - val_loss: 0.0276\n",
            "Epoch 67/80\n",
            "3/3 [==============================] - 0s 8ms/step - loss: 0.0236 - val_loss: 0.0251\n",
            "Epoch 68/80\n",
            "3/3 [==============================] - 0s 8ms/step - loss: 0.0239 - val_loss: 0.0278\n",
            "Epoch 69/80\n",
            "3/3 [==============================] - 0s 8ms/step - loss: 0.0240 - val_loss: 0.0267\n",
            "Epoch 70/80\n",
            "3/3 [==============================] - 0s 9ms/step - loss: 0.0240 - val_loss: 0.0261\n",
            "Epoch 71/80\n",
            "3/3 [==============================] - 0s 8ms/step - loss: 0.0225 - val_loss: 0.0264\n",
            "Epoch 72/80\n",
            "3/3 [==============================] - 0s 8ms/step - loss: 0.0234 - val_loss: 0.0268\n",
            "Epoch 73/80\n",
            "3/3 [==============================] - 0s 8ms/step - loss: 0.0236 - val_loss: 0.0255\n",
            "Epoch 74/80\n",
            "3/3 [==============================] - 0s 9ms/step - loss: 0.0228 - val_loss: 0.0262\n",
            "Epoch 75/80\n",
            "3/3 [==============================] - 0s 9ms/step - loss: 0.0223 - val_loss: 0.0249\n",
            "Epoch 76/80\n",
            "3/3 [==============================] - 0s 10ms/step - loss: 0.0243 - val_loss: 0.0252\n",
            "Epoch 77/80\n",
            "3/3 [==============================] - 0s 8ms/step - loss: 0.0247 - val_loss: 0.0272\n",
            "Epoch 78/80\n",
            "3/3 [==============================] - 0s 8ms/step - loss: 0.0234 - val_loss: 0.0243\n",
            "Epoch 79/80\n",
            "3/3 [==============================] - 0s 9ms/step - loss: 0.0231 - val_loss: 0.0279\n",
            "Epoch 80/80\n",
            "3/3 [==============================] - 0s 7ms/step - loss: 0.0241 - val_loss: 0.0244\n"
          ],
          "name": "stdout"
        }
      ]
    },
    {
      "cell_type": "code",
      "metadata": {
        "id": "NYJ0YrSx2h9p",
        "outputId": "3720368d-e690-4ff3-b22b-d8ae3a04da6e",
        "colab": {
          "base_uri": "https://localhost:8080/",
          "height": 282
        }
      },
      "source": [
        "#plot the loss per iteration \n",
        "plt.plot(r.history['loss'], label ='loss')\n",
        "plt.plot(r.history['val_loss'], label = 'val_loss')\n",
        "plt.legend()\n"
      ],
      "execution_count": 48,
      "outputs": [
        {
          "output_type": "execute_result",
          "data": {
            "text/plain": [
              "<matplotlib.legend.Legend at 0x7fc018d40c50>"
            ]
          },
          "metadata": {
            "tags": []
          },
          "execution_count": 48
        },
        {
          "output_type": "display_data",
          "data": {
            "image/png": "[encoded data removed]",
            "text/plain": [
              "<Figure size 432x288 with 1 Axes>"
            ]
          },
          "metadata": {
            "tags": [],
            "needs_background": "light"
          }
        }
      ]
    },
    {
      "cell_type": "code",
      "metadata": {
        "id": "Jo3uxV1y26wP"
      },
      "source": [
        "#One step forecast\n",
        "\n",
        "validation_targer = Y[-N//2:]\n",
        "validation_predictions = []\n",
        "\n",
        "#index of first validation input \n",
        "i = -N//2\n",
        "\n",
        "while len (validation_predictions) < len(validation_targer):\n",
        "  p   =  model.predict (X[i].reshape(1, -1, 1))[0,0]  #1 x1 array --> scalar \n",
        "  i += 1\n",
        "\n",
        "  validation_predictions.append(p)\n"
      ],
      "execution_count": 49,
      "outputs": []
    },
    {
      "cell_type": "code",
      "metadata": {
        "id": "cnuDYsco332r",
        "outputId": "e85f46b2-ac44-4518-f566-b16d06f9cd62",
        "colab": {
          "base_uri": "https://localhost:8080/",
          "height": 282
        }
      },
      "source": [
        "plt.plot(validation_targer, label = 'forecast target')\n",
        "plt.plot(validation_predictions, label = 'forecast prediction')\n",
        "plt.legend()"
      ],
      "execution_count": 50,
      "outputs": [
        {
          "output_type": "execute_result",
          "data": {
            "text/plain": [
              "<matplotlib.legend.Legend at 0x7fc018afc940>"
            ]
          },
          "metadata": {
            "tags": []
          },
          "execution_count": 50
        },
        {
          "output_type": "display_data",
          "data": {
            "image/png": "[encoded data removed]",
            "text/plain": [
              "<Figure size 432x288 with 1 Axes>"
            ]
          },
          "metadata": {
            "tags": [],
            "needs_background": "light"
          }
        }
      ]
    },
    {
      "cell_type": "code",
      "metadata": {
        "id": "FNyseIFj4RRv"
      },
      "source": [
        "#Real  forecast for future values \n",
        "validation_targer = Y[-N//2:]\n",
        "validation_predictions = []\n",
        "\n",
        "#last train the input \n",
        "last_x = X[-N//2]\n",
        "\n",
        "while len (validation_predictions)< len(validation_targer):\n",
        "  p = model.predict (last_x.reshape(1, -1, 1))[0,0]\n",
        "\n",
        "  validation_predictions.append(p)\n",
        "\n",
        "  last_x = np.roll(last_x, -1)\n",
        "  last_x[-1] = p\n",
        "  "
      ],
      "execution_count": 51,
      "outputs": []
    },
    {
      "cell_type": "code",
      "metadata": {
        "id": "Ze_ybLs549FA",
        "outputId": "9c7493ca-8e2e-48cb-bde8-31a09b86e325",
        "colab": {
          "base_uri": "https://localhost:8080/",
          "height": 282
        }
      },
      "source": [
        "plt.plot(validation_targer, label = 'forecast targer')\n",
        "plt.plot(validation_predictions, label = 'forecast prediction')\n",
        "plt.legend()"
      ],
      "execution_count": 52,
      "outputs": [
        {
          "output_type": "execute_result",
          "data": {
            "text/plain": [
              "<matplotlib.legend.Legend at 0x7fc019fee358>"
            ]
          },
          "metadata": {
            "tags": []
          },
          "execution_count": 52
        },
        {
          "output_type": "display_data",
          "data": {
            "image/png": "[encoded data removed]",
            "text/plain": [
              "<Figure size 432x288 with 1 Axes>"
            ]
          },
          "metadata": {
            "tags": [],
            "needs_background": "light"
          }
        }
      ]
    },
    {
      "cell_type": "code",
      "metadata": {
        "id": "OooOrJ_L5PeP"
      },
      "source": [
        ""
      ],
      "execution_count": null,
      "outputs": []
    }
  ]
}