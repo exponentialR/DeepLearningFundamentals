{
  "nbformat": 4,
  "nbformat_minor": 0,
  "metadata": {
    "colab": {
      "name": "ANN for handwriting recognition.ipynb",
      "provenance": [],
      "authorship_tag": "ABX9TyOSLtezujCSWVVXxjKyVJnq",
      "include_colab_link": true
    },
    "kernelspec": {
      "name": "python3",
      "display_name": "Python 3"
    }
  },
  "cells": [
    {
      "cell_type": "markdown",
      "metadata": {
        "id": "view-in-github",
        "colab_type": "text"
      },
      "source": [
        "<a href=\"https://colab.research.google.com/github/exponentialR/DeepLearningFundamentals/blob/main/ANN_for_handwriting_recognition.ipynb\" target=\"_parent\"><img src=\"https://colab.research.google.com/assets/colab-badge.svg\" alt=\"Open In Colab\"/></a>"
      ]
    },
    {
      "cell_type": "code",
      "metadata": {
        "id": "CxaRzmSwBT8C"
      },
      "source": [
        "import tensorflow as tf   #import tensorflow"
      ],
      "execution_count": null,
      "outputs": []
    },
    {
      "cell_type": "code",
      "metadata": {
        "id": "fZKVY27YBoxW",
        "outputId": "1ba99f2e-1069-4310-e99d-6a9776330f75",
        "colab": {
          "base_uri": "https://localhost:8080/"
        }
      },
      "source": [
        "#Load the data\n",
        "\n",
        "mnist = tf.keras.datasets.mnist\n",
        "(x_train, y_train), (x_test, y_test) = mnist.load_data()\n",
        "x_train, x_test = x_train/255.0, x_test/255.0\n",
        "print (\"x_train.shape is: \", x_train.shape)"
      ],
      "execution_count": null,
      "outputs": [
        {
          "output_type": "stream",
          "text": [
            "Downloading data from https://storage.googleapis.com/tensorflow/tf-keras-datasets/mnist.npz\n",
            "11493376/11490434 [==============================] - 0s 0us/step\n",
            "x_train.shape is:  (60000, 28, 28)\n"
          ],
          "name": "stdout"
        }
      ]
    },
    {
      "cell_type": "code",
      "metadata": {
        "id": "1BsOKIIcChpm"
      },
      "source": [
        "#Build the model\n",
        "\n",
        "model = tf.keras.models.Sequential([   #\n",
        "  tf.keras.layers.Flatten(input_shape = (28, 28)), #converts the data from Nx28x28 to Nx784, that is to a 2 dimensional Matrix\n",
        "  tf.keras.layers.Dense(128, activation ='relu'), #The Dense layer represents the actual layer of the Neuro networks  it does a linear transformation with 128 output\n",
        "  tf.keras.layers.Dropout(0.2), #Dropout regularization, with a probability of 20%\n",
        "  tf.keras.layers.Dense(10, activation='softmax') #Then another Dense layer over the 10 output classes (0, 1, 2, 3, 4, 5, 6, 7, 8, 9)\n",
        "\n",
        "])"
      ],
      "execution_count": null,
      "outputs": []
    },
    {
      "cell_type": "code",
      "metadata": {
        "id": "-Y-26ZpnDVEZ"
      },
      "source": [
        "#Compile the model\n",
        "\n",
        "model.compile(optimizer='adam',\n",
        "              loss = 'sparse_categorical_crossentropy',\n",
        "              metrics = ['accuracy'])\n"
      ],
      "execution_count": null,
      "outputs": []
    },
    {
      "cell_type": "code",
      "metadata": {
        "id": "rJZYrxwPD47O",
        "outputId": "bbecbf78-c947-4a10-a04f-8cdbb1a1e684",
        "colab": {
          "base_uri": "https://localhost:8080/"
        }
      },
      "source": [
        "#Train the model \n",
        "\n",
        "r = model.fit(x_train, y_train, validation_data = (x_test, y_test), epochs = 10)"
      ],
      "execution_count": null,
      "outputs": [
        {
          "output_type": "stream",
          "text": [
            "Epoch 1/10\n",
            "1875/1875 [==============================] - 4s 2ms/step - loss: 0.2989 - accuracy: 0.9139 - val_loss: 0.1469 - val_accuracy: 0.9572\n",
            "Epoch 2/10\n",
            "1875/1875 [==============================] - 3s 2ms/step - loss: 0.1410 - accuracy: 0.9580 - val_loss: 0.1073 - val_accuracy: 0.9675\n",
            "Epoch 3/10\n",
            "1875/1875 [==============================] - 3s 2ms/step - loss: 0.1068 - accuracy: 0.9678 - val_loss: 0.0833 - val_accuracy: 0.9738\n",
            "Epoch 4/10\n",
            "1875/1875 [==============================] - 3s 2ms/step - loss: 0.0875 - accuracy: 0.9730 - val_loss: 0.0806 - val_accuracy: 0.9759\n",
            "Epoch 5/10\n",
            "1875/1875 [==============================] - 3s 2ms/step - loss: 0.0741 - accuracy: 0.9769 - val_loss: 0.0729 - val_accuracy: 0.9776\n",
            "Epoch 6/10\n",
            "1875/1875 [==============================] - 3s 2ms/step - loss: 0.0655 - accuracy: 0.9794 - val_loss: 0.0721 - val_accuracy: 0.9784\n",
            "Epoch 7/10\n",
            "1875/1875 [==============================] - 3s 2ms/step - loss: 0.0592 - accuracy: 0.9803 - val_loss: 0.0678 - val_accuracy: 0.9781\n",
            "Epoch 8/10\n",
            "1875/1875 [==============================] - 3s 2ms/step - loss: 0.0522 - accuracy: 0.9828 - val_loss: 0.0669 - val_accuracy: 0.9811\n",
            "Epoch 9/10\n",
            "1875/1875 [==============================] - 3s 2ms/step - loss: 0.0483 - accuracy: 0.9842 - val_loss: 0.0689 - val_accuracy: 0.9793\n",
            "Epoch 10/10\n",
            "1875/1875 [==============================] - 3s 2ms/step - loss: 0.0442 - accuracy: 0.9852 - val_loss: 0.0712 - val_accuracy: 0.9792\n"
          ],
          "name": "stdout"
        }
      ]
    },
    {
      "cell_type": "code",
      "metadata": {
        "id": "BP5BJAxNELI2",
        "outputId": "59e8cb49-68d5-4d5c-b40d-61b92a6ecb65",
        "colab": {
          "base_uri": "https://localhost:8080/",
          "height": 282
        }
      },
      "source": [
        "#Plot accuracy per iteration of the model \n",
        "\n",
        "import matplotlib.pyplot as plt \n",
        "plt.plot(r.history['accuracy'], label = 'acc')\n",
        "plt.plot(r.history['val_accuracy'], label = 'val_acc')\n",
        "plt.legend()"
      ],
      "execution_count": null,
      "outputs": [
        {
          "output_type": "execute_result",
          "data": {
            "text/plain": [
              "<matplotlib.legend.Legend at 0x7fc155a99358>"
            ]
          },
          "metadata": {
            "tags": []
          },
          "execution_count": 9
        },
        {
          "output_type": "display_data",
          "data": {
            "image/png": "[encoded data removed]",
            "text/plain": [
              "<Figure size 432x288 with 1 Axes>"
            ]
          },
          "metadata": {
            "tags": [],
            "needs_background": "light"
          }
        }
      ]
    },
    {
      "cell_type": "code",
      "metadata": {
        "id": "OSRWGXAX3zgR",
        "outputId": "b7eea5a6-208a-47a8-8f1e-a53e5075499b",
        "colab": {
          "base_uri": "https://localhost:8080/",
          "height": 282
        }
      },
      "source": [
        "#Plot loss per iteration\n",
        "\n",
        "plt.plot(r.history['loss'], label ='loss')\n",
        "plt.plot(r.history['val_loss'], label ='val_loss')\n",
        "plt.legend()"
      ],
      "execution_count": null,
      "outputs": [
        {
          "output_type": "execute_result",
          "data": {
            "text/plain": [
              "<matplotlib.legend.Legend at 0x7fc155242ac8>"
            ]
          },
          "metadata": {
            "tags": []
          },
          "execution_count": 12
        },
        {
          "output_type": "display_data",
          "data": {
            "image/png": "[encoded data removed]",
            "text/plain": [
              "<Figure size 432x288 with 1 Axes>"
            ]
          },
          "metadata": {
            "tags": [],
            "needs_background": "light"
          }
        }
      ]
    },
    {
      "cell_type": "code",
      "metadata": {
        "id": "iM91DraS4pda",
        "outputId": "2a3ee359-9e62-484a-a63f-258c5da69b5c",
        "colab": {
          "base_uri": "https://localhost:8080/"
        }
      },
      "source": [
        "#Evaluate the model\n",
        "print (model.evaluate(x_test, y_test))"
      ],
      "execution_count": null,
      "outputs": [
        {
          "output_type": "stream",
          "text": [
            "313/313 [==============================] - 0s 1ms/step - loss: 0.0712 - accuracy: 0.9792\n",
            "[0.07117089629173279, 0.979200005531311]\n"
          ],
          "name": "stdout"
        }
      ]
    },
    {
      "cell_type": "code",
      "metadata": {
        "id": "Vh36UDyr5QFD",
        "outputId": "d97337d6-22a9-4e9d-9a6f-5e688eec4470",
        "colab": {
          "base_uri": "https://localhost:8080/",
          "height": 498
        }
      },
      "source": [
        "#Plot the confusion matrix \n",
        "from sklearn.metrics import confusion_matrix \n",
        "import numpy as np\n",
        "import itertools \n",
        "\n",
        "def plot_confusion_matrix ( cm, classes, \n",
        "                           normalize = False, \n",
        "                           title = 'Confusion matrix', \n",
        "                           cmap = plt.cm.Blues):\n",
        "  \"\"\"\n",
        "  This function prints and plots the confusion matric. \n",
        "  Normalization can be applied by setting using 'normalize = True'\n",
        "\n",
        "  \"\"\"\n",
        "  if normalize:\n",
        "      cm = cm.astype('float')/cm.sum(axis =1)[:, npnewaxis]\n",
        "      print (\"Normalized confusion matrix\")\n",
        "  else:\n",
        "      print ('Confusion matrix, without normalization')\n",
        "  \n",
        "  print (cm)\n",
        "\n",
        "  plt.imshow(cm, interpolation='nearest', cmap=cmap)\n",
        "  plt.title(title)\n",
        "  plt.colorbar()\n",
        "  tick_marks = np.arange(len(classes))\n",
        "  plt.xticks(tick_marks, classes, rotation = 45)\n",
        "  plt.yticks(tick_marks, classes)\n",
        "\n",
        "  fmt = '.2f' if normalize else 'd'\n",
        "  thresh = cm.max()/2.\n",
        "\n",
        "  for i, j in itertools.product(range(cm.shape[0]), range (cm.shape[1])):\n",
        "      plt.text(j, i, format(cm[i, j], fmt),\n",
        "              horizontalalignment = 'center',\n",
        "              color=\"white\" if cm [i, j] > thresh else \"black\")\n",
        "    \n",
        "  plt.tight_layout()\n",
        "  plt.ylabel('True label')\n",
        "  plt.xlabel('Predicted label')\n",
        "  plt.show()\n",
        "\n",
        "p_test = model.predict(x_test).argmax(axis=1)\n",
        "cm = confusion_matrix(y_test, p_test)\n",
        "plot_confusion_matrix(cm, list(range(10)))\n",
        "  "
      ],
      "execution_count": 21,
      "outputs": [
        {
          "output_type": "stream",
          "text": [
            "Confusion matrix, without normalization\n",
            "[[ 974    1    1    1    0    0    1    1    1    0]\n",
            " [   0 1128    3    0    0    0    2    0    2    0]\n",
            " [   5    4 1008    2    4    0    2    3    4    0]\n",
            " [   0    0    6  990    0    1    0    4    2    7]\n",
            " [   1    0    1    0  960    0    5    3    2   10]\n",
            " [   2    0    0   11    1  865    3    0    7    3]\n",
            " [   8    3    1    1    5    2  935    0    3    0]\n",
            " [   3    6    8    1    3    0    0  992    3   12]\n",
            " [   5    0    3    6    2    2    0    1  951    4]\n",
            " [   1    2    0    2   10    2    0    3    0  989]]\n"
          ],
          "name": "stdout"
        },
        {
          "output_type": "display_data",
          "data": {
            "image/png": "[encoded data removed]",
            "text/plain": [
              "<Figure size 432x288 with 2 Axes>"
            ]
          },
          "metadata": {
            "tags": [],
            "needs_background": "light"
          }
        }
      ]
    },
    {
      "cell_type": "code",
      "metadata": {
        "id": "1IOIPabJ8XDn",
        "outputId": "b2199322-5d2f-4c97-84b4-f15a39410516",
        "colab": {
          "base_uri": "https://localhost:8080/",
          "height": 298
        }
      },
      "source": [
        "#Plot some of the misclassified examples \n",
        "\n",
        "misclassified_idx = np.where(p_test != y_test)[0]\n",
        "i = np.random.choice(misclassified_idx)\n",
        "plt.imshow(x_test[i], cmap = 'gray')\n",
        "plt.title(\"True label: %s Predicted: %s\" % (y_test[i], p_test[i]))\n"
      ],
      "execution_count": 32,
      "outputs": [
        {
          "output_type": "execute_result",
          "data": {
            "text/plain": [
              "Text(0.5, 1.0, 'True label: 7 Predicted: 9')"
            ]
          },
          "metadata": {
            "tags": []
          },
          "execution_count": 32
        },
        {
          "output_type": "display_data",
          "data": {
            "image/png": "[encoded data removed]",
            "text/plain": [
              "<Figure size 432x288 with 1 Axes>"
            ]
          },
          "metadata": {
            "tags": [],
            "needs_background": "light"
          }
        }
      ]
    },
    {
      "cell_type": "code",
      "metadata": {
        "id": "H0byliyABJww"
      },
      "source": [
        ""
      ],
      "execution_count": 24,
      "outputs": []
    }
  ]
}