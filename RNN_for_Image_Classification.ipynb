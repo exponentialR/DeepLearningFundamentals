{
  "nbformat": 4,
  "nbformat_minor": 0,
  "metadata": {
    "colab": {
      "name": "RNN for Image Classification.ipynb",
      "provenance": [],
      "authorship_tag": "ABX9TyOJbw4JAS1gsCGxWfeIK0Lo",
      "include_colab_link": true
    },
    "kernelspec": {
      "name": "python3",
      "display_name": "Python 3"
    }
  },
  "cells": [
    {
      "cell_type": "markdown",
      "metadata": {
        "id": "view-in-github",
        "colab_type": "text"
      },
      "source": [
        "<a href=\"https://colab.research.google.com/github/exponentialR/DeepLearningFundamentals/blob/confusion/RNN_for_Image_Classification.ipynb\" target=\"_parent\"><img src=\"https://colab.research.google.com/assets/colab-badge.svg\" alt=\"Open In Colab\"/></a>"
      ]
    },
    {
      "cell_type": "code",
      "metadata": {
        "id": "uep86vKqKmv2"
      },
      "source": [
        "import tensorflow as tf "
      ],
      "execution_count": 1,
      "outputs": []
    },
    {
      "cell_type": "code",
      "metadata": {
        "id": "Oqk340-FKqHk"
      },
      "source": [
        "from tensorflow.keras.layers import Input, SimpleRNN, GRU, LSTM, Dense, Flatten\n",
        "from tensorflow.keras.models import Model\n",
        "from tensorflow.keras.optimizers import SGD, Adam\n",
        "\n",
        "import numpy as np\n",
        "import pandas as pd \n",
        "import matplotlib.pyplot as plt\n"
      ],
      "execution_count": 2,
      "outputs": []
    },
    {
      "cell_type": "code",
      "metadata": {
        "id": "ctvEszldNemI",
        "outputId": "24726e1c-ec12-4fdd-b619-725e0312416d",
        "colab": {
          "base_uri": "https://localhost:8080/"
        }
      },
      "source": [
        "#load in the Data \n",
        "mnist = tf.keras.datasets.mnist\n",
        "\n",
        "(x_train, y_train), (x_test, y_test) = mnist.load_data()\n",
        "x_train, x_test = x_train / 255.0, x_test/255.0\n",
        "print(\"x_train.shape:\", x_train.shape)"
      ],
      "execution_count": 3,
      "outputs": [
        {
          "output_type": "stream",
          "text": [
            "Downloading data from https://storage.googleapis.com/tensorflow/tf-keras-datasets/mnist.npz\n",
            "11493376/11490434 [==============================] - 0s 0us/step\n",
            "x_train.shape: (60000, 28, 28)\n"
          ],
          "name": "stdout"
        }
      ]
    },
    {
      "cell_type": "code",
      "metadata": {
        "id": "UCEpOUa2OCfg"
      },
      "source": [
        "#Build the model \n",
        "i = Input(shape=x_train[0].shape)\n",
        "x = LSTM (128)(i)\n",
        "x = Dense(10, activation ='softmax')(x)\n",
        "\n",
        "model = Model(i, x)"
      ],
      "execution_count": 4,
      "outputs": []
    },
    {
      "cell_type": "code",
      "metadata": {
        "id": "UpSoghbUOVc0",
        "outputId": "df773dd6-5854-4445-9170-6f82a14d4bcf",
        "colab": {
          "base_uri": "https://localhost:8080/"
        }
      },
      "source": [
        "#compile and train \n",
        "model.compile(optimizer='adam',\n",
        "              loss = 'sparse_categorical_crossentropy',\n",
        "              metrics =['accuracy'])\n",
        "r = model.fit(x_train, y_train, validation_data = (x_test, y_test), epochs=10)"
      ],
      "execution_count": 6,
      "outputs": [
        {
          "output_type": "stream",
          "text": [
            "Epoch 1/10\n",
            "1875/1875 [==============================] - 49s 26ms/step - loss: 0.3280 - accuracy: 0.8949 - val_loss: 0.1250 - val_accuracy: 0.9616\n",
            "Epoch 2/10\n",
            "1875/1875 [==============================] - 49s 26ms/step - loss: 0.1036 - accuracy: 0.9687 - val_loss: 0.0986 - val_accuracy: 0.9692\n",
            "Epoch 3/10\n",
            "1875/1875 [==============================] - 50s 27ms/step - loss: 0.0728 - accuracy: 0.9778 - val_loss: 0.0797 - val_accuracy: 0.9755\n",
            "Epoch 4/10\n",
            "1875/1875 [==============================] - 48s 26ms/step - loss: 0.0541 - accuracy: 0.9833 - val_loss: 0.0596 - val_accuracy: 0.9810\n",
            "Epoch 5/10\n",
            "1875/1875 [==============================] - 49s 26ms/step - loss: 0.0462 - accuracy: 0.9859 - val_loss: 0.0500 - val_accuracy: 0.9849\n",
            "Epoch 6/10\n",
            "1875/1875 [==============================] - 49s 26ms/step - loss: 0.0381 - accuracy: 0.9887 - val_loss: 0.0522 - val_accuracy: 0.9830\n",
            "Epoch 7/10\n",
            "1875/1875 [==============================] - 49s 26ms/step - loss: 0.0339 - accuracy: 0.9896 - val_loss: 0.0532 - val_accuracy: 0.9840\n",
            "Epoch 8/10\n",
            "1875/1875 [==============================] - 49s 26ms/step - loss: 0.0282 - accuracy: 0.9911 - val_loss: 0.0476 - val_accuracy: 0.9860\n",
            "Epoch 9/10\n",
            "1875/1875 [==============================] - 48s 26ms/step - loss: 0.0243 - accuracy: 0.9923 - val_loss: 0.0406 - val_accuracy: 0.9879\n",
            "Epoch 10/10\n",
            "1875/1875 [==============================] - 48s 26ms/step - loss: 0.0222 - accuracy: 0.9932 - val_loss: 0.0445 - val_accuracy: 0.9871\n"
          ],
          "name": "stdout"
        }
      ]
    },
    {
      "cell_type": "code",
      "metadata": {
        "id": "xc2kWA3_O3nj",
        "outputId": "26d3db3a-884c-4c4d-9729-cc75eb742637",
        "colab": {
          "base_uri": "https://localhost:8080/",
          "height": 281
        }
      },
      "source": [
        "#plot the loss per iteration \n",
        "\n",
        "plt.plot(r.history['loss'], label = 'loss')\n",
        "plt.plot(r.history['val_loss'], label = 'val_loss')\n",
        "plt.legend()"
      ],
      "execution_count": 7,
      "outputs": [
        {
          "output_type": "execute_result",
          "data": {
            "text/plain": [
              "<matplotlib.legend.Legend at 0x7f593fce4fd0>"
            ]
          },
          "metadata": {
            "tags": []
          },
          "execution_count": 7
        },
        {
          "output_type": "display_data",
          "data": {
            "image/png": "[encoded data removed]",
            "text/plain": [
              "<Figure size 432x288 with 1 Axes>"
            ]
          },
          "metadata": {
            "tags": [],
            "needs_background": "light"
          }
        }
      ]
    },
    {
      "cell_type": "code",
      "metadata": {
        "id": "dMrlXzKZRaSd",
        "outputId": "12080fd7-aaf5-44ff-aacd-e26af72027aa",
        "colab": {
          "base_uri": "https://localhost:8080/",
          "height": 281
        }
      },
      "source": [
        "#plot the accuracy per iteration \n",
        "plt.plot(r.history['accuracy'], label ='acc')\n",
        "plt.plot(r.history['val_accuracy'], label = 'val_acc')\n",
        "plt.legend()"
      ],
      "execution_count": 8,
      "outputs": [
        {
          "output_type": "execute_result",
          "data": {
            "text/plain": [
              "<matplotlib.legend.Legend at 0x7f59411462b0>"
            ]
          },
          "metadata": {
            "tags": []
          },
          "execution_count": 8
        },
        {
          "output_type": "display_data",
          "data": {
            "image/png": "[encoded data removed]",
            "text/plain": [
              "<Figure size 432x288 with 1 Axes>"
            ]
          },
          "metadata": {
            "tags": [],
            "needs_background": "light"
          }
        }
      ]
    },
    {
      "cell_type": "code",
      "metadata": {
        "id": "j2ZrXGTgSI6I",
        "outputId": "a1820e7e-244c-40f7-dd31-f017ede49b83",
        "colab": {
          "base_uri": "https://localhost:8080/",
          "height": 490
        }
      },
      "source": [
        "\n",
        "#Plot the confusion matrix \n",
        "from sklearn.metrics import confusion_matrix \n",
        "import numpy as np\n",
        "import itertools \n",
        "\n",
        "def plot_confusion_matrix ( cm, classes, \n",
        "                           normalize = False, \n",
        "                           title = 'Confusion matrix', \n",
        "                           cmap = plt.cm.Blues):\n",
        "  \"\"\"\n",
        "  This function prints and plots the confusion matric. \n",
        "  Normalization can be applied by setting using 'normalize = True'\n",
        "\n",
        "  \"\"\"\n",
        "  if normalize:\n",
        "      cm = cm.astype('float')/cm.sum(axis =1)[:, npnewaxis]\n",
        "      print (\"Normalized confusion matrix\")\n",
        "  else:\n",
        "      print ('Confusion matrix, without normalization')\n",
        "  \n",
        "  print (cm)\n",
        "\n",
        "  plt.imshow(cm, interpolation='nearest', cmap=cmap)\n",
        "  plt.title(title)\n",
        "  plt.colorbar()\n",
        "  tick_marks = np.arange(len(classes))\n",
        "  plt.xticks(tick_marks, classes, rotation = 45)\n",
        "  plt.yticks(tick_marks, classes)\n",
        "\n",
        "  fmt = '.2f' if normalize else 'd'\n",
        "  thresh = cm.max()/2.\n",
        "\n",
        "  for i, j in itertools.product(range(cm.shape[0]), range (cm.shape[1])):\n",
        "      plt.text(j, i, format(cm[i, j], fmt),\n",
        "              horizontalalignment = 'center',\n",
        "              color=\"white\" if cm [i, j] > thresh else \"black\")\n",
        "    \n",
        "  plt.tight_layout()\n",
        "  plt.ylabel('True label')\n",
        "  plt.xlabel('Predicted label')\n",
        "  plt.show()\n",
        "\n",
        "p_test = model.predict(x_test).argmax(axis=1)\n",
        "cm = confusion_matrix(y_test, p_test)\n",
        "plot_confusion_matrix(cm, list(range(10)))"
      ],
      "execution_count": 14,
      "outputs": [
        {
          "output_type": "stream",
          "text": [
            "Confusion matrix, without normalization\n",
            "[[ 974    0    1    0    1    0    3    1    0    0]\n",
            " [   0 1130    0    1    0    1    2    0    1    0]\n",
            " [   0    1 1025    2    0    0    0    1    2    1]\n",
            " [   0    0    2  994    0   11    0    2    1    0]\n",
            " [   0    1    1    0  957    0    4    1    1   17]\n",
            " [   1    1    0    2    0  880    1    0    3    4]\n",
            " [   0    2    1    0    3    2  949    0    0    1]\n",
            " [   0    3   11    0    3    0    0 1009    1    1]\n",
            " [   0    0    5    5    2    2    1    2  954    3]\n",
            " [   1    0    0    1    2    1    0    5    0  999]]\n"
          ],
          "name": "stdout"
        },
        {
          "output_type": "display_data",
          "data": {
            "image/png": "[encoded data removed]",
            "text/plain": [
              "<Figure size 432x288 with 2 Axes>"
            ]
          },
          "metadata": {
            "tags": [],
            "needs_background": "light"
          }
        }
      ]
    },
    {
      "cell_type": "code",
      "metadata": {
        "id": "nYuWXshdUzoF",
        "outputId": "2b77be07-54df-4eb2-82bb-518c9463ca29",
        "colab": {
          "base_uri": "https://localhost:8080/",
          "height": 297
        }
      },
      "source": [
        "#Show the misclassified examples \n",
        "\n",
        "misclassified_idx = np.where(p_test != y_test)[0]\n",
        "i = np.random.choice(misclassified_idx)\n",
        "plt.imshow(x_test[i], cmap = 'gray')\n",
        "plt.title(\"True label: %s Predicted: %s\" % (y_test[i], p_test[i]))"
      ],
      "execution_count": 19,
      "outputs": [
        {
          "output_type": "execute_result",
          "data": {
            "text/plain": [
              "Text(0.5, 1.0, 'True label: 8 Predicted: 7')"
            ]
          },
          "metadata": {
            "tags": []
          },
          "execution_count": 19
        },
        {
          "output_type": "display_data",
          "data": {
            "image/png": "[encoded data removed]",
            "text/plain": [
              "<Figure size 432x288 with 1 Axes>"
            ]
          },
          "metadata": {
            "tags": [],
            "needs_background": "light"
          }
        }
      ]
    },
    {
      "cell_type": "code",
      "metadata": {
        "id": "xF_6_YJBV4iR"
      },
      "source": [
        ""
      ],
      "execution_count": 16,
      "outputs": []
    }
  ]
}