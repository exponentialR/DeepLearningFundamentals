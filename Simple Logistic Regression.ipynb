{
  "nbformat": 4,
  "nbformat_minor": 0,
  "metadata": {
    "colab": {
      "name": "Untitled4.ipynb",
      "provenance": [],
      "authorship_tag": "ABX9TyPpruv9mgqd2uU3n9U1q0D2",
      "include_colab_link": true
    },
    "kernelspec": {
      "name": "python3",
      "display_name": "Python 3"
    }
  },
  "cells": [
    {
      "cell_type": "markdown",
      "metadata": {
        "id": "view-in-github",
        "colab_type": "text"
      },
      "source": [
        "<a href=\"https://colab.research.google.com/github/exponentialR/DeepLearningFundamentals/blob/main/Simple%20Logistic%20Regression.ipynb\" target=\"_parent\"><img src=\"https://colab.research.google.com/assets/colab-badge.svg\" alt=\"Open In Colab\"/></a>"
      ]
    },
    {
      "cell_type": "code",
      "metadata": {
        "id": "FtzXO5fYhVMT"
      },
      "source": [
        "import tensorflow as tf\n",
        "import numpy as np\n",
        "import pandas as pd \n",
        "import matplotlib.pyplot as plt"
      ],
      "execution_count": 1,
      "outputs": []
    },
    {
      "cell_type": "code",
      "metadata": {
        "id": "4xAI3WNchi_9",
        "outputId": "395860dc-d863-4ac9-c15a-63f37d5f51ce",
        "colab": {
          "base_uri": "https://localhost:8080/"
        }
      },
      "source": [
        "# Get the data\n",
        "!wget https://raw.githubusercontent.com/exponentialR/DeepLearningFundamentals/main/moore.csv"
      ],
      "execution_count": 2,
      "outputs": [
        {
          "output_type": "stream",
          "text": [
            "--2020-11-10 15:29:32--  https://raw.githubusercontent.com/exponentialR/DeepLearningFundamentals/main/moore.csv\n",
            "Resolving raw.githubusercontent.com (raw.githubusercontent.com)... 151.101.0.133, 151.101.64.133, 151.101.128.133, ...\n",
            "Connecting to raw.githubusercontent.com (raw.githubusercontent.com)|151.101.0.133|:443... connected.\n",
            "HTTP request sent, awaiting response... 200 OK\n",
            "Length: 2302 (2.2K) [text/plain]\n",
            "Saving to: ‘moore.csv’\n",
            "\n",
            "\rmoore.csv             0%[                    ]       0  --.-KB/s               \rmoore.csv           100%[===================>]   2.25K  --.-KB/s    in 0s      \n",
            "\n",
            "2020-11-10 15:29:32 (48.1 MB/s) - ‘moore.csv’ saved [2302/2302]\n",
            "\n"
          ],
          "name": "stdout"
        }
      ]
    },
    {
      "cell_type": "code",
      "metadata": {
        "id": "5W43kniajn9U"
      },
      "source": [
        "#Load in the data\n",
        "data = pd.read_csv('moore.csv', header = None).values\n",
        "X = data[:, 0].reshape(-1, 1) #make it a 2-D array of size N xD where D = 1 \n",
        "Y = data[:, 1]"
      ],
      "execution_count": 3,
      "outputs": []
    },
    {
      "cell_type": "code",
      "metadata": {
        "id": "X2_wHnB3kh3z",
        "outputId": "3ba847a6-7867-4b00-aa6f-af1d5e11bdc6",
        "colab": {
          "base_uri": "https://localhost:8080/",
          "height": 293
        }
      },
      "source": [
        "#now plot the data to the get the data curve/path (this visually determines, if it's linear or geometric or exponential)\n",
        "\n",
        "plt.scatter(X, Y)"
      ],
      "execution_count": 4,
      "outputs": [
        {
          "output_type": "execute_result",
          "data": {
            "text/plain": [
              "<matplotlib.collections.PathCollection at 0x7f62f13b55c0>"
            ]
          },
          "metadata": {
            "tags": []
          },
          "execution_count": 4
        },
        {
          "output_type": "display_data",
          "data": {
            "image/png": "[encoded data removed]",
            "text/plain": [
              "<Figure size 432x288 with 1 Axes>"
            ]
          },
          "metadata": {
            "tags": [],
            "needs_background": "light"
          }
        }
      ]
    },
    {
      "cell_type": "code",
      "metadata": {
        "id": "RLrJT1Aqk8Dt",
        "outputId": "e95162f8-e855-4ed2-8f47-b9579d3f2a4d",
        "colab": {
          "base_uri": "https://localhost:8080/",
          "height": 282
        }
      },
      "source": [
        "#We need to find a way to convert the model into a linear model, since it is still exponential\n",
        "\n",
        "Y = np.log(Y)\n",
        "plt.scatter (X, Y)"
      ],
      "execution_count": 5,
      "outputs": [
        {
          "output_type": "execute_result",
          "data": {
            "text/plain": [
              "<matplotlib.collections.PathCollection at 0x7f62f0f0e588>"
            ]
          },
          "metadata": {
            "tags": []
          },
          "execution_count": 5
        },
        {
          "output_type": "display_data",
          "data": {
            "image/png": "[encoded data removed]",
            "text/plain": [
              "<Figure size 432x288 with 1 Axes>"
            ]
          },
          "metadata": {
            "tags": [],
            "needs_background": "light"
          }
        }
      ]
    },
    {
      "cell_type": "code",
      "metadata": {
        "id": "Z5NYd1swllyF",
        "outputId": "2efcf536-72a8-4f5c-d35e-6866804ddb26",
        "colab": {
          "base_uri": "https://localhost:8080/",
          "height": 282
        }
      },
      "source": [
        "B = np.log(X)\n",
        "plt.scatter(B, Y) "
      ],
      "execution_count": 6,
      "outputs": [
        {
          "output_type": "execute_result",
          "data": {
            "text/plain": [
              "<matplotlib.collections.PathCollection at 0x7f62f0e7a860>"
            ]
          },
          "metadata": {
            "tags": []
          },
          "execution_count": 6
        },
        {
          "output_type": "display_data",
          "data": {
            "image/png": "[encoded data removed]",
            "text/plain": [
              "<Figure size 432x288 with 1 Axes>"
            ]
          },
          "metadata": {
            "tags": [],
            "needs_background": "light"
          }
        }
      ]
    },
    {
      "cell_type": "code",
      "metadata": {
        "id": "ZRHMlAifl3uj"
      },
      "source": [
        "#Now scale the X data so the values of the input are not too large. This is done by finding the difference between the input (X) amd the mean of the input (X), then equating it to the data input (X)\n",
        "\n",
        "X = X - X.mean()\n"
      ],
      "execution_count": 7,
      "outputs": []
    },
    {
      "cell_type": "code",
      "metadata": {
        "id": "Lu97UpIunsQA",
        "outputId": "6e0c58f9-0df6-4d0d-ea93-906fd51ee5b2",
        "colab": {
          "base_uri": "https://localhost:8080/",
          "height": 316
        }
      },
      "source": [
        "C = np.log(X)\n",
        "plt.scatter(X, Y)"
      ],
      "execution_count": 8,
      "outputs": [
        {
          "output_type": "stream",
          "text": [
            "/usr/local/lib/python3.6/dist-packages/ipykernel_launcher.py:1: RuntimeWarning: invalid value encountered in log\n",
            "  \"\"\"Entry point for launching an IPython kernel.\n"
          ],
          "name": "stderr"
        },
        {
          "output_type": "execute_result",
          "data": {
            "text/plain": [
              "<matplotlib.collections.PathCollection at 0x7f62f0dedf60>"
            ]
          },
          "metadata": {
            "tags": []
          },
          "execution_count": 8
        },
        {
          "output_type": "display_data",
          "data": {
            "image/png": "[encoded data removed]",
            "text/plain": [
              "<Figure size 432x288 with 1 Axes>"
            ]
          },
          "metadata": {
            "tags": [],
            "needs_background": "light"
          }
        }
      ]
    },
    {
      "cell_type": "code",
      "metadata": {
        "id": "e9cguy4yn2eV",
        "outputId": "cf7efe11-4c33-4b90-d80e-8c8ec545caa6",
        "colab": {
          "base_uri": "https://localhost:8080/"
        }
      },
      "source": [
        "#It is time to create the model using tensorflow \n",
        "#remember for Logistics regression there is no activation function as with the case of classification model where sigmoid was used\n",
        "\n",
        "model = tf.keras.models.Sequential([\n",
        "    tf.keras.layers.Input(shape=(1,)),\n",
        "    tf.keras.layers.Dense(1)\n",
        "])\n",
        "\n",
        "model.compile (optimizer=tf.keras.optimizers.SGD(0.01, 0.9), loss = 'mse')\n",
        "\n",
        "\n",
        "def schedule (epoch, lr):\n",
        "  if epoch>=50:\n",
        "    return 0.0001\n",
        "  return 0.001\n",
        "scheduler = tf.keras.callbacks.LearningRateScheduler(schedule)\n",
        "\n",
        "#Train the model \n",
        "\n",
        "r = model.fit(X, Y, epochs = 300, callbacks=[scheduler])"
      ],
      "execution_count": 12,
      "outputs": [
        {
          "output_type": "stream",
          "text": [
            "Epoch 1/300\n",
            "6/6 [==============================] - 0s 2ms/step - loss: 364.4918\n",
            "Epoch 2/300\n",
            "6/6 [==============================] - 0s 2ms/step - loss: 294.2068\n",
            "Epoch 3/300\n",
            "6/6 [==============================] - 0s 1ms/step - loss: 297.2785\n",
            "Epoch 4/300\n",
            "6/6 [==============================] - 0s 1ms/step - loss: 215.9109\n",
            "Epoch 5/300\n",
            "6/6 [==============================] - 0s 1ms/step - loss: 188.9043\n",
            "Epoch 6/300\n",
            "6/6 [==============================] - 0s 2ms/step - loss: 140.0473\n",
            "Epoch 7/300\n",
            "6/6 [==============================] - 0s 1ms/step - loss: 92.8825\n",
            "Epoch 8/300\n",
            "6/6 [==============================] - 0s 1ms/step - loss: 69.1188\n",
            "Epoch 9/300\n",
            "6/6 [==============================] - 0s 2ms/step - loss: 46.7550\n",
            "Epoch 10/300\n",
            "6/6 [==============================] - 0s 1ms/step - loss: 33.8369\n",
            "Epoch 11/300\n",
            "6/6 [==============================] - 0s 2ms/step - loss: 25.0667\n",
            "Epoch 12/300\n",
            "6/6 [==============================] - 0s 1ms/step - loss: 25.8782\n",
            "Epoch 13/300\n",
            "6/6 [==============================] - 0s 1ms/step - loss: 20.8092\n",
            "Epoch 14/300\n",
            "6/6 [==============================] - 0s 1ms/step - loss: 10.2874\n",
            "Epoch 15/300\n",
            "6/6 [==============================] - 0s 1ms/step - loss: 7.1841\n",
            "Epoch 16/300\n",
            "6/6 [==============================] - 0s 2ms/step - loss: 5.8717\n",
            "Epoch 17/300\n",
            "6/6 [==============================] - 0s 2ms/step - loss: 4.4474\n",
            "Epoch 18/300\n",
            "6/6 [==============================] - 0s 1ms/step - loss: 3.5315\n",
            "Epoch 19/300\n",
            "6/6 [==============================] - 0s 1ms/step - loss: 2.7957\n",
            "Epoch 20/300\n",
            "6/6 [==============================] - 0s 3ms/step - loss: 2.1209\n",
            "Epoch 21/300\n",
            "6/6 [==============================] - 0s 1ms/step - loss: 2.1040\n",
            "Epoch 22/300\n",
            "6/6 [==============================] - 0s 1ms/step - loss: 1.7840\n",
            "Epoch 23/300\n",
            "6/6 [==============================] - 0s 1ms/step - loss: 1.5985\n",
            "Epoch 24/300\n",
            "6/6 [==============================] - 0s 1ms/step - loss: 1.3286\n",
            "Epoch 25/300\n",
            "6/6 [==============================] - 0s 1ms/step - loss: 1.3506\n",
            "Epoch 26/300\n",
            "6/6 [==============================] - 0s 1ms/step - loss: 1.3980\n",
            "Epoch 27/300\n",
            "6/6 [==============================] - 0s 1ms/step - loss: 1.3550\n",
            "Epoch 28/300\n",
            "6/6 [==============================] - 0s 1ms/step - loss: 1.6882\n",
            "Epoch 29/300\n",
            "6/6 [==============================] - 0s 1ms/step - loss: 1.4707\n",
            "Epoch 30/300\n",
            "6/6 [==============================] - 0s 2ms/step - loss: 1.3215\n",
            "Epoch 31/300\n",
            "6/6 [==============================] - 0s 1ms/step - loss: 1.4663\n",
            "Epoch 32/300\n",
            "6/6 [==============================] - 0s 1ms/step - loss: 1.3141\n",
            "Epoch 33/300\n",
            "6/6 [==============================] - 0s 2ms/step - loss: 0.9711\n",
            "Epoch 34/300\n",
            "6/6 [==============================] - 0s 1ms/step - loss: 1.1493\n",
            "Epoch 35/300\n",
            "6/6 [==============================] - 0s 1ms/step - loss: 1.0866\n",
            "Epoch 36/300\n",
            "6/6 [==============================] - 0s 1ms/step - loss: 0.9103\n",
            "Epoch 37/300\n",
            "6/6 [==============================] - 0s 1ms/step - loss: 0.9528\n",
            "Epoch 38/300\n",
            "6/6 [==============================] - 0s 1ms/step - loss: 0.9279\n",
            "Epoch 39/300\n",
            "6/6 [==============================] - 0s 1ms/step - loss: 0.9899\n",
            "Epoch 40/300\n",
            "6/6 [==============================] - 0s 2ms/step - loss: 1.2521\n",
            "Epoch 41/300\n",
            "6/6 [==============================] - 0s 1ms/step - loss: 1.0356\n",
            "Epoch 42/300\n",
            "6/6 [==============================] - 0s 1ms/step - loss: 0.9762\n",
            "Epoch 43/300\n",
            "6/6 [==============================] - 0s 1ms/step - loss: 1.0408\n",
            "Epoch 44/300\n",
            "6/6 [==============================] - 0s 1ms/step - loss: 0.9188\n",
            "Epoch 45/300\n",
            "6/6 [==============================] - 0s 1ms/step - loss: 0.9424\n",
            "Epoch 46/300\n",
            "6/6 [==============================] - 0s 2ms/step - loss: 0.9818\n",
            "Epoch 47/300\n",
            "6/6 [==============================] - 0s 1ms/step - loss: 1.0721\n",
            "Epoch 48/300\n",
            "6/6 [==============================] - 0s 2ms/step - loss: 1.1122\n",
            "Epoch 49/300\n",
            "6/6 [==============================] - 0s 2ms/step - loss: 1.0633\n",
            "Epoch 50/300\n",
            "6/6 [==============================] - 0s 2ms/step - loss: 0.9078\n",
            "Epoch 51/300\n",
            "6/6 [==============================] - 0s 2ms/step - loss: 1.0271\n",
            "Epoch 52/300\n",
            "6/6 [==============================] - 0s 2ms/step - loss: 1.3058\n",
            "Epoch 53/300\n",
            "6/6 [==============================] - 0s 2ms/step - loss: 0.9417\n",
            "Epoch 54/300\n",
            "6/6 [==============================] - 0s 2ms/step - loss: 0.9058\n",
            "Epoch 55/300\n",
            "6/6 [==============================] - 0s 2ms/step - loss: 0.8998\n",
            "Epoch 56/300\n",
            "6/6 [==============================] - 0s 1ms/step - loss: 0.8710\n",
            "Epoch 57/300\n",
            "6/6 [==============================] - 0s 1ms/step - loss: 0.8725\n",
            "Epoch 58/300\n",
            "6/6 [==============================] - 0s 2ms/step - loss: 0.8763\n",
            "Epoch 59/300\n",
            "6/6 [==============================] - 0s 2ms/step - loss: 0.8992\n",
            "Epoch 60/300\n",
            "6/6 [==============================] - 0s 2ms/step - loss: 0.8802\n",
            "Epoch 61/300\n",
            "6/6 [==============================] - 0s 1ms/step - loss: 0.8739\n",
            "Epoch 62/300\n",
            "6/6 [==============================] - 0s 1ms/step - loss: 0.8729\n",
            "Epoch 63/300\n",
            "6/6 [==============================] - 0s 2ms/step - loss: 0.9040\n",
            "Epoch 64/300\n",
            "6/6 [==============================] - 0s 1ms/step - loss: 0.8940\n",
            "Epoch 65/300\n",
            "6/6 [==============================] - 0s 2ms/step - loss: 0.8738\n",
            "Epoch 66/300\n",
            "6/6 [==============================] - 0s 1ms/step - loss: 0.8745\n",
            "Epoch 67/300\n",
            "6/6 [==============================] - 0s 2ms/step - loss: 0.8708\n",
            "Epoch 68/300\n",
            "6/6 [==============================] - 0s 1ms/step - loss: 0.8720\n",
            "Epoch 69/300\n",
            "6/6 [==============================] - 0s 1ms/step - loss: 0.8718\n",
            "Epoch 70/300\n",
            "6/6 [==============================] - 0s 1ms/step - loss: 0.8727\n",
            "Epoch 71/300\n",
            "6/6 [==============================] - 0s 1ms/step - loss: 0.8695\n",
            "Epoch 72/300\n",
            "6/6 [==============================] - 0s 1ms/step - loss: 0.8723\n",
            "Epoch 73/300\n",
            "6/6 [==============================] - 0s 1ms/step - loss: 0.8715\n",
            "Epoch 74/300\n",
            "6/6 [==============================] - 0s 2ms/step - loss: 0.8854\n",
            "Epoch 75/300\n",
            "6/6 [==============================] - 0s 1ms/step - loss: 0.8950\n",
            "Epoch 76/300\n",
            "6/6 [==============================] - 0s 1ms/step - loss: 0.8718\n",
            "Epoch 77/300\n",
            "6/6 [==============================] - 0s 1ms/step - loss: 0.8712\n",
            "Epoch 78/300\n",
            "6/6 [==============================] - 0s 1ms/step - loss: 0.8788\n",
            "Epoch 79/300\n",
            "6/6 [==============================] - 0s 1ms/step - loss: 0.8761\n",
            "Epoch 80/300\n",
            "6/6 [==============================] - 0s 1ms/step - loss: 0.8713\n",
            "Epoch 81/300\n",
            "6/6 [==============================] - 0s 1ms/step - loss: 0.8716\n",
            "Epoch 82/300\n",
            "6/6 [==============================] - 0s 2ms/step - loss: 0.8718\n",
            "Epoch 83/300\n",
            "6/6 [==============================] - 0s 1ms/step - loss: 0.8751\n",
            "Epoch 84/300\n",
            "6/6 [==============================] - 0s 2ms/step - loss: 0.8721\n",
            "Epoch 85/300\n",
            "6/6 [==============================] - 0s 1ms/step - loss: 0.8723\n",
            "Epoch 86/300\n",
            "6/6 [==============================] - 0s 1ms/step - loss: 0.8711\n",
            "Epoch 87/300\n",
            "6/6 [==============================] - 0s 1ms/step - loss: 0.8715\n",
            "Epoch 88/300\n",
            "6/6 [==============================] - 0s 1ms/step - loss: 0.8728\n",
            "Epoch 89/300\n",
            "6/6 [==============================] - 0s 2ms/step - loss: 0.8724\n",
            "Epoch 90/300\n",
            "6/6 [==============================] - 0s 1ms/step - loss: 0.8754\n",
            "Epoch 91/300\n",
            "6/6 [==============================] - 0s 1ms/step - loss: 0.8793\n",
            "Epoch 92/300\n",
            "6/6 [==============================] - 0s 1ms/step - loss: 0.8732\n",
            "Epoch 93/300\n",
            "6/6 [==============================] - 0s 2ms/step - loss: 0.8717\n",
            "Epoch 94/300\n",
            "6/6 [==============================] - 0s 3ms/step - loss: 0.8736\n",
            "Epoch 95/300\n",
            "6/6 [==============================] - 0s 2ms/step - loss: 0.8698\n",
            "Epoch 96/300\n",
            "6/6 [==============================] - 0s 2ms/step - loss: 0.8743\n",
            "Epoch 97/300\n",
            "6/6 [==============================] - 0s 2ms/step - loss: 0.8751\n",
            "Epoch 98/300\n",
            "6/6 [==============================] - 0s 1ms/step - loss: 0.8722\n",
            "Epoch 99/300\n",
            "6/6 [==============================] - 0s 2ms/step - loss: 0.8702\n",
            "Epoch 100/300\n",
            "6/6 [==============================] - 0s 2ms/step - loss: 0.8868\n",
            "Epoch 101/300\n",
            "6/6 [==============================] - 0s 1ms/step - loss: 0.9124\n",
            "Epoch 102/300\n",
            "6/6 [==============================] - 0s 2ms/step - loss: 0.8791\n",
            "Epoch 103/300\n",
            "6/6 [==============================] - 0s 1ms/step - loss: 0.8789\n",
            "Epoch 104/300\n",
            "6/6 [==============================] - 0s 2ms/step - loss: 0.8723\n",
            "Epoch 105/300\n",
            "6/6 [==============================] - 0s 1ms/step - loss: 0.8720\n",
            "Epoch 106/300\n",
            "6/6 [==============================] - 0s 2ms/step - loss: 0.8706\n",
            "Epoch 107/300\n",
            "6/6 [==============================] - 0s 1ms/step - loss: 0.8742\n",
            "Epoch 108/300\n",
            "6/6 [==============================] - 0s 1ms/step - loss: 0.8755\n",
            "Epoch 109/300\n",
            "6/6 [==============================] - 0s 1ms/step - loss: 0.8763\n",
            "Epoch 110/300\n",
            "6/6 [==============================] - 0s 1ms/step - loss: 0.8704\n",
            "Epoch 111/300\n",
            "6/6 [==============================] - 0s 1ms/step - loss: 0.8783\n",
            "Epoch 112/300\n",
            "6/6 [==============================] - 0s 1ms/step - loss: 0.8932\n",
            "Epoch 113/300\n",
            "6/6 [==============================] - 0s 1ms/step - loss: 0.8887\n",
            "Epoch 114/300\n",
            "6/6 [==============================] - 0s 1ms/step - loss: 0.8718\n",
            "Epoch 115/300\n",
            "6/6 [==============================] - 0s 1ms/step - loss: 0.8714\n",
            "Epoch 116/300\n",
            "6/6 [==============================] - 0s 2ms/step - loss: 0.8707\n",
            "Epoch 117/300\n",
            "6/6 [==============================] - 0s 1ms/step - loss: 0.8802\n",
            "Epoch 118/300\n",
            "6/6 [==============================] - 0s 1ms/step - loss: 0.8969\n",
            "Epoch 119/300\n",
            "6/6 [==============================] - 0s 1ms/step - loss: 0.8748\n",
            "Epoch 120/300\n",
            "6/6 [==============================] - 0s 2ms/step - loss: 0.8718\n",
            "Epoch 121/300\n",
            "6/6 [==============================] - 0s 2ms/step - loss: 0.8792\n",
            "Epoch 122/300\n",
            "6/6 [==============================] - 0s 2ms/step - loss: 0.9022\n",
            "Epoch 123/300\n",
            "6/6 [==============================] - 0s 4ms/step - loss: 0.8756\n",
            "Epoch 124/300\n",
            "6/6 [==============================] - 0s 2ms/step - loss: 0.8721\n",
            "Epoch 125/300\n",
            "6/6 [==============================] - 0s 2ms/step - loss: 0.8984\n",
            "Epoch 126/300\n",
            "6/6 [==============================] - 0s 1ms/step - loss: 0.8994\n",
            "Epoch 127/300\n",
            "6/6 [==============================] - 0s 1ms/step - loss: 0.8756\n",
            "Epoch 128/300\n",
            "6/6 [==============================] - 0s 2ms/step - loss: 0.8927\n",
            "Epoch 129/300\n",
            "6/6 [==============================] - 0s 3ms/step - loss: 0.8907\n",
            "Epoch 130/300\n",
            "6/6 [==============================] - 0s 1ms/step - loss: 0.8728\n",
            "Epoch 131/300\n",
            "6/6 [==============================] - 0s 2ms/step - loss: 0.8723\n",
            "Epoch 132/300\n",
            "6/6 [==============================] - 0s 2ms/step - loss: 0.8704\n",
            "Epoch 133/300\n",
            "6/6 [==============================] - 0s 2ms/step - loss: 0.8720\n",
            "Epoch 134/300\n",
            "6/6 [==============================] - 0s 2ms/step - loss: 0.8715\n",
            "Epoch 135/300\n",
            "6/6 [==============================] - 0s 1ms/step - loss: 0.8703\n",
            "Epoch 136/300\n",
            "6/6 [==============================] - 0s 1ms/step - loss: 0.8733\n",
            "Epoch 137/300\n",
            "6/6 [==============================] - 0s 2ms/step - loss: 0.8691\n",
            "Epoch 138/300\n",
            "6/6 [==============================] - 0s 1ms/step - loss: 0.8718\n",
            "Epoch 139/300\n",
            "6/6 [==============================] - 0s 1ms/step - loss: 0.8715\n",
            "Epoch 140/300\n",
            "6/6 [==============================] - 0s 1ms/step - loss: 0.8706\n",
            "Epoch 141/300\n",
            "6/6 [==============================] - 0s 1ms/step - loss: 0.8704\n",
            "Epoch 142/300\n",
            "6/6 [==============================] - 0s 3ms/step - loss: 0.8726\n",
            "Epoch 143/300\n",
            "6/6 [==============================] - 0s 1ms/step - loss: 0.8755\n",
            "Epoch 144/300\n",
            "6/6 [==============================] - 0s 1ms/step - loss: 0.8737\n",
            "Epoch 145/300\n",
            "6/6 [==============================] - 0s 2ms/step - loss: 0.8768\n",
            "Epoch 146/300\n",
            "6/6 [==============================] - 0s 1ms/step - loss: 0.8818\n",
            "Epoch 147/300\n",
            "6/6 [==============================] - 0s 1ms/step - loss: 0.8711\n",
            "Epoch 148/300\n",
            "6/6 [==============================] - 0s 1ms/step - loss: 0.8862\n",
            "Epoch 149/300\n",
            "6/6 [==============================] - 0s 1ms/step - loss: 0.8871\n",
            "Epoch 150/300\n",
            "6/6 [==============================] - 0s 1ms/step - loss: 0.8749\n",
            "Epoch 151/300\n",
            "6/6 [==============================] - 0s 980us/step - loss: 0.8717\n",
            "Epoch 152/300\n",
            "6/6 [==============================] - 0s 2ms/step - loss: 0.8775\n",
            "Epoch 153/300\n",
            "6/6 [==============================] - 0s 1ms/step - loss: 0.8780\n",
            "Epoch 154/300\n",
            "6/6 [==============================] - 0s 1ms/step - loss: 0.8712\n",
            "Epoch 155/300\n",
            "6/6 [==============================] - 0s 1ms/step - loss: 0.8681\n",
            "Epoch 156/300\n",
            "6/6 [==============================] - 0s 1ms/step - loss: 0.8713\n",
            "Epoch 157/300\n",
            "6/6 [==============================] - 0s 1ms/step - loss: 0.8731\n",
            "Epoch 158/300\n",
            "6/6 [==============================] - 0s 2ms/step - loss: 0.8720\n",
            "Epoch 159/300\n",
            "6/6 [==============================] - 0s 1ms/step - loss: 0.8712\n",
            "Epoch 160/300\n",
            "6/6 [==============================] - 0s 1ms/step - loss: 0.9154\n",
            "Epoch 161/300\n",
            "6/6 [==============================] - 0s 2ms/step - loss: 0.9033\n",
            "Epoch 162/300\n",
            "6/6 [==============================] - 0s 2ms/step - loss: 0.9363\n",
            "Epoch 163/300\n",
            "6/6 [==============================] - 0s 2ms/step - loss: 0.9416\n",
            "Epoch 164/300\n",
            "6/6 [==============================] - 0s 1ms/step - loss: 0.8965\n",
            "Epoch 165/300\n",
            "6/6 [==============================] - 0s 2ms/step - loss: 0.9255\n",
            "Epoch 166/300\n",
            "6/6 [==============================] - 0s 2ms/step - loss: 0.9059\n",
            "Epoch 167/300\n",
            "6/6 [==============================] - 0s 2ms/step - loss: 0.8650\n",
            "Epoch 168/300\n",
            "6/6 [==============================] - 0s 2ms/step - loss: 0.8823\n",
            "Epoch 169/300\n",
            "6/6 [==============================] - 0s 2ms/step - loss: 0.8856\n",
            "Epoch 170/300\n",
            "6/6 [==============================] - 0s 1ms/step - loss: 0.8749\n",
            "Epoch 171/300\n",
            "6/6 [==============================] - 0s 3ms/step - loss: 0.8757\n",
            "Epoch 172/300\n",
            "6/6 [==============================] - 0s 2ms/step - loss: 0.8699\n",
            "Epoch 173/300\n",
            "6/6 [==============================] - 0s 4ms/step - loss: 0.8739\n",
            "Epoch 174/300\n",
            "6/6 [==============================] - 0s 3ms/step - loss: 0.8948\n",
            "Epoch 175/300\n",
            "6/6 [==============================] - 0s 2ms/step - loss: 0.9433\n",
            "Epoch 176/300\n",
            "6/6 [==============================] - 0s 3ms/step - loss: 0.8910\n",
            "Epoch 177/300\n",
            "6/6 [==============================] - 0s 3ms/step - loss: 0.9009\n",
            "Epoch 178/300\n",
            "6/6 [==============================] - 0s 2ms/step - loss: 0.8953\n",
            "Epoch 179/300\n",
            "6/6 [==============================] - 0s 2ms/step - loss: 0.8725\n",
            "Epoch 180/300\n",
            "6/6 [==============================] - 0s 2ms/step - loss: 0.8848\n",
            "Epoch 181/300\n",
            "6/6 [==============================] - 0s 2ms/step - loss: 0.9049\n",
            "Epoch 182/300\n",
            "6/6 [==============================] - 0s 1ms/step - loss: 0.8987\n",
            "Epoch 183/300\n",
            "6/6 [==============================] - 0s 1ms/step - loss: 0.8707\n",
            "Epoch 184/300\n",
            "6/6 [==============================] - 0s 1ms/step - loss: 0.8716\n",
            "Epoch 185/300\n",
            "6/6 [==============================] - 0s 1ms/step - loss: 0.8759\n",
            "Epoch 186/300\n",
            "6/6 [==============================] - 0s 1ms/step - loss: 0.9049\n",
            "Epoch 187/300\n",
            "6/6 [==============================] - 0s 1ms/step - loss: 0.8820\n",
            "Epoch 188/300\n",
            "6/6 [==============================] - 0s 1ms/step - loss: 0.8740\n",
            "Epoch 189/300\n",
            "6/6 [==============================] - 0s 1ms/step - loss: 0.8931\n",
            "Epoch 190/300\n",
            "6/6 [==============================] - 0s 1ms/step - loss: 0.8720\n",
            "Epoch 191/300\n",
            "6/6 [==============================] - 0s 2ms/step - loss: 0.8891\n",
            "Epoch 192/300\n",
            "6/6 [==============================] - 0s 2ms/step - loss: 0.8841\n",
            "Epoch 193/300\n",
            "6/6 [==============================] - 0s 3ms/step - loss: 0.8696\n",
            "Epoch 194/300\n",
            "6/6 [==============================] - 0s 2ms/step - loss: 0.8836\n",
            "Epoch 195/300\n",
            "6/6 [==============================] - 0s 1ms/step - loss: 0.8847\n",
            "Epoch 196/300\n",
            "6/6 [==============================] - 0s 3ms/step - loss: 0.8724\n",
            "Epoch 197/300\n",
            "6/6 [==============================] - 0s 1ms/step - loss: 0.8719\n",
            "Epoch 198/300\n",
            "6/6 [==============================] - 0s 2ms/step - loss: 0.8796\n",
            "Epoch 199/300\n",
            "6/6 [==============================] - 0s 2ms/step - loss: 0.8861\n",
            "Epoch 200/300\n",
            "6/6 [==============================] - 0s 2ms/step - loss: 0.8713\n",
            "Epoch 201/300\n",
            "6/6 [==============================] - 0s 1ms/step - loss: 0.8742\n",
            "Epoch 202/300\n",
            "6/6 [==============================] - 0s 1ms/step - loss: 0.8806\n",
            "Epoch 203/300\n",
            "6/6 [==============================] - 0s 2ms/step - loss: 0.8854\n",
            "Epoch 204/300\n",
            "6/6 [==============================] - 0s 2ms/step - loss: 0.8729\n",
            "Epoch 205/300\n",
            "6/6 [==============================] - 0s 2ms/step - loss: 0.8743\n",
            "Epoch 206/300\n",
            "6/6 [==============================] - 0s 1ms/step - loss: 0.8690\n",
            "Epoch 207/300\n",
            "6/6 [==============================] - 0s 2ms/step - loss: 0.8746\n",
            "Epoch 208/300\n",
            "6/6 [==============================] - 0s 1ms/step - loss: 0.8718\n",
            "Epoch 209/300\n",
            "6/6 [==============================] - 0s 2ms/step - loss: 0.8741\n",
            "Epoch 210/300\n",
            "6/6 [==============================] - 0s 2ms/step - loss: 0.8879\n",
            "Epoch 211/300\n",
            "6/6 [==============================] - 0s 1ms/step - loss: 0.8779\n",
            "Epoch 212/300\n",
            "6/6 [==============================] - 0s 2ms/step - loss: 0.8714\n",
            "Epoch 213/300\n",
            "6/6 [==============================] - 0s 1ms/step - loss: 0.8699\n",
            "Epoch 214/300\n",
            "6/6 [==============================] - 0s 1ms/step - loss: 0.8787\n",
            "Epoch 215/300\n",
            "6/6 [==============================] - 0s 2ms/step - loss: 0.8678\n",
            "Epoch 216/300\n",
            "6/6 [==============================] - 0s 1ms/step - loss: 0.8788\n",
            "Epoch 217/300\n",
            "6/6 [==============================] - 0s 1ms/step - loss: 0.8844\n",
            "Epoch 218/300\n",
            "6/6 [==============================] - 0s 2ms/step - loss: 0.8716\n",
            "Epoch 219/300\n",
            "6/6 [==============================] - 0s 2ms/step - loss: 0.8731\n",
            "Epoch 220/300\n",
            "6/6 [==============================] - 0s 1ms/step - loss: 0.8749\n",
            "Epoch 221/300\n",
            "6/6 [==============================] - 0s 1ms/step - loss: 0.8735\n",
            "Epoch 222/300\n",
            "6/6 [==============================] - 0s 1ms/step - loss: 0.8773\n",
            "Epoch 223/300\n",
            "6/6 [==============================] - 0s 2ms/step - loss: 0.8710\n",
            "Epoch 224/300\n",
            "6/6 [==============================] - 0s 2ms/step - loss: 0.8847\n",
            "Epoch 225/300\n",
            "6/6 [==============================] - 0s 1ms/step - loss: 0.8760\n",
            "Epoch 226/300\n",
            "6/6 [==============================] - 0s 1ms/step - loss: 0.9119\n",
            "Epoch 227/300\n",
            "6/6 [==============================] - 0s 1ms/step - loss: 0.9350\n",
            "Epoch 228/300\n",
            "6/6 [==============================] - 0s 2ms/step - loss: 0.8719\n",
            "Epoch 229/300\n",
            "6/6 [==============================] - 0s 2ms/step - loss: 0.8950\n",
            "Epoch 230/300\n",
            "6/6 [==============================] - 0s 2ms/step - loss: 0.8934\n",
            "Epoch 231/300\n",
            "6/6 [==============================] - 0s 1ms/step - loss: 0.8710\n",
            "Epoch 232/300\n",
            "6/6 [==============================] - 0s 1ms/step - loss: 0.8710\n",
            "Epoch 233/300\n",
            "6/6 [==============================] - 0s 1ms/step - loss: 0.8708\n",
            "Epoch 234/300\n",
            "6/6 [==============================] - 0s 1ms/step - loss: 0.8729\n",
            "Epoch 235/300\n",
            "6/6 [==============================] - 0s 1ms/step - loss: 0.8715\n",
            "Epoch 236/300\n",
            "6/6 [==============================] - 0s 1ms/step - loss: 0.8703\n",
            "Epoch 237/300\n",
            "6/6 [==============================] - 0s 1ms/step - loss: 0.8747\n",
            "Epoch 238/300\n",
            "6/6 [==============================] - 0s 1ms/step - loss: 0.8756\n",
            "Epoch 239/300\n",
            "6/6 [==============================] - 0s 1ms/step - loss: 0.8751\n",
            "Epoch 240/300\n",
            "6/6 [==============================] - 0s 1ms/step - loss: 0.8696\n",
            "Epoch 241/300\n",
            "6/6 [==============================] - 0s 1ms/step - loss: 0.8865\n",
            "Epoch 242/300\n",
            "6/6 [==============================] - 0s 1ms/step - loss: 0.8759\n",
            "Epoch 243/300\n",
            "6/6 [==============================] - 0s 1ms/step - loss: 0.8718\n",
            "Epoch 244/300\n",
            "6/6 [==============================] - 0s 1ms/step - loss: 0.8711\n",
            "Epoch 245/300\n",
            "6/6 [==============================] - 0s 1ms/step - loss: 0.8702\n",
            "Epoch 246/300\n",
            "6/6 [==============================] - 0s 1ms/step - loss: 0.8717\n",
            "Epoch 247/300\n",
            "6/6 [==============================] - 0s 1ms/step - loss: 0.8721\n",
            "Epoch 248/300\n",
            "6/6 [==============================] - 0s 1ms/step - loss: 0.8719\n",
            "Epoch 249/300\n",
            "6/6 [==============================] - 0s 1ms/step - loss: 0.8734\n",
            "Epoch 250/300\n",
            "6/6 [==============================] - 0s 1ms/step - loss: 0.8716\n",
            "Epoch 251/300\n",
            "6/6 [==============================] - 0s 1ms/step - loss: 0.8701\n",
            "Epoch 252/300\n",
            "6/6 [==============================] - 0s 1ms/step - loss: 0.8718\n",
            "Epoch 253/300\n",
            "6/6 [==============================] - 0s 1ms/step - loss: 0.8720\n",
            "Epoch 254/300\n",
            "6/6 [==============================] - 0s 1ms/step - loss: 0.8740\n",
            "Epoch 255/300\n",
            "6/6 [==============================] - 0s 1ms/step - loss: 0.8747\n",
            "Epoch 256/300\n",
            "6/6 [==============================] - 0s 1ms/step - loss: 0.8757\n",
            "Epoch 257/300\n",
            "6/6 [==============================] - 0s 1ms/step - loss: 0.8729\n",
            "Epoch 258/300\n",
            "6/6 [==============================] - 0s 1ms/step - loss: 0.8768\n",
            "Epoch 259/300\n",
            "6/6 [==============================] - 0s 1ms/step - loss: 0.8708\n",
            "Epoch 260/300\n",
            "6/6 [==============================] - 0s 1ms/step - loss: 0.8901\n",
            "Epoch 261/300\n",
            "6/6 [==============================] - 0s 1ms/step - loss: 0.8812\n",
            "Epoch 262/300\n",
            "6/6 [==============================] - 0s 3ms/step - loss: 0.8676\n",
            "Epoch 263/300\n",
            "6/6 [==============================] - 0s 1ms/step - loss: 0.8727\n",
            "Epoch 264/300\n",
            "6/6 [==============================] - 0s 1ms/step - loss: 0.8714\n",
            "Epoch 265/300\n",
            "6/6 [==============================] - 0s 1ms/step - loss: 0.8712\n",
            "Epoch 266/300\n",
            "6/6 [==============================] - 0s 1ms/step - loss: 0.8721\n",
            "Epoch 267/300\n",
            "6/6 [==============================] - 0s 2ms/step - loss: 0.8745\n",
            "Epoch 268/300\n",
            "6/6 [==============================] - 0s 3ms/step - loss: 0.8714\n",
            "Epoch 269/300\n",
            "6/6 [==============================] - 0s 1ms/step - loss: 0.8769\n",
            "Epoch 270/300\n",
            "6/6 [==============================] - 0s 2ms/step - loss: 0.8890\n",
            "Epoch 271/300\n",
            "6/6 [==============================] - 0s 2ms/step - loss: 0.8812\n",
            "Epoch 272/300\n",
            "6/6 [==============================] - 0s 2ms/step - loss: 0.8719\n",
            "Epoch 273/300\n",
            "6/6 [==============================] - 0s 3ms/step - loss: 0.8717\n",
            "Epoch 274/300\n",
            "6/6 [==============================] - 0s 2ms/step - loss: 0.8740\n",
            "Epoch 275/300\n",
            "6/6 [==============================] - 0s 4ms/step - loss: 0.8786\n",
            "Epoch 276/300\n",
            "6/6 [==============================] - 0s 2ms/step - loss: 0.8736\n",
            "Epoch 277/300\n",
            "6/6 [==============================] - 0s 1ms/step - loss: 0.8891\n",
            "Epoch 278/300\n",
            "6/6 [==============================] - 0s 2ms/step - loss: 0.8862\n",
            "Epoch 279/300\n",
            "6/6 [==============================] - 0s 3ms/step - loss: 0.8793\n",
            "Epoch 280/300\n",
            "6/6 [==============================] - 0s 3ms/step - loss: 0.8732\n",
            "Epoch 281/300\n",
            "6/6 [==============================] - 0s 3ms/step - loss: 0.8704\n",
            "Epoch 282/300\n",
            "6/6 [==============================] - 0s 1ms/step - loss: 0.8712\n",
            "Epoch 283/300\n",
            "6/6 [==============================] - 0s 969us/step - loss: 0.8743\n",
            "Epoch 284/300\n",
            "6/6 [==============================] - 0s 1ms/step - loss: 0.8813\n",
            "Epoch 285/300\n",
            "6/6 [==============================] - 0s 3ms/step - loss: 0.8755\n",
            "Epoch 286/300\n",
            "6/6 [==============================] - 0s 2ms/step - loss: 0.8736\n",
            "Epoch 287/300\n",
            "6/6 [==============================] - 0s 1ms/step - loss: 0.8762\n",
            "Epoch 288/300\n",
            "6/6 [==============================] - 0s 1ms/step - loss: 0.8660\n",
            "Epoch 289/300\n",
            "6/6 [==============================] - 0s 4ms/step - loss: 0.8706\n",
            "Epoch 290/300\n",
            "6/6 [==============================] - 0s 2ms/step - loss: 0.8713\n",
            "Epoch 291/300\n",
            "6/6 [==============================] - 0s 1ms/step - loss: 0.8710\n",
            "Epoch 292/300\n",
            "6/6 [==============================] - 0s 2ms/step - loss: 0.8743\n",
            "Epoch 293/300\n",
            "6/6 [==============================] - 0s 2ms/step - loss: 0.8743\n",
            "Epoch 294/300\n",
            "6/6 [==============================] - 0s 2ms/step - loss: 0.8729\n",
            "Epoch 295/300\n",
            "6/6 [==============================] - 0s 1ms/step - loss: 0.8745\n",
            "Epoch 296/300\n",
            "6/6 [==============================] - 0s 1ms/step - loss: 0.8731\n",
            "Epoch 297/300\n",
            "6/6 [==============================] - 0s 1ms/step - loss: 0.8730\n",
            "Epoch 298/300\n",
            "6/6 [==============================] - 0s 2ms/step - loss: 0.8690\n",
            "Epoch 299/300\n",
            "6/6 [==============================] - 0s 1ms/step - loss: 0.8713\n",
            "Epoch 300/300\n",
            "6/6 [==============================] - 0s 2ms/step - loss: 0.8713\n"
          ],
          "name": "stdout"
        }
      ]
    },
    {
      "cell_type": "code",
      "metadata": {
        "id": "ovF_gbVOopHv",
        "outputId": "c5974f57-5c4a-4ac2-f2f3-15c0669b2722",
        "colab": {
          "base_uri": "https://localhost:8080/",
          "height": 282
        }
      },
      "source": [
        "plt.plot(r.history['loss'], label = 'loss')\n"
      ],
      "execution_count": 13,
      "outputs": [
        {
          "output_type": "execute_result",
          "data": {
            "text/plain": [
              "[<matplotlib.lines.Line2D at 0x7f62e6e57940>]"
            ]
          },
          "metadata": {
            "tags": []
          },
          "execution_count": 13
        },
        {
          "output_type": "display_data",
          "data": {
            "image/png": "[encoded data removed]",
            "text/plain": [
              "<Figure size 432x288 with 1 Axes>"
            ]
          },
          "metadata": {
            "tags": [],
            "needs_background": "light"
          }
        }
      ]
    },
    {
      "cell_type": "code",
      "metadata": {
        "id": "JGvzg5v5xtK0",
        "outputId": "ebacd9c5-17c1-466c-c526-49c6ce149724",
        "colab": {
          "base_uri": "https://localhost:8080/"
        }
      },
      "source": [
        "#Get the slope of the line \n",
        "\n",
        "print (model.layers)\n",
        "print (model.layers[0].get_weights())"
      ],
      "execution_count": 16,
      "outputs": [
        {
          "output_type": "stream",
          "text": [
            "[<tensorflow.python.keras.layers.core.Dense object at 0x7f62e7f93c18>]\n",
            "[array([[0.34377956]], dtype=float32), array([17.777987], dtype=float32)]\n"
          ],
          "name": "stdout"
        }
      ]
    },
    {
      "cell_type": "code",
      "metadata": {
        "id": "bhApK-bwy_Rh"
      },
      "source": [
        "#The slope of the line is \n",
        "a = model.layers[0].get_weights()[0][0,0]"
      ],
      "execution_count": 17,
      "outputs": []
    },
    {
      "cell_type": "code",
      "metadata": {
        "id": "t52oB6oJzQQV",
        "outputId": "39947371-b709-42b0-a15e-c180cab80bc1",
        "colab": {
          "base_uri": "https://localhost:8080/"
        }
      },
      "source": [
        "print (\"Time to double according to Moore's law:\", np.log(2)/a)"
      ],
      "execution_count": 18,
      "outputs": [
        {
          "output_type": "stream",
          "text": [
            "Time to double according to Moore's law: 2.016254755485965\n"
          ],
          "name": "stdout"
        }
      ]
    },
    {
      "cell_type": "code",
      "metadata": {
        "id": "Tooc2l1n4JeL",
        "outputId": "6c36cbb6-75fc-43b6-e30a-1e833179c375",
        "colab": {
          "base_uri": "https://localhost:8080/"
        }
      },
      "source": [
        "#for the analytical solution time to double the transistors according to Moore's law\n",
        "\n",
        "X = np.array(X).flatten()\n",
        "Y = np.array(Y)\n",
        "denominator = X.dot(X) - X.mean()*X.sum()\n",
        "a = (X.dot(Y) - Y.mean()*X.sum())/denominator\n",
        "b = (Y.mean()*X.dot(X)-X.mean()*X.dot (Y))/denominator\n",
        "print (a, b)\n",
        "print (\"Time to double according to Moore's law: \", np.log(2)/a)"
      ],
      "execution_count": 21,
      "outputs": [
        {
          "output_type": "stream",
          "text": [
            "0.341682487387313 17.764939393631764\n",
            "Time to double according to Moore's law:  2.0286295205239204\n"
          ],
          "name": "stdout"
        }
      ]
    },
    {
      "cell_type": "code",
      "metadata": {
        "id": "82N3Z0L96a_E"
      },
      "source": [
        ""
      ],
      "execution_count": null,
      "outputs": []
    }
  ]
}