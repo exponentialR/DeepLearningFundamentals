{
  "nbformat": 4,
  "nbformat_minor": 0,
  "metadata": {
    "colab": {
      "name": "Simple Logistic Regression.ipynb",
      "provenance": [],
      "authorship_tag": "ABX9TyNUYW4DKo0iN+8RlTeLn8oj",
      "include_colab_link": true
    },
    "kernelspec": {
      "name": "python3",
      "display_name": "Python 3"
    }
  },
  "cells": [
    {
      "cell_type": "markdown",
      "metadata": {
        "id": "view-in-github",
        "colab_type": "text"
      },
      "source": [
        "<a href=\"https://colab.research.google.com/github/exponentialR/DeepLearningFundamentals/blob/main/Simple_Logistic_Regression.ipynb\" target=\"_parent\"><img src=\"https://colab.research.google.com/assets/colab-badge.svg\" alt=\"Open In Colab\"/></a>"
      ]
    },
    {
      "cell_type": "code",
      "metadata": {
        "id": "FtzXO5fYhVMT"
      },
      "source": [
        "import tensorflow as tf\n",
        "import numpy as np\n",
        "import pandas as pd \n",
        "import matplotlib.pyplot as plt"
      ],
      "execution_count": 1,
      "outputs": []
    },
    {
      "cell_type": "code",
      "metadata": {
        "id": "4xAI3WNchi_9",
        "outputId": "fa6c3e81-ff8a-45cc-9199-499978bcb755",
        "colab": {
          "base_uri": "https://localhost:8080/"
        }
      },
      "source": [
        "# Get the data\n",
        "!wget https://raw.githubusercontent.com/exponentialR/DeepLearningFundamentals/main/moore.csv"
      ],
      "execution_count": 2,
      "outputs": [
        {
          "output_type": "stream",
          "text": [
            "--2020-11-10 18:35:35--  https://raw.githubusercontent.com/exponentialR/DeepLearningFundamentals/main/moore.csv\n",
            "Resolving raw.githubusercontent.com (raw.githubusercontent.com)... 151.101.0.133, 151.101.64.133, 151.101.128.133, ...\n",
            "Connecting to raw.githubusercontent.com (raw.githubusercontent.com)|151.101.0.133|:443... connected.\n",
            "HTTP request sent, awaiting response... 200 OK\n",
            "Length: 2302 (2.2K) [text/plain]\n",
            "Saving to: ‘moore.csv’\n",
            "\n",
            "moore.csv           100%[===================>]   2.25K  --.-KB/s    in 0s      \n",
            "\n",
            "2020-11-10 18:35:35 (21.9 MB/s) - ‘moore.csv’ saved [2302/2302]\n",
            "\n"
          ],
          "name": "stdout"
        }
      ]
    },
    {
      "cell_type": "code",
      "metadata": {
        "id": "5W43kniajn9U"
      },
      "source": [
        "#Load in the data\n",
        "data = pd.read_csv('moore.csv', header = None).values\n",
        "X = data[:, 0].reshape(-1, 1) #make it a 2-D array of size N xD where D = 1 \n",
        "Y = data[:, 1]"
      ],
      "execution_count": 3,
      "outputs": []
    },
    {
      "cell_type": "code",
      "metadata": {
        "id": "X2_wHnB3kh3z",
        "outputId": "815dc261-b611-4c6c-826c-9a0442a251a1",
        "colab": {
          "base_uri": "https://localhost:8080/",
          "height": 293
        }
      },
      "source": [
        "#now plot the data to the get the data curve/path (this visually determines, if it's linear or geometric or exponential)\n",
        "\n",
        "#this visually shows the path of the data\n",
        "plt.scatter(X, Y)"
      ],
      "execution_count": 5,
      "outputs": [
        {
          "output_type": "execute_result",
          "data": {
            "text/plain": [
              "<matplotlib.collections.PathCollection at 0x7f6a497fa470>"
            ]
          },
          "metadata": {
            "tags": []
          },
          "execution_count": 5
        },
        {
          "output_type": "display_data",
          "data": {
            "image/png": "[encoded data removed]",
            "text/plain": [
              "<Figure size 432x288 with 1 Axes>"
            ]
          },
          "metadata": {
            "tags": [],
            "needs_background": "light"
          }
        }
      ]
    },
    {
      "cell_type": "code",
      "metadata": {
        "id": "RLrJT1Aqk8Dt",
        "outputId": "9d4474b4-2108-4dac-9ea2-de4a504d1e6e",
        "colab": {
          "base_uri": "https://localhost:8080/",
          "height": 282
        }
      },
      "source": [
        "#We need to find a way to convert the model into a linear model, since it is still exponential\n",
        "\n",
        "#Convert the data to Linear \n",
        "\n",
        "Y = np.log(Y)\n",
        "plt.scatter (X, Y)"
      ],
      "execution_count": 6,
      "outputs": [
        {
          "output_type": "execute_result",
          "data": {
            "text/plain": [
              "<matplotlib.collections.PathCollection at 0x7f6a4975f2b0>"
            ]
          },
          "metadata": {
            "tags": []
          },
          "execution_count": 6
        },
        {
          "output_type": "display_data",
          "data": {
            "image/png": "[encoded data removed]",
            "text/plain": [
              "<Figure size 432x288 with 1 Axes>"
            ]
          },
          "metadata": {
            "tags": [],
            "needs_background": "light"
          }
        }
      ]
    },
    {
      "cell_type": "code",
      "metadata": {
        "id": "Z5NYd1swllyF",
        "outputId": "4de9408f-74d3-4336-b582-952c8ad77497",
        "colab": {
          "base_uri": "https://localhost:8080/",
          "height": 282
        }
      },
      "source": [
        "B = np.log(X)\n",
        "plt.scatter(B, Y) "
      ],
      "execution_count": 7,
      "outputs": [
        {
          "output_type": "execute_result",
          "data": {
            "text/plain": [
              "<matplotlib.collections.PathCollection at 0x7f6a49741fd0>"
            ]
          },
          "metadata": {
            "tags": []
          },
          "execution_count": 7
        },
        {
          "output_type": "display_data",
          "data": {
            "image/png": "[encoded data removed]",
            "text/plain": [
              "<Figure size 432x288 with 1 Axes>"
            ]
          },
          "metadata": {
            "tags": [],
            "needs_background": "light"
          }
        }
      ]
    },
    {
      "cell_type": "code",
      "metadata": {
        "id": "ZRHMlAifl3uj"
      },
      "source": [
        "#Now scale the X data so the values of the input are not too large. This is done by finding the difference between the input (X) amd the mean of the input (X), then equating it to the data input (X)\n",
        "\n",
        "X = X - X.mean()\n"
      ],
      "execution_count": 8,
      "outputs": []
    },
    {
      "cell_type": "code",
      "metadata": {
        "id": "Lu97UpIunsQA",
        "outputId": "e6179fac-6676-42fc-d9f4-a8582b3444c0",
        "colab": {
          "base_uri": "https://localhost:8080/",
          "height": 316
        }
      },
      "source": [
        "C = np.log(X)\n",
        "plt.scatter(X, Y)"
      ],
      "execution_count": 9,
      "outputs": [
        {
          "output_type": "stream",
          "text": [
            "/usr/local/lib/python3.6/dist-packages/ipykernel_launcher.py:1: RuntimeWarning: invalid value encountered in log\n",
            "  \"\"\"Entry point for launching an IPython kernel.\n"
          ],
          "name": "stderr"
        },
        {
          "output_type": "execute_result",
          "data": {
            "text/plain": [
              "<matplotlib.collections.PathCollection at 0x7f6a496aa748>"
            ]
          },
          "metadata": {
            "tags": []
          },
          "execution_count": 9
        },
        {
          "output_type": "display_data",
          "data": {
            "image/png": "[encoded data removed]",
            "text/plain": [
              "<Figure size 432x288 with 1 Axes>"
            ]
          },
          "metadata": {
            "tags": [],
            "needs_background": "light"
          }
        }
      ]
    },
    {
      "cell_type": "code",
      "metadata": {
        "id": "e9cguy4yn2eV",
        "outputId": "361250ad-2d3f-452d-e15f-d1dd86da2474",
        "colab": {
          "base_uri": "https://localhost:8080/"
        }
      },
      "source": [
        "#It is time to create the model using tensorflow \n",
        "#remember for Logistics regression there is no activation function as with the case of classification model where sigmoid was used\n",
        "\n",
        "#This is a Simple Linear Regression model with no activation function \n",
        "\n",
        "model = tf.keras.models.Sequential([\n",
        "    tf.keras.layers.Input(shape=(1,)),\n",
        "    tf.keras.layers.Dense(1)\n",
        "])\n",
        "\n",
        "model.compile (optimizer=tf.keras.optimizers.SGD(0.01, 0.9), loss = 'mse')\n",
        "\n",
        "\n",
        "def schedule (epoch, lr):\n",
        "  if epoch>=50:\n",
        "    return 0.0001\n",
        "  return 0.001\n",
        "scheduler = tf.keras.callbacks.LearningRateScheduler(schedule)\n",
        "\n",
        "#Train the model \n",
        "\n",
        "r = model.fit(X, Y, epochs =300, callbacks=[scheduler])"
      ],
      "execution_count": 10,
      "outputs": [
        {
          "output_type": "stream",
          "text": [
            "Epoch 1/300\n",
            "6/6 [==============================] - 0s 2ms/step - loss: 359.5592\n",
            "Epoch 2/300\n",
            "6/6 [==============================] - 0s 1ms/step - loss: 283.6399\n",
            "Epoch 3/300\n",
            "6/6 [==============================] - 0s 2ms/step - loss: 273.3053\n",
            "Epoch 4/300\n",
            "6/6 [==============================] - 0s 2ms/step - loss: 215.5961\n",
            "Epoch 5/300\n",
            "6/6 [==============================] - 0s 2ms/step - loss: 157.1372\n",
            "Epoch 6/300\n",
            "6/6 [==============================] - 0s 2ms/step - loss: 126.0379\n",
            "Epoch 7/300\n",
            "6/6 [==============================] - 0s 1ms/step - loss: 89.8172\n",
            "Epoch 8/300\n",
            "6/6 [==============================] - 0s 1ms/step - loss: 105.4784\n",
            "Epoch 9/300\n",
            "6/6 [==============================] - 0s 2ms/step - loss: 71.0333\n",
            "Epoch 10/300\n",
            "6/6 [==============================] - 0s 1ms/step - loss: 41.8243\n",
            "Epoch 11/300\n",
            "6/6 [==============================] - 0s 2ms/step - loss: 28.9807\n",
            "Epoch 12/300\n",
            "6/6 [==============================] - 0s 2ms/step - loss: 18.5297\n",
            "Epoch 13/300\n",
            "6/6 [==============================] - 0s 1ms/step - loss: 15.0285\n",
            "Epoch 14/300\n",
            "6/6 [==============================] - 0s 1ms/step - loss: 20.5990\n",
            "Epoch 15/300\n",
            "6/6 [==============================] - 0s 2ms/step - loss: 24.1795\n",
            "Epoch 16/300\n",
            "6/6 [==============================] - 0s 2ms/step - loss: 19.5905\n",
            "Epoch 17/300\n",
            "6/6 [==============================] - 0s 2ms/step - loss: 9.8681\n",
            "Epoch 18/300\n",
            "6/6 [==============================] - 0s 1ms/step - loss: 5.1068\n",
            "Epoch 19/300\n",
            "6/6 [==============================] - 0s 1ms/step - loss: 4.3465\n",
            "Epoch 20/300\n",
            "6/6 [==============================] - 0s 2ms/step - loss: 3.4783\n",
            "Epoch 21/300\n",
            "6/6 [==============================] - 0s 1ms/step - loss: 3.3566\n",
            "Epoch 22/300\n",
            "6/6 [==============================] - 0s 1ms/step - loss: 2.7721\n",
            "Epoch 23/300\n",
            "6/6 [==============================] - 0s 2ms/step - loss: 2.4453\n",
            "Epoch 24/300\n",
            "6/6 [==============================] - 0s 1ms/step - loss: 1.6444\n",
            "Epoch 25/300\n",
            "6/6 [==============================] - 0s 1ms/step - loss: 1.4873\n",
            "Epoch 26/300\n",
            "6/6 [==============================] - 0s 2ms/step - loss: 1.1847\n",
            "Epoch 27/300\n",
            "6/6 [==============================] - 0s 2ms/step - loss: 1.1275\n",
            "Epoch 28/300\n",
            "6/6 [==============================] - 0s 2ms/step - loss: 1.1006\n",
            "Epoch 29/300\n",
            "6/6 [==============================] - 0s 1ms/step - loss: 1.0315\n",
            "Epoch 30/300\n",
            "6/6 [==============================] - 0s 2ms/step - loss: 1.0388\n",
            "Epoch 31/300\n",
            "6/6 [==============================] - 0s 2ms/step - loss: 0.9837\n",
            "Epoch 32/300\n",
            "6/6 [==============================] - 0s 1ms/step - loss: 1.6030\n",
            "Epoch 33/300\n",
            "6/6 [==============================] - 0s 2ms/step - loss: 1.1217\n",
            "Epoch 34/300\n",
            "6/6 [==============================] - 0s 2ms/step - loss: 1.7811\n",
            "Epoch 35/300\n",
            "6/6 [==============================] - 0s 1ms/step - loss: 1.1834\n",
            "Epoch 36/300\n",
            "6/6 [==============================] - 0s 1ms/step - loss: 1.4013\n",
            "Epoch 37/300\n",
            "6/6 [==============================] - 0s 2ms/step - loss: 1.0104\n",
            "Epoch 38/300\n",
            "6/6 [==============================] - 0s 1ms/step - loss: 1.5329\n",
            "Epoch 39/300\n",
            "6/6 [==============================] - 0s 2ms/step - loss: 1.5578\n",
            "Epoch 40/300\n",
            "6/6 [==============================] - 0s 2ms/step - loss: 1.0403\n",
            "Epoch 41/300\n",
            "6/6 [==============================] - 0s 2ms/step - loss: 0.9267\n",
            "Epoch 42/300\n",
            "6/6 [==============================] - 0s 1ms/step - loss: 0.9647\n",
            "Epoch 43/300\n",
            "6/6 [==============================] - 0s 1ms/step - loss: 0.9403\n",
            "Epoch 44/300\n",
            "6/6 [==============================] - 0s 1ms/step - loss: 1.0129\n",
            "Epoch 45/300\n",
            "6/6 [==============================] - 0s 2ms/step - loss: 0.9528\n",
            "Epoch 46/300\n",
            "6/6 [==============================] - 0s 2ms/step - loss: 0.9619\n",
            "Epoch 47/300\n",
            "6/6 [==============================] - 0s 2ms/step - loss: 0.9175\n",
            "Epoch 48/300\n",
            "6/6 [==============================] - 0s 2ms/step - loss: 0.8861\n",
            "Epoch 49/300\n",
            "6/6 [==============================] - 0s 2ms/step - loss: 0.9352\n",
            "Epoch 50/300\n",
            "6/6 [==============================] - 0s 1ms/step - loss: 1.0744\n",
            "Epoch 51/300\n",
            "6/6 [==============================] - 0s 2ms/step - loss: 3.0279\n",
            "Epoch 52/300\n",
            "6/6 [==============================] - 0s 1ms/step - loss: 5.4265\n",
            "Epoch 53/300\n",
            "6/6 [==============================] - 0s 2ms/step - loss: 1.4574\n",
            "Epoch 54/300\n",
            "6/6 [==============================] - 0s 1ms/step - loss: 1.5099\n",
            "Epoch 55/300\n",
            "6/6 [==============================] - 0s 2ms/step - loss: 1.6903\n",
            "Epoch 56/300\n",
            "6/6 [==============================] - 0s 2ms/step - loss: 0.9265\n",
            "Epoch 57/300\n",
            "6/6 [==============================] - 0s 1ms/step - loss: 1.0581\n",
            "Epoch 58/300\n",
            "6/6 [==============================] - 0s 1ms/step - loss: 1.0581\n",
            "Epoch 59/300\n",
            "6/6 [==============================] - 0s 1ms/step - loss: 0.8739\n",
            "Epoch 60/300\n",
            "6/6 [==============================] - 0s 1ms/step - loss: 0.8869\n",
            "Epoch 61/300\n",
            "6/6 [==============================] - 0s 1ms/step - loss: 0.8992\n",
            "Epoch 62/300\n",
            "6/6 [==============================] - 0s 1ms/step - loss: 0.8694\n",
            "Epoch 63/300\n",
            "6/6 [==============================] - 0s 2ms/step - loss: 0.8900\n",
            "Epoch 64/300\n",
            "6/6 [==============================] - 0s 2ms/step - loss: 0.8727\n",
            "Epoch 65/300\n",
            "6/6 [==============================] - 0s 2ms/step - loss: 0.9363\n",
            "Epoch 66/300\n",
            "6/6 [==============================] - 0s 2ms/step - loss: 0.9145\n",
            "Epoch 67/300\n",
            "6/6 [==============================] - 0s 1ms/step - loss: 0.8774\n",
            "Epoch 68/300\n",
            "6/6 [==============================] - 0s 3ms/step - loss: 0.8774\n",
            "Epoch 69/300\n",
            "6/6 [==============================] - 0s 1ms/step - loss: 0.8716\n",
            "Epoch 70/300\n",
            "6/6 [==============================] - 0s 1ms/step - loss: 0.8758\n",
            "Epoch 71/300\n",
            "6/6 [==============================] - 0s 2ms/step - loss: 0.8720\n",
            "Epoch 72/300\n",
            "6/6 [==============================] - 0s 2ms/step - loss: 0.8728\n",
            "Epoch 73/300\n",
            "6/6 [==============================] - 0s 2ms/step - loss: 0.8747\n",
            "Epoch 74/300\n",
            "6/6 [==============================] - 0s 1ms/step - loss: 0.8736\n",
            "Epoch 75/300\n",
            "6/6 [==============================] - 0s 1ms/step - loss: 0.8858\n",
            "Epoch 76/300\n",
            "6/6 [==============================] - 0s 1ms/step - loss: 0.8882\n",
            "Epoch 77/300\n",
            "6/6 [==============================] - 0s 2ms/step - loss: 0.8714\n",
            "Epoch 78/300\n",
            "6/6 [==============================] - 0s 1ms/step - loss: 0.8922\n",
            "Epoch 79/300\n",
            "6/6 [==============================] - 0s 2ms/step - loss: 0.8840\n",
            "Epoch 80/300\n",
            "6/6 [==============================] - 0s 2ms/step - loss: 0.8698\n",
            "Epoch 81/300\n",
            "6/6 [==============================] - 0s 1ms/step - loss: 0.8923\n",
            "Epoch 82/300\n",
            "6/6 [==============================] - 0s 1ms/step - loss: 0.8953\n",
            "Epoch 83/300\n",
            "6/6 [==============================] - 0s 2ms/step - loss: 0.8734\n",
            "Epoch 84/300\n",
            "6/6 [==============================] - 0s 2ms/step - loss: 0.8755\n",
            "Epoch 85/300\n",
            "6/6 [==============================] - 0s 2ms/step - loss: 0.8745\n",
            "Epoch 86/300\n",
            "6/6 [==============================] - 0s 2ms/step - loss: 0.8796\n",
            "Epoch 87/300\n",
            "6/6 [==============================] - 0s 2ms/step - loss: 0.8748\n",
            "Epoch 88/300\n",
            "6/6 [==============================] - 0s 2ms/step - loss: 0.8783\n",
            "Epoch 89/300\n",
            "6/6 [==============================] - 0s 2ms/step - loss: 0.8705\n",
            "Epoch 90/300\n",
            "6/6 [==============================] - 0s 2ms/step - loss: 0.8850\n",
            "Epoch 91/300\n",
            "6/6 [==============================] - 0s 1ms/step - loss: 0.8865\n",
            "Epoch 92/300\n",
            "6/6 [==============================] - 0s 1ms/step - loss: 0.8718\n",
            "Epoch 93/300\n",
            "6/6 [==============================] - 0s 1ms/step - loss: 0.8867\n",
            "Epoch 94/300\n",
            "6/6 [==============================] - 0s 2ms/step - loss: 0.8911\n",
            "Epoch 95/300\n",
            "6/6 [==============================] - 0s 2ms/step - loss: 0.8843\n",
            "Epoch 96/300\n",
            "6/6 [==============================] - 0s 2ms/step - loss: 0.8754\n",
            "Epoch 97/300\n",
            "6/6 [==============================] - 0s 2ms/step - loss: 0.8866\n",
            "Epoch 98/300\n",
            "6/6 [==============================] - 0s 2ms/step - loss: 0.8758\n",
            "Epoch 99/300\n",
            "6/6 [==============================] - 0s 2ms/step - loss: 0.8719\n",
            "Epoch 100/300\n",
            "6/6 [==============================] - 0s 2ms/step - loss: 0.8735\n",
            "Epoch 101/300\n",
            "6/6 [==============================] - 0s 2ms/step - loss: 0.8820\n",
            "Epoch 102/300\n",
            "6/6 [==============================] - 0s 1ms/step - loss: 0.8978\n",
            "Epoch 103/300\n",
            "6/6 [==============================] - 0s 1ms/step - loss: 0.8774\n",
            "Epoch 104/300\n",
            "6/6 [==============================] - 0s 2ms/step - loss: 0.8822\n",
            "Epoch 105/300\n",
            "6/6 [==============================] - 0s 2ms/step - loss: 0.8888\n",
            "Epoch 106/300\n",
            "6/6 [==============================] - 0s 1ms/step - loss: 0.8937\n",
            "Epoch 107/300\n",
            "6/6 [==============================] - 0s 1ms/step - loss: 0.8734\n",
            "Epoch 108/300\n",
            "6/6 [==============================] - 0s 2ms/step - loss: 0.8733\n",
            "Epoch 109/300\n",
            "6/6 [==============================] - 0s 2ms/step - loss: 0.8731\n",
            "Epoch 110/300\n",
            "6/6 [==============================] - 0s 2ms/step - loss: 0.8740\n",
            "Epoch 111/300\n",
            "6/6 [==============================] - 0s 1ms/step - loss: 0.8729\n",
            "Epoch 112/300\n",
            "6/6 [==============================] - 0s 2ms/step - loss: 0.8709\n",
            "Epoch 113/300\n",
            "6/6 [==============================] - 0s 2ms/step - loss: 0.8726\n",
            "Epoch 114/300\n",
            "6/6 [==============================] - 0s 2ms/step - loss: 0.8781\n",
            "Epoch 115/300\n",
            "6/6 [==============================] - 0s 2ms/step - loss: 0.8818\n",
            "Epoch 116/300\n",
            "6/6 [==============================] - 0s 1ms/step - loss: 0.8833\n",
            "Epoch 117/300\n",
            "6/6 [==============================] - 0s 2ms/step - loss: 0.8764\n",
            "Epoch 118/300\n",
            "6/6 [==============================] - 0s 1ms/step - loss: 0.8712\n",
            "Epoch 119/300\n",
            "6/6 [==============================] - 0s 2ms/step - loss: 0.8725\n",
            "Epoch 120/300\n",
            "6/6 [==============================] - 0s 2ms/step - loss: 0.8725\n",
            "Epoch 121/300\n",
            "6/6 [==============================] - 0s 1ms/step - loss: 0.8754\n",
            "Epoch 122/300\n",
            "6/6 [==============================] - 0s 1ms/step - loss: 0.8771\n",
            "Epoch 123/300\n",
            "6/6 [==============================] - 0s 2ms/step - loss: 0.8714\n",
            "Epoch 124/300\n",
            "6/6 [==============================] - 0s 1ms/step - loss: 0.8749\n",
            "Epoch 125/300\n",
            "6/6 [==============================] - 0s 1ms/step - loss: 0.8752\n",
            "Epoch 126/300\n",
            "6/6 [==============================] - 0s 2ms/step - loss: 0.8726\n",
            "Epoch 127/300\n",
            "6/6 [==============================] - 0s 1ms/step - loss: 0.8722\n",
            "Epoch 128/300\n",
            "6/6 [==============================] - 0s 1ms/step - loss: 0.8729\n",
            "Epoch 129/300\n",
            "6/6 [==============================] - 0s 2ms/step - loss: 0.8745\n",
            "Epoch 130/300\n",
            "6/6 [==============================] - 0s 2ms/step - loss: 0.8774\n",
            "Epoch 131/300\n",
            "6/6 [==============================] - 0s 1ms/step - loss: 0.8791\n",
            "Epoch 132/300\n",
            "6/6 [==============================] - 0s 1ms/step - loss: 0.8691\n",
            "Epoch 133/300\n",
            "6/6 [==============================] - 0s 2ms/step - loss: 0.8877\n",
            "Epoch 134/300\n",
            "6/6 [==============================] - 0s 3ms/step - loss: 0.8859\n",
            "Epoch 135/300\n",
            "6/6 [==============================] - 0s 2ms/step - loss: 0.9019\n",
            "Epoch 136/300\n",
            "6/6 [==============================] - 0s 1ms/step - loss: 0.8884\n",
            "Epoch 137/300\n",
            "6/6 [==============================] - 0s 2ms/step - loss: 0.9240\n",
            "Epoch 138/300\n",
            "6/6 [==============================] - 0s 2ms/step - loss: 0.8843\n",
            "Epoch 139/300\n",
            "6/6 [==============================] - 0s 2ms/step - loss: 0.9188\n",
            "Epoch 140/300\n",
            "6/6 [==============================] - 0s 2ms/step - loss: 0.8926\n",
            "Epoch 141/300\n",
            "6/6 [==============================] - 0s 2ms/step - loss: 0.8986\n",
            "Epoch 142/300\n",
            "6/6 [==============================] - 0s 2ms/step - loss: 0.8925\n",
            "Epoch 143/300\n",
            "6/6 [==============================] - 0s 2ms/step - loss: 0.8724\n",
            "Epoch 144/300\n",
            "6/6 [==============================] - 0s 1ms/step - loss: 0.8721\n",
            "Epoch 145/300\n",
            "6/6 [==============================] - 0s 2ms/step - loss: 0.8717\n",
            "Epoch 146/300\n",
            "6/6 [==============================] - 0s 2ms/step - loss: 0.8750\n",
            "Epoch 147/300\n",
            "6/6 [==============================] - 0s 1ms/step - loss: 0.8724\n",
            "Epoch 148/300\n",
            "6/6 [==============================] - 0s 1ms/step - loss: 0.8733\n",
            "Epoch 149/300\n",
            "6/6 [==============================] - 0s 1ms/step - loss: 0.8711\n",
            "Epoch 150/300\n",
            "6/6 [==============================] - 0s 2ms/step - loss: 0.8712\n",
            "Epoch 151/300\n",
            "6/6 [==============================] - 0s 2ms/step - loss: 0.8723\n",
            "Epoch 152/300\n",
            "6/6 [==============================] - 0s 1ms/step - loss: 0.8713\n",
            "Epoch 153/300\n",
            "6/6 [==============================] - 0s 1ms/step - loss: 0.8719\n",
            "Epoch 154/300\n",
            "6/6 [==============================] - 0s 1ms/step - loss: 0.8739\n",
            "Epoch 155/300\n",
            "6/6 [==============================] - 0s 1ms/step - loss: 0.8756\n",
            "Epoch 156/300\n",
            "6/6 [==============================] - 0s 1ms/step - loss: 0.8718\n",
            "Epoch 157/300\n",
            "6/6 [==============================] - 0s 1ms/step - loss: 0.8706\n",
            "Epoch 158/300\n",
            "6/6 [==============================] - 0s 1ms/step - loss: 0.8705\n",
            "Epoch 159/300\n",
            "6/6 [==============================] - 0s 1ms/step - loss: 0.8704\n",
            "Epoch 160/300\n",
            "6/6 [==============================] - 0s 1ms/step - loss: 0.8713\n",
            "Epoch 161/300\n",
            "6/6 [==============================] - 0s 1ms/step - loss: 0.8717\n",
            "Epoch 162/300\n",
            "6/6 [==============================] - 0s 1ms/step - loss: 0.8730\n",
            "Epoch 163/300\n",
            "6/6 [==============================] - 0s 1ms/step - loss: 0.8761\n",
            "Epoch 164/300\n",
            "6/6 [==============================] - 0s 1ms/step - loss: 0.8711\n",
            "Epoch 165/300\n",
            "6/6 [==============================] - 0s 1ms/step - loss: 0.8714\n",
            "Epoch 166/300\n",
            "6/6 [==============================] - 0s 1ms/step - loss: 0.8720\n",
            "Epoch 167/300\n",
            "6/6 [==============================] - 0s 1ms/step - loss: 0.8718\n",
            "Epoch 168/300\n",
            "6/6 [==============================] - 0s 1ms/step - loss: 0.8694\n",
            "Epoch 169/300\n",
            "6/6 [==============================] - 0s 1ms/step - loss: 0.8741\n",
            "Epoch 170/300\n",
            "6/6 [==============================] - 0s 1ms/step - loss: 0.8768\n",
            "Epoch 171/300\n",
            "6/6 [==============================] - 0s 1ms/step - loss: 0.8755\n",
            "Epoch 172/300\n",
            "6/6 [==============================] - 0s 2ms/step - loss: 0.8753\n",
            "Epoch 173/300\n",
            "6/6 [==============================] - 0s 2ms/step - loss: 0.8742\n",
            "Epoch 174/300\n",
            "6/6 [==============================] - 0s 2ms/step - loss: 0.8709\n",
            "Epoch 175/300\n",
            "6/6 [==============================] - 0s 2ms/step - loss: 0.8716\n",
            "Epoch 176/300\n",
            "6/6 [==============================] - 0s 3ms/step - loss: 0.8703\n",
            "Epoch 177/300\n",
            "6/6 [==============================] - 0s 2ms/step - loss: 0.9087\n",
            "Epoch 178/300\n",
            "6/6 [==============================] - 0s 2ms/step - loss: 0.9108\n",
            "Epoch 179/300\n",
            "6/6 [==============================] - 0s 2ms/step - loss: 0.8766\n",
            "Epoch 180/300\n",
            "6/6 [==============================] - 0s 1ms/step - loss: 0.8732\n",
            "Epoch 181/300\n",
            "6/6 [==============================] - 0s 2ms/step - loss: 0.8772\n",
            "Epoch 182/300\n",
            "6/6 [==============================] - 0s 2ms/step - loss: 0.8765\n",
            "Epoch 183/300\n",
            "6/6 [==============================] - 0s 1ms/step - loss: 0.8769\n",
            "Epoch 184/300\n",
            "6/6 [==============================] - 0s 1ms/step - loss: 0.8760\n",
            "Epoch 185/300\n",
            "6/6 [==============================] - 0s 2ms/step - loss: 0.8695\n",
            "Epoch 186/300\n",
            "6/6 [==============================] - 0s 2ms/step - loss: 0.8744\n",
            "Epoch 187/300\n",
            "6/6 [==============================] - 0s 2ms/step - loss: 0.8707\n",
            "Epoch 188/300\n",
            "6/6 [==============================] - 0s 2ms/step - loss: 0.8705\n",
            "Epoch 189/300\n",
            "6/6 [==============================] - 0s 3ms/step - loss: 0.8760\n",
            "Epoch 190/300\n",
            "6/6 [==============================] - 0s 2ms/step - loss: 0.8745\n",
            "Epoch 191/300\n",
            "6/6 [==============================] - 0s 2ms/step - loss: 0.8708\n",
            "Epoch 192/300\n",
            "6/6 [==============================] - 0s 1ms/step - loss: 0.8731\n",
            "Epoch 193/300\n",
            "6/6 [==============================] - 0s 2ms/step - loss: 0.8717\n",
            "Epoch 194/300\n",
            "6/6 [==============================] - 0s 1ms/step - loss: 0.8718\n",
            "Epoch 195/300\n",
            "6/6 [==============================] - 0s 2ms/step - loss: 0.8698\n",
            "Epoch 196/300\n",
            "6/6 [==============================] - 0s 1ms/step - loss: 0.8756\n",
            "Epoch 197/300\n",
            "6/6 [==============================] - 0s 2ms/step - loss: 0.9036\n",
            "Epoch 198/300\n",
            "6/6 [==============================] - 0s 2ms/step - loss: 0.9052\n",
            "Epoch 199/300\n",
            "6/6 [==============================] - 0s 1ms/step - loss: 0.8665\n",
            "Epoch 200/300\n",
            "6/6 [==============================] - 0s 2ms/step - loss: 0.8879\n",
            "Epoch 201/300\n",
            "6/6 [==============================] - 0s 2ms/step - loss: 0.8783\n",
            "Epoch 202/300\n",
            "6/6 [==============================] - 0s 2ms/step - loss: 0.8739\n",
            "Epoch 203/300\n",
            "6/6 [==============================] - 0s 2ms/step - loss: 0.8721\n",
            "Epoch 204/300\n",
            "6/6 [==============================] - 0s 2ms/step - loss: 0.8775\n",
            "Epoch 205/300\n",
            "6/6 [==============================] - 0s 2ms/step - loss: 0.8720\n",
            "Epoch 206/300\n",
            "6/6 [==============================] - 0s 2ms/step - loss: 0.8720\n",
            "Epoch 207/300\n",
            "6/6 [==============================] - 0s 2ms/step - loss: 0.8746\n",
            "Epoch 208/300\n",
            "6/6 [==============================] - 0s 2ms/step - loss: 0.8736\n",
            "Epoch 209/300\n",
            "6/6 [==============================] - 0s 2ms/step - loss: 0.8709\n",
            "Epoch 210/300\n",
            "6/6 [==============================] - 0s 2ms/step - loss: 0.8710\n",
            "Epoch 211/300\n",
            "6/6 [==============================] - 0s 2ms/step - loss: 0.8705\n",
            "Epoch 212/300\n",
            "6/6 [==============================] - 0s 2ms/step - loss: 0.8721\n",
            "Epoch 213/300\n",
            "6/6 [==============================] - 0s 2ms/step - loss: 0.8720\n",
            "Epoch 214/300\n",
            "6/6 [==============================] - 0s 1ms/step - loss: 0.8710\n",
            "Epoch 215/300\n",
            "6/6 [==============================] - 0s 3ms/step - loss: 0.8711\n",
            "Epoch 216/300\n",
            "6/6 [==============================] - 0s 1ms/step - loss: 0.8722\n",
            "Epoch 217/300\n",
            "6/6 [==============================] - 0s 1ms/step - loss: 0.8725\n",
            "Epoch 218/300\n",
            "6/6 [==============================] - 0s 2ms/step - loss: 0.8667\n",
            "Epoch 219/300\n",
            "6/6 [==============================] - 0s 2ms/step - loss: 0.8839\n",
            "Epoch 220/300\n",
            "6/6 [==============================] - 0s 1ms/step - loss: 0.8789\n",
            "Epoch 221/300\n",
            "6/6 [==============================] - 0s 2ms/step - loss: 0.8750\n",
            "Epoch 222/300\n",
            "6/6 [==============================] - 0s 2ms/step - loss: 0.8820\n",
            "Epoch 223/300\n",
            "6/6 [==============================] - 0s 2ms/step - loss: 0.8755\n",
            "Epoch 224/300\n",
            "6/6 [==============================] - 0s 2ms/step - loss: 0.8725\n",
            "Epoch 225/300\n",
            "6/6 [==============================] - 0s 2ms/step - loss: 0.8767\n",
            "Epoch 226/300\n",
            "6/6 [==============================] - 0s 1ms/step - loss: 0.8967\n",
            "Epoch 227/300\n",
            "6/6 [==============================] - 0s 2ms/step - loss: 0.9290\n",
            "Epoch 228/300\n",
            "6/6 [==============================] - 0s 1ms/step - loss: 0.8825\n",
            "Epoch 229/300\n",
            "6/6 [==============================] - 0s 2ms/step - loss: 0.8766\n",
            "Epoch 230/300\n",
            "6/6 [==============================] - 0s 2ms/step - loss: 0.8802\n",
            "Epoch 231/300\n",
            "6/6 [==============================] - 0s 2ms/step - loss: 0.8724\n",
            "Epoch 232/300\n",
            "6/6 [==============================] - 0s 2ms/step - loss: 0.8726\n",
            "Epoch 233/300\n",
            "6/6 [==============================] - 0s 2ms/step - loss: 0.8728\n",
            "Epoch 234/300\n",
            "6/6 [==============================] - 0s 1ms/step - loss: 0.8805\n",
            "Epoch 235/300\n",
            "6/6 [==============================] - 0s 1ms/step - loss: 0.8983\n",
            "Epoch 236/300\n",
            "6/6 [==============================] - 0s 1ms/step - loss: 0.8813\n",
            "Epoch 237/300\n",
            "6/6 [==============================] - 0s 1ms/step - loss: 0.8894\n",
            "Epoch 238/300\n",
            "6/6 [==============================] - 0s 1ms/step - loss: 0.8768\n",
            "Epoch 239/300\n",
            "6/6 [==============================] - 0s 3ms/step - loss: 0.8716\n",
            "Epoch 240/300\n",
            "6/6 [==============================] - 0s 1ms/step - loss: 0.8837\n",
            "Epoch 241/300\n",
            "6/6 [==============================] - 0s 2ms/step - loss: 0.8728\n",
            "Epoch 242/300\n",
            "6/6 [==============================] - 0s 2ms/step - loss: 0.8824\n",
            "Epoch 243/300\n",
            "6/6 [==============================] - 0s 2ms/step - loss: 0.9043\n",
            "Epoch 244/300\n",
            "6/6 [==============================] - 0s 2ms/step - loss: 0.8733\n",
            "Epoch 245/300\n",
            "6/6 [==============================] - 0s 2ms/step - loss: 0.8878\n",
            "Epoch 246/300\n",
            "6/6 [==============================] - 0s 2ms/step - loss: 0.8758\n",
            "Epoch 247/300\n",
            "6/6 [==============================] - 0s 1ms/step - loss: 0.8790\n",
            "Epoch 248/300\n",
            "6/6 [==============================] - 0s 2ms/step - loss: 0.8823\n",
            "Epoch 249/300\n",
            "6/6 [==============================] - 0s 1ms/step - loss: 0.8743\n",
            "Epoch 250/300\n",
            "6/6 [==============================] - 0s 1ms/step - loss: 0.8699\n",
            "Epoch 251/300\n",
            "6/6 [==============================] - 0s 1ms/step - loss: 0.8729\n",
            "Epoch 252/300\n",
            "6/6 [==============================] - 0s 2ms/step - loss: 0.8798\n",
            "Epoch 253/300\n",
            "6/6 [==============================] - 0s 3ms/step - loss: 0.8731\n",
            "Epoch 254/300\n",
            "6/6 [==============================] - 0s 2ms/step - loss: 0.8716\n",
            "Epoch 255/300\n",
            "6/6 [==============================] - 0s 2ms/step - loss: 0.8710\n",
            "Epoch 256/300\n",
            "6/6 [==============================] - 0s 2ms/step - loss: 0.8727\n",
            "Epoch 257/300\n",
            "6/6 [==============================] - 0s 2ms/step - loss: 0.8731\n",
            "Epoch 258/300\n",
            "6/6 [==============================] - 0s 2ms/step - loss: 0.8733\n",
            "Epoch 259/300\n",
            "6/6 [==============================] - 0s 3ms/step - loss: 0.8790\n",
            "Epoch 260/300\n",
            "6/6 [==============================] - 0s 2ms/step - loss: 0.8865\n",
            "Epoch 261/300\n",
            "6/6 [==============================] - 0s 2ms/step - loss: 0.8790\n",
            "Epoch 262/300\n",
            "6/6 [==============================] - 0s 4ms/step - loss: 0.8796\n",
            "Epoch 263/300\n",
            "6/6 [==============================] - 0s 3ms/step - loss: 0.8807\n",
            "Epoch 264/300\n",
            "6/6 [==============================] - 0s 2ms/step - loss: 0.8764\n",
            "Epoch 265/300\n",
            "6/6 [==============================] - 0s 2ms/step - loss: 0.8745\n",
            "Epoch 266/300\n",
            "6/6 [==============================] - 0s 3ms/step - loss: 0.8813\n",
            "Epoch 267/300\n",
            "6/6 [==============================] - 0s 1ms/step - loss: 0.8698\n",
            "Epoch 268/300\n",
            "6/6 [==============================] - 0s 1ms/step - loss: 0.8773\n",
            "Epoch 269/300\n",
            "6/6 [==============================] - 0s 2ms/step - loss: 0.8892\n",
            "Epoch 270/300\n",
            "6/6 [==============================] - 0s 1ms/step - loss: 0.8809\n",
            "Epoch 271/300\n",
            "6/6 [==============================] - 0s 2ms/step - loss: 0.8724\n",
            "Epoch 272/300\n",
            "6/6 [==============================] - 0s 1ms/step - loss: 0.8742\n",
            "Epoch 273/300\n",
            "6/6 [==============================] - 0s 2ms/step - loss: 0.8776\n",
            "Epoch 274/300\n",
            "6/6 [==============================] - 0s 2ms/step - loss: 0.8709\n",
            "Epoch 275/300\n",
            "6/6 [==============================] - 0s 1ms/step - loss: 0.8718\n",
            "Epoch 276/300\n",
            "6/6 [==============================] - 0s 2ms/step - loss: 0.8747\n",
            "Epoch 277/300\n",
            "6/6 [==============================] - 0s 2ms/step - loss: 0.8743\n",
            "Epoch 278/300\n",
            "6/6 [==============================] - 0s 1ms/step - loss: 0.8891\n",
            "Epoch 279/300\n",
            "6/6 [==============================] - 0s 1ms/step - loss: 0.8741\n",
            "Epoch 280/300\n",
            "6/6 [==============================] - 0s 3ms/step - loss: 0.8783\n",
            "Epoch 281/300\n",
            "6/6 [==============================] - 0s 1ms/step - loss: 0.8822\n",
            "Epoch 282/300\n",
            "6/6 [==============================] - 0s 2ms/step - loss: 0.8865\n",
            "Epoch 283/300\n",
            "6/6 [==============================] - 0s 2ms/step - loss: 0.8941\n",
            "Epoch 284/300\n",
            "6/6 [==============================] - 0s 1ms/step - loss: 0.9066\n",
            "Epoch 285/300\n",
            "6/6 [==============================] - 0s 2ms/step - loss: 0.8784\n",
            "Epoch 286/300\n",
            "6/6 [==============================] - 0s 2ms/step - loss: 0.8715\n",
            "Epoch 287/300\n",
            "6/6 [==============================] - 0s 2ms/step - loss: 0.8721\n",
            "Epoch 288/300\n",
            "6/6 [==============================] - 0s 1ms/step - loss: 0.8714\n",
            "Epoch 289/300\n",
            "6/6 [==============================] - 0s 2ms/step - loss: 0.8732\n",
            "Epoch 290/300\n",
            "6/6 [==============================] - 0s 2ms/step - loss: 0.8768\n",
            "Epoch 291/300\n",
            "6/6 [==============================] - 0s 2ms/step - loss: 0.8858\n",
            "Epoch 292/300\n",
            "6/6 [==============================] - 0s 2ms/step - loss: 0.8794\n",
            "Epoch 293/300\n",
            "6/6 [==============================] - 0s 1ms/step - loss: 0.8715\n",
            "Epoch 294/300\n",
            "6/6 [==============================] - 0s 2ms/step - loss: 0.8720\n",
            "Epoch 295/300\n",
            "6/6 [==============================] - 0s 2ms/step - loss: 0.8708\n",
            "Epoch 296/300\n",
            "6/6 [==============================] - 0s 2ms/step - loss: 0.8714\n",
            "Epoch 297/300\n",
            "6/6 [==============================] - 0s 1ms/step - loss: 0.8820\n",
            "Epoch 298/300\n",
            "6/6 [==============================] - 0s 2ms/step - loss: 0.8742\n",
            "Epoch 299/300\n",
            "6/6 [==============================] - 0s 2ms/step - loss: 0.8826\n",
            "Epoch 300/300\n",
            "6/6 [==============================] - 0s 2ms/step - loss: 0.8795\n"
          ],
          "name": "stdout"
        }
      ]
    },
    {
      "cell_type": "code",
      "metadata": {
        "id": "ovF_gbVOopHv",
        "outputId": "dacc8459-594f-439a-fe7e-3430d4f25d48",
        "colab": {
          "base_uri": "https://localhost:8080/",
          "height": 282
        }
      },
      "source": [
        "plt.plot(r.history['loss'], label = 'loss')\n"
      ],
      "execution_count": 11,
      "outputs": [
        {
          "output_type": "execute_result",
          "data": {
            "text/plain": [
              "[<matplotlib.lines.Line2D at 0x7f6a408bffd0>]"
            ]
          },
          "metadata": {
            "tags": []
          },
          "execution_count": 11
        },
        {
          "output_type": "display_data",
          "data": {
            "image/png": "[encoded data removed]",
            "text/plain": [
              "<Figure size 432x288 with 1 Axes>"
            ]
          },
          "metadata": {
            "tags": [],
            "needs_background": "light"
          }
        }
      ]
    },
    {
      "cell_type": "code",
      "metadata": {
        "id": "JGvzg5v5xtK0",
        "outputId": "cd5d3e80-c63c-49e7-a659-a807c494f895",
        "colab": {
          "base_uri": "https://localhost:8080/"
        }
      },
      "source": [
        "#Get the slope of the line \n",
        "\n",
        "print (model.layers)\n",
        "print (model.layers[0].get_weights())"
      ],
      "execution_count": 12,
      "outputs": [
        {
          "output_type": "stream",
          "text": [
            "[<tensorflow.python.keras.layers.core.Dense object at 0x7f6a496aac88>]\n",
            "[array([[0.3368579]], dtype=float32), array([17.771112], dtype=float32)]\n"
          ],
          "name": "stdout"
        }
      ]
    },
    {
      "cell_type": "code",
      "metadata": {
        "id": "bhApK-bwy_Rh"
      },
      "source": [
        "#The slope of the line is \n",
        "a = model.layers[0].get_weights()[0][0,0]"
      ],
      "execution_count": 13,
      "outputs": []
    },
    {
      "cell_type": "code",
      "metadata": {
        "id": "t52oB6oJzQQV",
        "outputId": "eb6b46cb-4ea0-468a-c3e4-af7a1a7fd448",
        "colab": {
          "base_uri": "https://localhost:8080/"
        }
      },
      "source": [
        "print (\"Time to double according to Moore's law:\", np.log(2)/a)"
      ],
      "execution_count": 14,
      "outputs": [
        {
          "output_type": "stream",
          "text": [
            "Time to double according to Moore's law: 2.057684297068754\n"
          ],
          "name": "stdout"
        }
      ]
    },
    {
      "cell_type": "code",
      "metadata": {
        "id": "Tooc2l1n4JeL",
        "outputId": "e1d50b42-58b8-4b38-b5ce-28e73d180b3f",
        "colab": {
          "base_uri": "https://localhost:8080/"
        }
      },
      "source": [
        "#for the analytical solution time to double the transistors according to Moore's law\n",
        "\n",
        "X = np.array(X).flatten()\n",
        "Y = np.array(Y)\n",
        "denominator = X.dot(X) - X.mean()*X.sum()\n",
        "a = (X.dot(Y) - Y.mean()*X.sum())/denominator\n",
        "b = (Y.mean()*X.dot(X)-X.mean()*X.dot (Y))/denominator\n",
        "print (a, b)\n",
        "print (\"Time to double according to Moore's law: \", np.log(2)/a)"
      ],
      "execution_count": 15,
      "outputs": [
        {
          "output_type": "stream",
          "text": [
            "0.341682487387313 17.764939393631764\n",
            "Time to double according to Moore's law:  2.0286295205239204\n"
          ],
          "name": "stdout"
        }
      ]
    },
    {
      "cell_type": "code",
      "metadata": {
        "id": "82N3Z0L96a_E",
        "outputId": "05f4671e-9c09-4b5c-d413-0e8ff2c34040",
        "colab": {
          "base_uri": "https://localhost:8080/",
          "height": 282
        }
      },
      "source": [
        "Yhat = model.predict(X).flatten()\n",
        "plt.scatter (X, Y)\n",
        "plt.plot (X, Yhat)"
      ],
      "execution_count": 16,
      "outputs": [
        {
          "output_type": "execute_result",
          "data": {
            "text/plain": [
              "[<matplotlib.lines.Line2D at 0x7f6a49701278>]"
            ]
          },
          "metadata": {
            "tags": []
          },
          "execution_count": 16
        },
        {
          "output_type": "display_data",
          "data": {
            "image/png": "[encoded data removed]",
            "text/plain": [
              "<Figure size 432x288 with 1 Axes>"
            ]
          },
          "metadata": {
            "tags": [],
            "needs_background": "light"
          }
        }
      ]
    },
    {
      "cell_type": "code",
      "metadata": {
        "id": "4H_sh6yZ7rVE",
        "outputId": "78a735ca-6da6-4e30-bfb2-29abae33be62",
        "colab": {
          "base_uri": "https://localhost:8080/"
        }
      },
      "source": [
        "#Now to compare the result of the prediction of the model and the accuracy, compute the result manually\n",
        "#Hence the manual calculation below. \n",
        "\n",
        "#get the weights \n",
        "\n",
        "w, b = model.layers[0].get_weights()\n",
        "\n",
        "#Reshape the input since it was flattened im the previous block \n",
        "X = X.reshape (-1, 1)\n",
        "\n",
        "#Now compute Wx + b -----> w and b has already been computed above and input X has already been reshaped =====> Y = W.X + b \n",
        "#Let output Y be denoted by Yhat2 \n",
        "\n",
        "Yhat2 = (X.dot(w) + b).flatten()\n",
        "\n",
        "np.allclose(Yhat, Yhat2)\n",
        "\n"
      ],
      "execution_count": 17,
      "outputs": [
        {
          "output_type": "execute_result",
          "data": {
            "text/plain": [
              "True"
            ]
          },
          "metadata": {
            "tags": []
          },
          "execution_count": 17
        }
      ]
    },
    {
      "cell_type": "code",
      "metadata": {
        "id": "SzWWL2uFUuxU"
      },
      "source": [
        "model.save('logisticregression.h5')"
      ],
      "execution_count": 22,
      "outputs": []
    },
    {
      "cell_type": "code",
      "metadata": {
        "id": "ir_1Judncr7F",
        "outputId": "ae50ca76-0912-44d3-dda4-c4e0e9431449",
        "colab": {
          "base_uri": "https://localhost:8080/"
        }
      },
      "source": [
        "!ls -lh"
      ],
      "execution_count": 23,
      "outputs": [
        {
          "output_type": "stream",
          "text": [
            "total 48K\n",
            "-rw-r--r-- 1 root root  18K Nov 10 18:42 logisticregression.h5\n",
            "-rw-r--r-- 1 root root  18K Nov 10 18:37 losgisticregression.h5\n",
            "-rw-r--r-- 1 root root 2.3K Nov 10 18:35 moore.csv\n",
            "drwxr-xr-x 1 root root 4.0K Nov  6 17:30 sample_data\n"
          ],
          "name": "stdout"
        }
      ]
    },
    {
      "cell_type": "code",
      "metadata": {
        "id": "i3Pu0MjucyoU",
        "outputId": "c792b64f-bf20-4ca4-d199-e5e2a7158fb2",
        "colab": {
          "base_uri": "https://localhost:8080/"
        }
      },
      "source": [
        "model = tf.keras.models.load_model('logisticregression.h5')\n",
        "print (model.layers)\n",
        "model.evaluate(X, Yhat)\n",
        "\n"
      ],
      "execution_count": 27,
      "outputs": [
        {
          "output_type": "stream",
          "text": [
            "[<tensorflow.python.keras.layers.core.Dense object at 0x7f6a40852320>]\n",
            "6/6 [==============================] - 0s 1ms/step - loss: 0.0000e+00\n"
          ],
          "name": "stdout"
        },
        {
          "output_type": "execute_result",
          "data": {
            "text/plain": [
              "0.0"
            ]
          },
          "metadata": {
            "tags": []
          },
          "execution_count": 27
        }
      ]
    },
    {
      "cell_type": "code",
      "metadata": {
        "id": "ERlYF3ntdZkM",
        "outputId": "ea3d071c-835d-4d13-dee8-a61e7b20b7b6",
        "colab": {
          "base_uri": "https://localhost:8080/",
          "height": 17
        }
      },
      "source": [
        "from google.colab import files\n",
        "files.download ('logisticregression.h5')"
      ],
      "execution_count": 29,
      "outputs": [
        {
          "output_type": "display_data",
          "data": {
            "application/javascript": [
              "\n",
              "    async function download(id, filename, size) {\n",
              "      if (!google.colab.kernel.accessAllowed) {\n",
              "        return;\n",
              "      }\n",
              "      const div = document.createElement('div');\n",
              "      const label = document.createElement('label');\n",
              "      label.textContent = `Downloading \"${filename}\": `;\n",
              "      div.appendChild(label);\n",
              "      const progress = document.createElement('progress');\n",
              "      progress.max = size;\n",
              "      div.appendChild(progress);\n",
              "      document.body.appendChild(div);\n",
              "\n",
              "      const buffers = [];\n",
              "      let downloaded = 0;\n",
              "\n",
              "      const channel = await google.colab.kernel.comms.open(id);\n",
              "      // Send a message to notify the kernel that we're ready.\n",
              "      channel.send({})\n",
              "\n",
              "      for await (const message of channel.messages) {\n",
              "        // Send a message to notify the kernel that we're ready.\n",
              "        channel.send({})\n",
              "        if (message.buffers) {\n",
              "          for (const buffer of message.buffers) {\n",
              "            buffers.push(buffer);\n",
              "            downloaded += buffer.byteLength;\n",
              "            progress.value = downloaded;\n",
              "          }\n",
              "        }\n",
              "      }\n",
              "      const blob = new Blob(buffers, {type: 'application/binary'});\n",
              "      const a = document.createElement('a');\n",
              "      a.href = window.URL.createObjectURL(blob);\n",
              "      a.download = filename;\n",
              "      div.appendChild(a);\n",
              "      a.click();\n",
              "      div.remove();\n",
              "    }\n",
              "  "
            ],
            "text/plain": [
              "<IPython.core.display.Javascript object>"
            ]
          },
          "metadata": {
            "tags": []
          }
        },
        {
          "output_type": "display_data",
          "data": {
            "application/javascript": [
              "download(\"download_166c1481-e93d-43b4-9732-1efec60d9193\", \"logisticregression.h5\", 17912)"
            ],
            "text/plain": [
              "<IPython.core.display.Javascript object>"
            ]
          },
          "metadata": {
            "tags": []
          }
        }
      ]
    },
    {
      "cell_type": "code",
      "metadata": {
        "id": "4ygiGFeseb0s"
      },
      "source": [
        ""
      ],
      "execution_count": null,
      "outputs": []
    }
  ]
}