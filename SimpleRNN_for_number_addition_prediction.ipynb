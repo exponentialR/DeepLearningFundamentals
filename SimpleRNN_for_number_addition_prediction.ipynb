{
  "nbformat": 4,
  "nbformat_minor": 0,
  "metadata": {
    "colab": {
      "name": "SimpleRNN for number addition prediction.ipynb",
      "provenance": [],
      "authorship_tag": "ABX9TyO5/XUhhAwa+mKuAvYWcXXO",
      "include_colab_link": true
    },
    "kernelspec": {
      "name": "python3",
      "display_name": "Python 3"
    }
  },
  "cells": [
    {
      "cell_type": "markdown",
      "metadata": {
        "id": "view-in-github",
        "colab_type": "text"
      },
      "source": [
        "<a href=\"https://colab.research.google.com/github/exponentialR/DeepLearningFundamentals/blob/confusion/SimpleRNN_for_number_addition_prediction.ipynb\" target=\"_parent\"><img src=\"https://colab.research.google.com/assets/colab-badge.svg\" alt=\"Open In Colab\"/></a>"
      ]
    },
    {
      "cell_type": "code",
      "metadata": {
        "id": "Rmyj3RqsHRrs"
      },
      "source": [
        "import numpy as np \n",
        "\n",
        "from tensorflow.keras.models import Sequential\n",
        "from tensorflow.keras.layers import TimeDistributed, Dense, Dropout, SimpleRNN, RepeatVector \n",
        "from tensorflow.keras.callbacks import EarlyStopping, LambdaCallback\n",
        "\n",
        "from termcolor import colored "
      ],
      "execution_count": 38,
      "outputs": []
    },
    {
      "cell_type": "code",
      "metadata": {
        "id": "b8ZOLhfPHqz-"
      },
      "source": [
        "#Generate Data\n",
        "\n",
        "all_chars = '0123456789+'"
      ],
      "execution_count": 39,
      "outputs": []
    },
    {
      "cell_type": "code",
      "metadata": {
        "id": "nWisHKwKH-CE",
        "outputId": "d97ce044-292b-4e79-c2e3-3a23ef85cefb",
        "colab": {
          "base_uri": "https://localhost:8080/"
        }
      },
      "source": [
        "#Define number of features \n",
        "num_features = len(all_chars)\n",
        "print('number of features:', num_features)\n",
        "char_to_index = dict((c,i) for i, c in enumerate (all_chars))\n",
        "index_to_char = dict((i, c) for i, c in enumerate (all_chars))\n"
      ],
      "execution_count": 40,
      "outputs": [
        {
          "output_type": "stream",
          "text": [
            "number of features: 11\n"
          ],
          "name": "stdout"
        }
      ]
    },
    {
      "cell_type": "code",
      "metadata": {
        "id": "MAfvtmgRIyD-",
        "outputId": "1698cc65-36f3-4e91-ba27-03ccc01b0691",
        "colab": {
          "base_uri": "https://localhost:8080/"
        }
      },
      "source": [
        "#Define a function to define one single example and label\n",
        "def generate_data():\n",
        "  first = np.random.randint(0, 100)\n",
        "  second = np.random.randint(0, 100)\n",
        "  example = str(first)+ '+' + str(second)\n",
        "  label = str(first+second)\n",
        "  return example, label\n",
        "generate_data()"
      ],
      "execution_count": 41,
      "outputs": [
        {
          "output_type": "execute_result",
          "data": {
            "text/plain": [
              "('11+31', '42')"
            ]
          },
          "metadata": {
            "tags": []
          },
          "execution_count": 41
        }
      ]
    },
    {
      "cell_type": "code",
      "metadata": {
        "id": "IQegMhU8JhsK",
        "outputId": "e4a7294d-04c9-4eb6-9912-b7ebdc6ac434",
        "colab": {
          "base_uri": "https://localhost:8080/"
        }
      },
      "source": [
        "#Create a Model \n",
        "\n",
        "hidden_units = 128 \n",
        "max_time_steps = 5\n",
        "\n",
        "#Encoder \n",
        "model = Sequential([\n",
        "    SimpleRNN(hidden_units, input_shape=(None, num_features)),\n",
        "    RepeatVector(max_time_steps),\n",
        "#Decoder| another RNN layer is used \n",
        "    SimpleRNN(hidden_units, return_sequences=True),\n",
        "    TimeDistributed(Dense(num_features, activation='softmax'))\n",
        "])\n",
        "\n",
        "model.compile(\n",
        "    loss='categorical_crossentropy',\n",
        "    optimizer = 'adam',\n",
        "    metrics = ['accuracy']\n",
        ")\n",
        "\n",
        "model.summary()"
      ],
      "execution_count": 42,
      "outputs": [
        {
          "output_type": "stream",
          "text": [
            "Model: \"sequential_4\"\n",
            "_________________________________________________________________\n",
            "Layer (type)                 Output Shape              Param #   \n",
            "=================================================================\n",
            "simple_rnn_8 (SimpleRNN)     (None, 128)               17920     \n",
            "_________________________________________________________________\n",
            "repeat_vector_4 (RepeatVecto (None, 5, 128)            0         \n",
            "_________________________________________________________________\n",
            "simple_rnn_9 (SimpleRNN)     (None, 5, 128)            32896     \n",
            "_________________________________________________________________\n",
            "time_distributed_4 (TimeDist (None, 5, 11)             1419      \n",
            "=================================================================\n",
            "Total params: 52,235\n",
            "Trainable params: 52,235\n",
            "Non-trainable params: 0\n",
            "_________________________________________________________________\n"
          ],
          "name": "stdout"
        }
      ]
    },
    {
      "cell_type": "code",
      "metadata": {
        "id": "nejNk20xMhJB",
        "outputId": "a413460e-ab3b-43f5-a3c0-929935618c13",
        "colab": {
          "base_uri": "https://localhost:8080/"
        }
      },
      "source": [
        "#Vectorize and Devectorize the Data\n",
        "\n",
        "def Vectorize_example(example, label):\n",
        "  x = np.zeros((max_time_steps, num_features))\n",
        "  y = np.zeros((max_time_steps, num_features))\n",
        "\n",
        "  diff_x = max_time_steps - len(example)\n",
        "  diff_y = max_time_steps - len(label)\n",
        "\n",
        "  for i, c in enumerate(example):\n",
        "    x[i+diff_x, char_to_index[c]]=1\n",
        "  for i in range (diff_x):\n",
        "    x[i, char_to_index['0']] = 1\n",
        "  for i, c in enumerate(label):\n",
        "    y[i+diff_y, char_to_index[c]]=1\n",
        "  for i in range (diff_y):\n",
        "    y[i, char_to_index['0']] = 1\n",
        "  return x, y \n",
        "\n",
        "e, l = generate_data()\n",
        "print (e, l)\n",
        "x, y = Vectorize_example(e, l)\n",
        "print (x.shape, y.shape)"
      ],
      "execution_count": 43,
      "outputs": [
        {
          "output_type": "stream",
          "text": [
            "66+94 160\n",
            "(5, 11) (5, 11)\n"
          ],
          "name": "stdout"
        }
      ]
    },
    {
      "cell_type": "code",
      "metadata": {
        "id": "_PeXnd6yPpDC",
        "outputId": "4ebac470-db38-40eb-9c74-03306c70b67c",
        "colab": {
          "base_uri": "https://localhost:8080/",
          "height": 35
        }
      },
      "source": [
        "#devectorise \n",
        "\n",
        "def devectorize_example(example):\n",
        "  result = [index_to_char[np.argmax(vec)] for i, vec in enumerate(example)]\n",
        "  return ''.join(result)\n",
        "\n",
        "devectorize_example(x)\n"
      ],
      "execution_count": 44,
      "outputs": [
        {
          "output_type": "execute_result",
          "data": {
            "application/vnd.google.colaboratory.intrinsic+json": {
              "type": "string"
            },
            "text/plain": [
              "'66+94'"
            ]
          },
          "metadata": {
            "tags": []
          },
          "execution_count": 44
        }
      ]
    },
    {
      "cell_type": "code",
      "metadata": {
        "id": "FynEPljLQ95q",
        "outputId": "5475142b-ce34-4ceb-b247-080f2fbfd766",
        "colab": {
          "base_uri": "https://localhost:8080/",
          "height": 35
        }
      },
      "source": [
        "devectorize_example(y)"
      ],
      "execution_count": 45,
      "outputs": [
        {
          "output_type": "execute_result",
          "data": {
            "application/vnd.google.colaboratory.intrinsic+json": {
              "type": "string"
            },
            "text/plain": [
              "'00160'"
            ]
          },
          "metadata": {
            "tags": []
          },
          "execution_count": 45
        }
      ]
    },
    {
      "cell_type": "code",
      "metadata": {
        "id": "ijL0DorlRTlu",
        "outputId": "0fd16d5d-5944-4dd5-ca2f-0a5980a55cec",
        "colab": {
          "base_uri": "https://localhost:8080/"
        }
      },
      "source": [
        "#Create Dataset \n",
        "def create_dataset(num_examples = 2000):\n",
        "  x = np.zeros((num_examples, max_time_steps, num_features))\n",
        "  y = np.zeros((num_examples, max_time_steps, num_features))\n",
        "  for i in range (num_examples):\n",
        "    e, l = generate_data()\n",
        "    e_v, l_v = Vectorize_example(e, l)\n",
        "    x[i] = e_v\n",
        "    y[i] = l_v\n",
        "  return x, y\n",
        "\n",
        "x, y = create_dataset()\n",
        "print(x.shape, y.shape)"
      ],
      "execution_count": 46,
      "outputs": [
        {
          "output_type": "stream",
          "text": [
            "(2000, 5, 11) (2000, 5, 11)\n"
          ],
          "name": "stdout"
        }
      ]
    },
    {
      "cell_type": "code",
      "metadata": {
        "id": "vgup63UpSKfF",
        "outputId": "c82bf032-5e04-46d3-803d-91c85aaa6815",
        "colab": {
          "base_uri": "https://localhost:8080/",
          "height": 35
        }
      },
      "source": [
        "devectorize_example(x[0])"
      ],
      "execution_count": 47,
      "outputs": [
        {
          "output_type": "execute_result",
          "data": {
            "application/vnd.google.colaboratory.intrinsic+json": {
              "type": "string"
            },
            "text/plain": [
              "'17+58'"
            ]
          },
          "metadata": {
            "tags": []
          },
          "execution_count": 47
        }
      ]
    },
    {
      "cell_type": "code",
      "metadata": {
        "id": "NWgo9LhRSwj1",
        "outputId": "43455681-7b24-4b69-8d5c-ba7f5fdf17e8",
        "colab": {
          "base_uri": "https://localhost:8080/",
          "height": 35
        }
      },
      "source": [
        "devectorize_example(y[0])"
      ],
      "execution_count": 48,
      "outputs": [
        {
          "output_type": "execute_result",
          "data": {
            "application/vnd.google.colaboratory.intrinsic+json": {
              "type": "string"
            },
            "text/plain": [
              "'00075'"
            ]
          },
          "metadata": {
            "tags": []
          },
          "execution_count": 48
        }
      ]
    },
    {
      "cell_type": "code",
      "metadata": {
        "id": "GEdcHbWjS0QA",
        "outputId": "1f57bfaf-d625-47b9-8f78-47aff9ef2438",
        "colab": {
          "base_uri": "https://localhost:8080/"
        }
      },
      "source": [
        "#Train the Model \n",
        "\n",
        "l_cb = LambdaCallback(\n",
        "    on_epoch_end=lambda e, l: print('{:.2f}'.format(l['val_accuracy']), end =' _ ')\n",
        "\n",
        ")\n",
        "es_cb = EarlyStopping(monitor='val_loss', patience =10)\n",
        "model.fit(x, y, epochs=500, batch_size=256, validation_split=0.2,\n",
        "          verbose=False, callbacks=[es_cb, l_cb])\n"
      ],
      "execution_count": 50,
      "outputs": [
        {
          "output_type": "stream",
          "text": [
            "0.60 _ 0.60 _ 0.61 _ 0.62 _ 0.62 _ 0.63 _ 0.63 _ 0.65 _ 0.65 _ 0.64 _ 0.65 _ 0.64 _ 0.65 _ 0.65 _ 0.67 _ 0.67 _ 0.67 _ 0.68 _ 0.68 _ 0.68 _ 0.70 _ 0.69 _ 0.70 _ 0.71 _ 0.71 _ 0.71 _ 0.72 _ 0.72 _ 0.72 _ 0.73 _ 0.73 _ 0.73 _ 0.74 _ 0.74 _ 0.74 _ 0.74 _ 0.74 _ 0.75 _ 0.74 _ 0.76 _ 0.76 _ 0.77 _ 0.76 _ 0.76 _ 0.77 _ 0.77 _ 0.77 _ 0.78 _ 0.79 _ 0.79 _ 0.79 _ 0.79 _ 0.80 _ 0.80 _ 0.81 _ 0.81 _ 0.81 _ 0.82 _ 0.83 _ 0.83 _ 0.84 _ 0.84 _ 0.85 _ 0.85 _ 0.85 _ 0.86 _ 0.85 _ 0.86 _ 0.87 _ 0.86 _ 0.87 _ 0.88 _ 0.88 _ 0.89 _ 0.89 _ 0.90 _ 0.89 _ 0.90 _ 0.91 _ 0.91 _ 0.91 _ 0.91 _ 0.91 _ 0.91 _ 0.92 _ 0.91 _ 0.92 _ 0.92 _ 0.92 _ 0.92 _ 0.92 _ 0.93 _ 0.93 _ 0.93 _ 0.93 _ 0.93 _ 0.93 _ 0.94 _ 0.92 _ 0.93 _ 0.93 _ 0.93 _ 0.93 _ 0.95 _ 0.93 _ 0.94 _ 0.94 _ 0.94 _ 0.95 _ 0.94 _ 0.95 _ 0.95 _ 0.94 _ 0.95 _ 0.94 _ 0.95 _ 0.95 _ 0.95 _ 0.95 _ 0.95 _ 0.95 _ 0.95 _ 0.95 _ 0.95 _ 0.95 _ 0.95 _ 0.95 _ 0.96 _ 0.95 _ 0.96 _ 0.95 _ 0.96 _ 0.95 _ 0.96 _ 0.96 _ 0.96 _ 0.95 _ 0.94 _ 0.95 _ 0.95 _ 0.95 _ 0.95 _ 0.96 _ 0.96 _ 0.96 _ 0.95 _ 0.96 _ 0.95 _ 0.96 _ 0.96 _ 0.96 _ 0.96 _ 0.96 _ 0.96 _ 0.96 _ 0.96 _ 0.96 _ 0.96 _ 0.96 _ 0.96 _ 0.96 _ 0.96 _ 0.96 _ 0.96 _ 0.96 _ 0.96 _ 0.96 _ 0.96 _ 0.96 _ 0.96 _ 0.96 _ 0.96 _ 0.96 _ 0.96 _ 0.96 _ 0.96 _ 0.96 _ 0.96 _ 0.96 _ 0.96 _ 0.96 _ 0.96 _ 0.96 _ 0.96 _ 0.96 _ 0.96 _ 0.96 _ 0.96 _ 0.96 _ 0.96 _ 0.96 _ 0.96 _ 0.96 _ 0.96 _ "
          ],
          "name": "stdout"
        },
        {
          "output_type": "execute_result",
          "data": {
            "text/plain": [
              "<tensorflow.python.keras.callbacks.History at 0x7f4a2af69b38>"
            ]
          },
          "metadata": {
            "tags": []
          },
          "execution_count": 50
        }
      ]
    },
    {
      "cell_type": "code",
      "metadata": {
        "id": "Tk7rIldMYIj2",
        "outputId": "8a5f2ef0-ce7b-41cd-85ec-09300bcaa945",
        "colab": {
          "base_uri": "https://localhost:8080/"
        }
      },
      "source": [
        "x_test, y_test = create_dataset(10)\n",
        "preds = model.predict(x_test)\n",
        "\n",
        "for i, pred in enumerate (preds):\n",
        "  y = devectorize_example(y_test[i])\n",
        "  y_hat = devectorize_example(pred)\n",
        "  col ='green'\n",
        "  if y!=y_hat:\n",
        "    col ='red'\n",
        "  out = 'Input: '+devectorize_example(x_test[i])+' Out: '+y+' Pred: '+y_hat\n",
        "  print(colored(out, col))\n"
      ],
      "execution_count": 57,
      "outputs": [
        {
          "output_type": "stream",
          "text": [
            "\u001b[32mInput: 74+64 Out: 00138 Pred: 00138\u001b[0m\n",
            "\u001b[32mInput: 12+72 Out: 00084 Pred: 00084\u001b[0m\n",
            "\u001b[32mInput: 78+80 Out: 00158 Pred: 00158\u001b[0m\n",
            "\u001b[32mInput: 84+72 Out: 00156 Pred: 00156\u001b[0m\n",
            "\u001b[32mInput: 45+13 Out: 00058 Pred: 00058\u001b[0m\n",
            "\u001b[32mInput: 44+26 Out: 00070 Pred: 00070\u001b[0m\n",
            "\u001b[32mInput: 35+63 Out: 00098 Pred: 00098\u001b[0m\n",
            "\u001b[32mInput: 87+21 Out: 00108 Pred: 00108\u001b[0m\n",
            "\u001b[32mInput: 98+60 Out: 00158 Pred: 00158\u001b[0m\n",
            "\u001b[32mInput: 22+98 Out: 00120 Pred: 00120\u001b[0m\n"
          ],
          "name": "stdout"
        }
      ]
    },
    {
      "cell_type": "code",
      "metadata": {
        "id": "Lkk4CtQWZGsd"
      },
      "source": [
        ""
      ],
      "execution_count": null,
      "outputs": []
    }
  ]
}